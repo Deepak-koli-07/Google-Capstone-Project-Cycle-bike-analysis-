{
 "cells": [
  {
   "cell_type": "markdown",
   "id": "1418e253",
   "metadata": {},
   "source": [
    "## Cyclistic: Google Capstone Project with Python"
   ]
  },
  {
   "cell_type": "markdown",
   "id": "61867ea1",
   "metadata": {},
   "source": [
    "### Introduction:\n",
    "Welcome to the Cyclistic bike-share analysis case study! Cyclistic is a bike-share company in Chicago. The director of marketing believes the company’s future success depends on maximizing the number of annual memberships. Therefore, the team wants to understand how casual riders and annual members use Cyclistic bikes differently. From these insights, the team will design a new marketing strategy to convert casual riders into annual members. But first, Cyclistic executives must approve your recommendations, so they must be backed up with compelling data insights and professional data visualizations."
   ]
  },
  {
   "cell_type": "markdown",
   "id": "20b49313",
   "metadata": {},
   "source": [
    "### Characters and Teams:\n",
    "* **Cyclistic**: A bike-share program that features more than 5,800 bicycles and 600 docking stations. Cyclistic sets itself apart by also offering reclining bikes, hand tricycles, and cargo bikes, making bike-share more inclusive to people with disabilities and riders who can’t use a standard two-wheeled bike. The majority of riders opt for traditional bikes; about 8% of riders use the assistive options. Cyclistic users are more likely to ride for leisure, but about 30% use them to commute to work each day.\n",
    "\n",
    "* **Lily Moreno**: The director of marketing and your manager. Moreno is responsible for the development of campaigns and initiatives to promote the bike-share program. These may include email, social media, and other channels.\n",
    "\n",
    "* **Cyclistic marketing analytics team**: A team of data analysts who are responsible for collecting, analyzing, and reporting data that helps guide Cyclistic marketing strategy. You joined this team six months ago and have been busy learning about Cyclistic’s mission and business goals — as well as how you, as a junior data analyst, can help Cyclistic achieve them.\n",
    "\n",
    "* **Cyclistic executive team**: The notoriously detail-oriented executive team will decide whether to approve the recommended marketing program."
   ]
  },
  {
   "cell_type": "markdown",
   "id": "f1b65d5b",
   "metadata": {},
   "source": [
    "## About the company:\n",
    "In 2016, Cyclistic launched a successful bike-share offering. Since then, the program has grown to a fleet of 5,824 bicycles that are geotracked and locked into a network of 692 stations across Chicago. The bikes can be unlocked from one station and returned to any other station in the system anytime. Until now, Cyclistic’s marketing strategy relied on building general awareness and appealing to broad consumer segments. One approach that helped make these things possible was the flexibility of its pricing plans: single-ride passes, full-day passes, and annual memberships.\n",
    "\n",
    "Customers who purchase single-ride or full-day passes are referred to as casual riders. Customers who purchase annual memberships are Cyclistic members. Cyclistic’s finance analysts have concluded that annual members are much more profitable than casual riders. Although the pricing flexibility helps Cyclistic attract more customers, Moreno believes that maximizing the number of annual members will be key to future growth. Rather than creating a marketing campaign that targets all-new customers, Moreno believes there is a very good chance to convert casual riders into members. She notes that casual riders are already aware of the Cyclistic program and have chosen Cyclistic for their mobility needs.\n",
    "\n",
    "Moreno has set a clear goal: Design marketing strategies aimed at converting casual riders into annual members. In order to do that, however, the marketing analyst team needs to better understand how annual members and casual riders differ, why casual riders would buy a membership, and how digital media could affect their marketing tactics. Moreno and her team are interested in analyzing the Cyclistic historical bike trip data to identify trends."
   ]
  },
  {
   "cell_type": "markdown",
   "id": "cbc363be",
   "metadata": {},
   "source": [
    "### Business Task:\n",
    "Understanding the nature of bike usage between annual members & casual members and to introduce strategy to increase the number of annual memberships."
   ]
  },
  {
   "cell_type": "markdown",
   "id": "2c87a275",
   "metadata": {},
   "source": [
    "### Data Preparation"
   ]
  },
  {
   "cell_type": "markdown",
   "id": "8434db85",
   "metadata": {},
   "source": [
    "#### Import Libraries"
   ]
  },
  {
   "cell_type": "code",
   "execution_count": 134,
   "id": "b62e1d3c",
   "metadata": {},
   "outputs": [],
   "source": [
    "import pandas as pd\n",
    "import numpy as np\n",
    "import datetime\n",
    "from matplotlib import pyplot as plt\n",
    "import seaborn as sns\n",
    "import math"
   ]
  },
  {
   "cell_type": "markdown",
   "id": "4797ae7c",
   "metadata": {},
   "source": [
    "#### Import Datasets"
   ]
  },
  {
   "cell_type": "code",
   "execution_count": 135,
   "id": "14a69152",
   "metadata": {},
   "outputs": [],
   "source": [
    "df1=pd.read_csv('202201-divvy-tripdata.csv')\n",
    "df2=pd.read_csv('202202-divvy-tripdata.csv')\n",
    "df3=pd.read_csv('202203-divvy-tripdata.csv')\n",
    "df4=pd.read_csv('202204-divvy-tripdata.csv')\n",
    "df5=pd.read_csv('202205-divvy-tripdata.csv')\n",
    "df6=pd.read_csv('202206-divvy-tripdata.csv')\n",
    "df7=pd.read_csv('202207-divvy-tripdata.csv')\n",
    "df8=pd.read_csv('202208-divvy-tripdata.csv')\n",
    "df9=pd.read_csv('202209-divvy-publictripdata.csv')\n",
    "df10=pd.read_csv('202210-divvy-tripdata.csv')\n",
    "df11=pd.read_csv('202211-divvy-tripdata.csv')\n",
    "df12=pd.read_csv('202212-divvy-tripdata.csv')\n"
   ]
  },
  {
   "cell_type": "code",
   "execution_count": 136,
   "id": "d6744f81",
   "metadata": {},
   "outputs": [],
   "source": [
    "data=[df1,df2,df3,df4,df5,df6,df7,df8,df9,df10,df11,df12]"
   ]
  },
  {
   "cell_type": "code",
   "execution_count": 137,
   "id": "3a382fc4",
   "metadata": {},
   "outputs": [],
   "source": [
    "df_cycle=pd.concat(data,ignore_index=True)"
   ]
  },
  {
   "cell_type": "code",
   "execution_count": 138,
   "id": "753f3d5a",
   "metadata": {},
   "outputs": [
    {
     "data": {
      "text/html": [
       "<div>\n",
       "<style scoped>\n",
       "    .dataframe tbody tr th:only-of-type {\n",
       "        vertical-align: middle;\n",
       "    }\n",
       "\n",
       "    .dataframe tbody tr th {\n",
       "        vertical-align: top;\n",
       "    }\n",
       "\n",
       "    .dataframe thead th {\n",
       "        text-align: right;\n",
       "    }\n",
       "</style>\n",
       "<table border=\"1\" class=\"dataframe\">\n",
       "  <thead>\n",
       "    <tr style=\"text-align: right;\">\n",
       "      <th></th>\n",
       "      <th>ride_id</th>\n",
       "      <th>rideable_type</th>\n",
       "      <th>started_at</th>\n",
       "      <th>ended_at</th>\n",
       "      <th>start_station_name</th>\n",
       "      <th>start_station_id</th>\n",
       "      <th>end_station_name</th>\n",
       "      <th>end_station_id</th>\n",
       "      <th>start_lat</th>\n",
       "      <th>start_lng</th>\n",
       "      <th>end_lat</th>\n",
       "      <th>end_lng</th>\n",
       "      <th>member_casual</th>\n",
       "    </tr>\n",
       "  </thead>\n",
       "  <tbody>\n",
       "    <tr>\n",
       "      <th>0</th>\n",
       "      <td>C2F7DD78E82EC875</td>\n",
       "      <td>electric_bike</td>\n",
       "      <td>2022-01-13 11:59:47</td>\n",
       "      <td>2022-01-13 12:02:44</td>\n",
       "      <td>Glenwood Ave &amp; Touhy Ave</td>\n",
       "      <td>525</td>\n",
       "      <td>Clark St &amp; Touhy Ave</td>\n",
       "      <td>RP-007</td>\n",
       "      <td>42.012800</td>\n",
       "      <td>-87.665906</td>\n",
       "      <td>42.012560</td>\n",
       "      <td>-87.674367</td>\n",
       "      <td>casual</td>\n",
       "    </tr>\n",
       "    <tr>\n",
       "      <th>1</th>\n",
       "      <td>A6CF8980A652D272</td>\n",
       "      <td>electric_bike</td>\n",
       "      <td>2022-01-10 08:41:56</td>\n",
       "      <td>2022-01-10 08:46:17</td>\n",
       "      <td>Glenwood Ave &amp; Touhy Ave</td>\n",
       "      <td>525</td>\n",
       "      <td>Clark St &amp; Touhy Ave</td>\n",
       "      <td>RP-007</td>\n",
       "      <td>42.012763</td>\n",
       "      <td>-87.665967</td>\n",
       "      <td>42.012560</td>\n",
       "      <td>-87.674367</td>\n",
       "      <td>casual</td>\n",
       "    </tr>\n",
       "    <tr>\n",
       "      <th>2</th>\n",
       "      <td>BD0F91DFF741C66D</td>\n",
       "      <td>classic_bike</td>\n",
       "      <td>2022-01-25 04:53:40</td>\n",
       "      <td>2022-01-25 04:58:01</td>\n",
       "      <td>Sheffield Ave &amp; Fullerton Ave</td>\n",
       "      <td>TA1306000016</td>\n",
       "      <td>Greenview Ave &amp; Fullerton Ave</td>\n",
       "      <td>TA1307000001</td>\n",
       "      <td>41.925602</td>\n",
       "      <td>-87.653708</td>\n",
       "      <td>41.925330</td>\n",
       "      <td>-87.665800</td>\n",
       "      <td>member</td>\n",
       "    </tr>\n",
       "    <tr>\n",
       "      <th>3</th>\n",
       "      <td>CBB80ED419105406</td>\n",
       "      <td>classic_bike</td>\n",
       "      <td>2022-01-04 00:18:04</td>\n",
       "      <td>2022-01-04 00:33:00</td>\n",
       "      <td>Clark St &amp; Bryn Mawr Ave</td>\n",
       "      <td>KA1504000151</td>\n",
       "      <td>Paulina St &amp; Montrose Ave</td>\n",
       "      <td>TA1309000021</td>\n",
       "      <td>41.983593</td>\n",
       "      <td>-87.669154</td>\n",
       "      <td>41.961507</td>\n",
       "      <td>-87.671387</td>\n",
       "      <td>casual</td>\n",
       "    </tr>\n",
       "    <tr>\n",
       "      <th>4</th>\n",
       "      <td>DDC963BFDDA51EEA</td>\n",
       "      <td>classic_bike</td>\n",
       "      <td>2022-01-20 01:31:10</td>\n",
       "      <td>2022-01-20 01:37:12</td>\n",
       "      <td>Michigan Ave &amp; Jackson Blvd</td>\n",
       "      <td>TA1309000002</td>\n",
       "      <td>State St &amp; Randolph St</td>\n",
       "      <td>TA1305000029</td>\n",
       "      <td>41.877850</td>\n",
       "      <td>-87.624080</td>\n",
       "      <td>41.884621</td>\n",
       "      <td>-87.627834</td>\n",
       "      <td>member</td>\n",
       "    </tr>\n",
       "  </tbody>\n",
       "</table>\n",
       "</div>"
      ],
      "text/plain": [
       "            ride_id  rideable_type           started_at             ended_at  \\\n",
       "0  C2F7DD78E82EC875  electric_bike  2022-01-13 11:59:47  2022-01-13 12:02:44   \n",
       "1  A6CF8980A652D272  electric_bike  2022-01-10 08:41:56  2022-01-10 08:46:17   \n",
       "2  BD0F91DFF741C66D   classic_bike  2022-01-25 04:53:40  2022-01-25 04:58:01   \n",
       "3  CBB80ED419105406   classic_bike  2022-01-04 00:18:04  2022-01-04 00:33:00   \n",
       "4  DDC963BFDDA51EEA   classic_bike  2022-01-20 01:31:10  2022-01-20 01:37:12   \n",
       "\n",
       "              start_station_name start_station_id  \\\n",
       "0       Glenwood Ave & Touhy Ave              525   \n",
       "1       Glenwood Ave & Touhy Ave              525   \n",
       "2  Sheffield Ave & Fullerton Ave     TA1306000016   \n",
       "3       Clark St & Bryn Mawr Ave     KA1504000151   \n",
       "4    Michigan Ave & Jackson Blvd     TA1309000002   \n",
       "\n",
       "                end_station_name end_station_id  start_lat  start_lng  \\\n",
       "0           Clark St & Touhy Ave         RP-007  42.012800 -87.665906   \n",
       "1           Clark St & Touhy Ave         RP-007  42.012763 -87.665967   \n",
       "2  Greenview Ave & Fullerton Ave   TA1307000001  41.925602 -87.653708   \n",
       "3      Paulina St & Montrose Ave   TA1309000021  41.983593 -87.669154   \n",
       "4         State St & Randolph St   TA1305000029  41.877850 -87.624080   \n",
       "\n",
       "     end_lat    end_lng member_casual  \n",
       "0  42.012560 -87.674367        casual  \n",
       "1  42.012560 -87.674367        casual  \n",
       "2  41.925330 -87.665800        member  \n",
       "3  41.961507 -87.671387        casual  \n",
       "4  41.884621 -87.627834        member  "
      ]
     },
     "execution_count": 138,
     "metadata": {},
     "output_type": "execute_result"
    }
   ],
   "source": [
    "df_cycle.head()"
   ]
  },
  {
   "cell_type": "code",
   "execution_count": 139,
   "id": "be728010",
   "metadata": {},
   "outputs": [
    {
     "name": "stdout",
     "output_type": "stream",
     "text": [
      "<class 'pandas.core.frame.DataFrame'>\n",
      "RangeIndex: 5667717 entries, 0 to 5667716\n",
      "Data columns (total 13 columns):\n",
      " #   Column              Dtype  \n",
      "---  ------              -----  \n",
      " 0   ride_id             object \n",
      " 1   rideable_type       object \n",
      " 2   started_at          object \n",
      " 3   ended_at            object \n",
      " 4   start_station_name  object \n",
      " 5   start_station_id    object \n",
      " 6   end_station_name    object \n",
      " 7   end_station_id      object \n",
      " 8   start_lat           float64\n",
      " 9   start_lng           float64\n",
      " 10  end_lat             float64\n",
      " 11  end_lng             float64\n",
      " 12  member_casual       object \n",
      "dtypes: float64(4), object(9)\n",
      "memory usage: 562.1+ MB\n"
     ]
    }
   ],
   "source": [
    "df_cycle.info()"
   ]
  },
  {
   "cell_type": "code",
   "execution_count": 140,
   "id": "17180b5d",
   "metadata": {
    "scrolled": true
   },
   "outputs": [
    {
     "data": {
      "text/plain": [
       "(5667717, 13)"
      ]
     },
     "execution_count": 140,
     "metadata": {},
     "output_type": "execute_result"
    }
   ],
   "source": [
    "df_cycle.shape"
   ]
  },
  {
   "cell_type": "markdown",
   "id": "785a5367",
   "metadata": {},
   "source": [
    "### Data Processing"
   ]
  },
  {
   "cell_type": "markdown",
   "id": "28b5600a",
   "metadata": {},
   "source": [
    "We will look for the null values and duplicates in the dataset to remove them."
   ]
  },
  {
   "cell_type": "code",
   "execution_count": 141,
   "id": "57113ebc",
   "metadata": {
    "scrolled": false
   },
   "outputs": [
    {
     "data": {
      "text/plain": [
       "ride_id                    0\n",
       "rideable_type              0\n",
       "started_at                 0\n",
       "ended_at                   0\n",
       "start_station_name    833064\n",
       "start_station_id      833064\n",
       "end_station_name      892742\n",
       "end_station_id        892742\n",
       "start_lat                  0\n",
       "start_lng                  0\n",
       "end_lat                 5858\n",
       "end_lng                 5858\n",
       "member_casual              0\n",
       "dtype: int64"
      ]
     },
     "execution_count": 141,
     "metadata": {},
     "output_type": "execute_result"
    }
   ],
   "source": [
    "df_cycle.isnull().sum()"
   ]
  },
  {
   "cell_type": "code",
   "execution_count": 142,
   "id": "6d6c4a49",
   "metadata": {},
   "outputs": [
    {
     "data": {
      "text/plain": [
       "(5667717, 13)"
      ]
     },
     "execution_count": 142,
     "metadata": {},
     "output_type": "execute_result"
    }
   ],
   "source": [
    "df_cycle.shape"
   ]
  },
  {
   "cell_type": "code",
   "execution_count": 143,
   "id": "34437f96",
   "metadata": {},
   "outputs": [
    {
     "data": {
      "text/plain": [
       "5667717"
      ]
     },
     "execution_count": 143,
     "metadata": {},
     "output_type": "execute_result"
    }
   ],
   "source": [
    "len(df_cycle)"
   ]
  },
  {
   "cell_type": "code",
   "execution_count": 144,
   "id": "f7426db9",
   "metadata": {
    "scrolled": true
   },
   "outputs": [
    {
     "data": {
      "text/plain": [
       "(5667717, 13)"
      ]
     },
     "execution_count": 144,
     "metadata": {},
     "output_type": "execute_result"
    }
   ],
   "source": [
    "df_cycle.shape"
   ]
  },
  {
   "cell_type": "code",
   "execution_count": 145,
   "id": "975f4b31",
   "metadata": {},
   "outputs": [
    {
     "data": {
      "text/plain": [
       "ride_id                0.000000\n",
       "rideable_type          0.000000\n",
       "started_at             0.000000\n",
       "ended_at               0.000000\n",
       "start_station_name    14.698405\n",
       "start_station_id      14.698405\n",
       "end_station_name      15.751351\n",
       "end_station_id        15.751351\n",
       "start_lat              0.000000\n",
       "start_lng              0.000000\n",
       "end_lat                0.103357\n",
       "end_lng                0.103357\n",
       "member_casual          0.000000\n",
       "dtype: float64"
      ]
     },
     "execution_count": 145,
     "metadata": {},
     "output_type": "execute_result"
    }
   ],
   "source": [
    "(df_cycle.isna().sum()/len(df_cycle))*100"
   ]
  },
  {
   "cell_type": "markdown",
   "id": "ac9fe23d",
   "metadata": {},
   "source": [
    "The missing values are less than 18%. We can remove them and continue with our analysis"
   ]
  },
  {
   "cell_type": "code",
   "execution_count": 146,
   "id": "f7899cab",
   "metadata": {},
   "outputs": [],
   "source": [
    "df_cycle.dropna(axis=0, inplace=True)"
   ]
  },
  {
   "cell_type": "code",
   "execution_count": 147,
   "id": "9a7f1ed9",
   "metadata": {},
   "outputs": [
    {
     "name": "stdout",
     "output_type": "stream",
     "text": [
      "<class 'pandas.core.frame.DataFrame'>\n",
      "Int64Index: 4369360 entries, 0 to 5667716\n",
      "Data columns (total 13 columns):\n",
      " #   Column              Dtype  \n",
      "---  ------              -----  \n",
      " 0   ride_id             object \n",
      " 1   rideable_type       object \n",
      " 2   started_at          object \n",
      " 3   ended_at            object \n",
      " 4   start_station_name  object \n",
      " 5   start_station_id    object \n",
      " 6   end_station_name    object \n",
      " 7   end_station_id      object \n",
      " 8   start_lat           float64\n",
      " 9   start_lng           float64\n",
      " 10  end_lat             float64\n",
      " 11  end_lng             float64\n",
      " 12  member_casual       object \n",
      "dtypes: float64(4), object(9)\n",
      "memory usage: 466.7+ MB\n"
     ]
    }
   ],
   "source": [
    "df_cycle.info()"
   ]
  },
  {
   "cell_type": "markdown",
   "id": "c6d7b3ca",
   "metadata": {},
   "source": [
    "Checking duplicate values"
   ]
  },
  {
   "cell_type": "code",
   "execution_count": 148,
   "id": "cb3516c0",
   "metadata": {},
   "outputs": [
    {
     "data": {
      "text/html": [
       "<div>\n",
       "<style scoped>\n",
       "    .dataframe tbody tr th:only-of-type {\n",
       "        vertical-align: middle;\n",
       "    }\n",
       "\n",
       "    .dataframe tbody tr th {\n",
       "        vertical-align: top;\n",
       "    }\n",
       "\n",
       "    .dataframe thead th {\n",
       "        text-align: right;\n",
       "    }\n",
       "</style>\n",
       "<table border=\"1\" class=\"dataframe\">\n",
       "  <thead>\n",
       "    <tr style=\"text-align: right;\">\n",
       "      <th></th>\n",
       "      <th>ride_id</th>\n",
       "      <th>rideable_type</th>\n",
       "      <th>started_at</th>\n",
       "      <th>ended_at</th>\n",
       "      <th>start_station_name</th>\n",
       "      <th>start_station_id</th>\n",
       "      <th>end_station_name</th>\n",
       "      <th>end_station_id</th>\n",
       "      <th>start_lat</th>\n",
       "      <th>start_lng</th>\n",
       "      <th>end_lat</th>\n",
       "      <th>end_lng</th>\n",
       "      <th>member_casual</th>\n",
       "    </tr>\n",
       "  </thead>\n",
       "  <tbody>\n",
       "  </tbody>\n",
       "</table>\n",
       "</div>"
      ],
      "text/plain": [
       "Empty DataFrame\n",
       "Columns: [ride_id, rideable_type, started_at, ended_at, start_station_name, start_station_id, end_station_name, end_station_id, start_lat, start_lng, end_lat, end_lng, member_casual]\n",
       "Index: []"
      ]
     },
     "execution_count": 148,
     "metadata": {},
     "output_type": "execute_result"
    }
   ],
   "source": [
    "df_cycle[df_cycle.duplicated()]"
   ]
  },
  {
   "cell_type": "markdown",
   "id": "84ebc432",
   "metadata": {},
   "source": [
    "To improve the analysis, it is better to convert the 'started_at' and 'ended_at' data types from object to datetime. This will allow for more accurate time-based analysis"
   ]
  },
  {
   "cell_type": "markdown",
   "id": "44d7dc78",
   "metadata": {},
   "source": [
    "Before proceeding with the analysis, it is advisable to create a new dataframe by copying the original dataframe. This will enable us to conduct the analysis without modifying the original data"
   ]
  },
  {
   "cell_type": "code",
   "execution_count": 156,
   "id": "18e3ffd8",
   "metadata": {},
   "outputs": [],
   "source": [
    "df_ride=df_cycle.copy()"
   ]
  },
  {
   "cell_type": "code",
   "execution_count": 157,
   "id": "e7f625e7",
   "metadata": {},
   "outputs": [],
   "source": [
    "df_ride=df_cycle.loc[:,['rideable_type','started_at','ended_at','start_station_name','end_station_name']]"
   ]
  },
  {
   "cell_type": "code",
   "execution_count": 158,
   "id": "c114ce46",
   "metadata": {},
   "outputs": [
    {
     "data": {
      "text/html": [
       "<div>\n",
       "<style scoped>\n",
       "    .dataframe tbody tr th:only-of-type {\n",
       "        vertical-align: middle;\n",
       "    }\n",
       "\n",
       "    .dataframe tbody tr th {\n",
       "        vertical-align: top;\n",
       "    }\n",
       "\n",
       "    .dataframe thead th {\n",
       "        text-align: right;\n",
       "    }\n",
       "</style>\n",
       "<table border=\"1\" class=\"dataframe\">\n",
       "  <thead>\n",
       "    <tr style=\"text-align: right;\">\n",
       "      <th></th>\n",
       "      <th>rideable_type</th>\n",
       "      <th>started_at</th>\n",
       "      <th>ended_at</th>\n",
       "      <th>start_station_name</th>\n",
       "      <th>end_station_name</th>\n",
       "    </tr>\n",
       "  </thead>\n",
       "  <tbody>\n",
       "    <tr>\n",
       "      <th>0</th>\n",
       "      <td>electric_bike</td>\n",
       "      <td>2022-01-13 11:59:47</td>\n",
       "      <td>2022-01-13 12:02:44</td>\n",
       "      <td>Glenwood Ave &amp; Touhy Ave</td>\n",
       "      <td>Clark St &amp; Touhy Ave</td>\n",
       "    </tr>\n",
       "    <tr>\n",
       "      <th>1</th>\n",
       "      <td>electric_bike</td>\n",
       "      <td>2022-01-10 08:41:56</td>\n",
       "      <td>2022-01-10 08:46:17</td>\n",
       "      <td>Glenwood Ave &amp; Touhy Ave</td>\n",
       "      <td>Clark St &amp; Touhy Ave</td>\n",
       "    </tr>\n",
       "    <tr>\n",
       "      <th>2</th>\n",
       "      <td>classic_bike</td>\n",
       "      <td>2022-01-25 04:53:40</td>\n",
       "      <td>2022-01-25 04:58:01</td>\n",
       "      <td>Sheffield Ave &amp; Fullerton Ave</td>\n",
       "      <td>Greenview Ave &amp; Fullerton Ave</td>\n",
       "    </tr>\n",
       "    <tr>\n",
       "      <th>3</th>\n",
       "      <td>classic_bike</td>\n",
       "      <td>2022-01-04 00:18:04</td>\n",
       "      <td>2022-01-04 00:33:00</td>\n",
       "      <td>Clark St &amp; Bryn Mawr Ave</td>\n",
       "      <td>Paulina St &amp; Montrose Ave</td>\n",
       "    </tr>\n",
       "    <tr>\n",
       "      <th>4</th>\n",
       "      <td>classic_bike</td>\n",
       "      <td>2022-01-20 01:31:10</td>\n",
       "      <td>2022-01-20 01:37:12</td>\n",
       "      <td>Michigan Ave &amp; Jackson Blvd</td>\n",
       "      <td>State St &amp; Randolph St</td>\n",
       "    </tr>\n",
       "    <tr>\n",
       "      <th>...</th>\n",
       "      <td>...</td>\n",
       "      <td>...</td>\n",
       "      <td>...</td>\n",
       "      <td>...</td>\n",
       "      <td>...</td>\n",
       "    </tr>\n",
       "    <tr>\n",
       "      <th>5667712</th>\n",
       "      <td>classic_bike</td>\n",
       "      <td>2022-12-05 06:51:04</td>\n",
       "      <td>2022-12-05 06:54:48</td>\n",
       "      <td>Sangamon St &amp; Washington Blvd</td>\n",
       "      <td>Peoria St &amp; Jackson Blvd</td>\n",
       "    </tr>\n",
       "    <tr>\n",
       "      <th>5667713</th>\n",
       "      <td>electric_bike</td>\n",
       "      <td>2022-12-14 17:06:28</td>\n",
       "      <td>2022-12-14 17:19:27</td>\n",
       "      <td>Bernard St &amp; Elston Ave</td>\n",
       "      <td>Seeley Ave &amp; Roscoe St</td>\n",
       "    </tr>\n",
       "    <tr>\n",
       "      <th>5667714</th>\n",
       "      <td>classic_bike</td>\n",
       "      <td>2022-12-08 16:27:47</td>\n",
       "      <td>2022-12-08 16:32:20</td>\n",
       "      <td>Wacker Dr &amp; Washington St</td>\n",
       "      <td>Green St &amp; Madison St</td>\n",
       "    </tr>\n",
       "    <tr>\n",
       "      <th>5667715</th>\n",
       "      <td>classic_bike</td>\n",
       "      <td>2022-12-28 09:37:38</td>\n",
       "      <td>2022-12-28 09:41:34</td>\n",
       "      <td>Sangamon St &amp; Washington Blvd</td>\n",
       "      <td>Peoria St &amp; Jackson Blvd</td>\n",
       "    </tr>\n",
       "    <tr>\n",
       "      <th>5667716</th>\n",
       "      <td>classic_bike</td>\n",
       "      <td>2022-12-09 00:27:25</td>\n",
       "      <td>2022-12-09 00:35:28</td>\n",
       "      <td>Southport Ave &amp; Waveland Ave</td>\n",
       "      <td>Seeley Ave &amp; Roscoe St</td>\n",
       "    </tr>\n",
       "  </tbody>\n",
       "</table>\n",
       "<p>4369360 rows × 5 columns</p>\n",
       "</div>"
      ],
      "text/plain": [
       "         rideable_type           started_at             ended_at  \\\n",
       "0        electric_bike  2022-01-13 11:59:47  2022-01-13 12:02:44   \n",
       "1        electric_bike  2022-01-10 08:41:56  2022-01-10 08:46:17   \n",
       "2         classic_bike  2022-01-25 04:53:40  2022-01-25 04:58:01   \n",
       "3         classic_bike  2022-01-04 00:18:04  2022-01-04 00:33:00   \n",
       "4         classic_bike  2022-01-20 01:31:10  2022-01-20 01:37:12   \n",
       "...                ...                  ...                  ...   \n",
       "5667712   classic_bike  2022-12-05 06:51:04  2022-12-05 06:54:48   \n",
       "5667713  electric_bike  2022-12-14 17:06:28  2022-12-14 17:19:27   \n",
       "5667714   classic_bike  2022-12-08 16:27:47  2022-12-08 16:32:20   \n",
       "5667715   classic_bike  2022-12-28 09:37:38  2022-12-28 09:41:34   \n",
       "5667716   classic_bike  2022-12-09 00:27:25  2022-12-09 00:35:28   \n",
       "\n",
       "                    start_station_name               end_station_name  \n",
       "0             Glenwood Ave & Touhy Ave           Clark St & Touhy Ave  \n",
       "1             Glenwood Ave & Touhy Ave           Clark St & Touhy Ave  \n",
       "2        Sheffield Ave & Fullerton Ave  Greenview Ave & Fullerton Ave  \n",
       "3             Clark St & Bryn Mawr Ave      Paulina St & Montrose Ave  \n",
       "4          Michigan Ave & Jackson Blvd         State St & Randolph St  \n",
       "...                                ...                            ...  \n",
       "5667712  Sangamon St & Washington Blvd       Peoria St & Jackson Blvd  \n",
       "5667713        Bernard St & Elston Ave         Seeley Ave & Roscoe St  \n",
       "5667714      Wacker Dr & Washington St          Green St & Madison St  \n",
       "5667715  Sangamon St & Washington Blvd       Peoria St & Jackson Blvd  \n",
       "5667716   Southport Ave & Waveland Ave         Seeley Ave & Roscoe St  \n",
       "\n",
       "[4369360 rows x 5 columns]"
      ]
     },
     "execution_count": 158,
     "metadata": {},
     "output_type": "execute_result"
    }
   ],
   "source": [
    "df_ride"
   ]
  },
  {
   "cell_type": "code",
   "execution_count": 149,
   "id": "adf9074a",
   "metadata": {},
   "outputs": [],
   "source": [
    "started_at = pd.to_datetime(df_cycle['started_at'])"
   ]
  },
  {
   "cell_type": "code",
   "execution_count": 150,
   "id": "cf384e77",
   "metadata": {},
   "outputs": [],
   "source": [
    "ended_at = pd.to_datetime(df_cycle['ended_at'])"
   ]
  },
  {
   "cell_type": "code",
   "execution_count": 151,
   "id": "66fc1e2e",
   "metadata": {},
   "outputs": [],
   "source": [
    "length = ended_at - started_at"
   ]
  },
  {
   "cell_type": "code",
   "execution_count": 154,
   "id": "20986390",
   "metadata": {},
   "outputs": [
    {
     "data": {
      "text/html": [
       "<div>\n",
       "<style scoped>\n",
       "    .dataframe tbody tr th:only-of-type {\n",
       "        vertical-align: middle;\n",
       "    }\n",
       "\n",
       "    .dataframe tbody tr th {\n",
       "        vertical-align: top;\n",
       "    }\n",
       "\n",
       "    .dataframe thead th {\n",
       "        text-align: right;\n",
       "    }\n",
       "</style>\n",
       "<table border=\"1\" class=\"dataframe\">\n",
       "  <thead>\n",
       "    <tr style=\"text-align: right;\">\n",
       "      <th></th>\n",
       "      <th>rideable_type</th>\n",
       "      <th>started_at</th>\n",
       "      <th>ended_at</th>\n",
       "      <th>start_station_name</th>\n",
       "      <th>end_station_name</th>\n",
       "    </tr>\n",
       "  </thead>\n",
       "  <tbody>\n",
       "    <tr>\n",
       "      <th>0</th>\n",
       "      <td>electric_bike</td>\n",
       "      <td>2022-01-13 11:59:47</td>\n",
       "      <td>2022-01-13 12:02:44</td>\n",
       "      <td>Glenwood Ave &amp; Touhy Ave</td>\n",
       "      <td>Clark St &amp; Touhy Ave</td>\n",
       "    </tr>\n",
       "    <tr>\n",
       "      <th>1</th>\n",
       "      <td>electric_bike</td>\n",
       "      <td>2022-01-10 08:41:56</td>\n",
       "      <td>2022-01-10 08:46:17</td>\n",
       "      <td>Glenwood Ave &amp; Touhy Ave</td>\n",
       "      <td>Clark St &amp; Touhy Ave</td>\n",
       "    </tr>\n",
       "    <tr>\n",
       "      <th>2</th>\n",
       "      <td>classic_bike</td>\n",
       "      <td>2022-01-25 04:53:40</td>\n",
       "      <td>2022-01-25 04:58:01</td>\n",
       "      <td>Sheffield Ave &amp; Fullerton Ave</td>\n",
       "      <td>Greenview Ave &amp; Fullerton Ave</td>\n",
       "    </tr>\n",
       "    <tr>\n",
       "      <th>3</th>\n",
       "      <td>classic_bike</td>\n",
       "      <td>2022-01-04 00:18:04</td>\n",
       "      <td>2022-01-04 00:33:00</td>\n",
       "      <td>Clark St &amp; Bryn Mawr Ave</td>\n",
       "      <td>Paulina St &amp; Montrose Ave</td>\n",
       "    </tr>\n",
       "    <tr>\n",
       "      <th>4</th>\n",
       "      <td>classic_bike</td>\n",
       "      <td>2022-01-20 01:31:10</td>\n",
       "      <td>2022-01-20 01:37:12</td>\n",
       "      <td>Michigan Ave &amp; Jackson Blvd</td>\n",
       "      <td>State St &amp; Randolph St</td>\n",
       "    </tr>\n",
       "    <tr>\n",
       "      <th>...</th>\n",
       "      <td>...</td>\n",
       "      <td>...</td>\n",
       "      <td>...</td>\n",
       "      <td>...</td>\n",
       "      <td>...</td>\n",
       "    </tr>\n",
       "    <tr>\n",
       "      <th>5667712</th>\n",
       "      <td>classic_bike</td>\n",
       "      <td>2022-12-05 06:51:04</td>\n",
       "      <td>2022-12-05 06:54:48</td>\n",
       "      <td>Sangamon St &amp; Washington Blvd</td>\n",
       "      <td>Peoria St &amp; Jackson Blvd</td>\n",
       "    </tr>\n",
       "    <tr>\n",
       "      <th>5667713</th>\n",
       "      <td>electric_bike</td>\n",
       "      <td>2022-12-14 17:06:28</td>\n",
       "      <td>2022-12-14 17:19:27</td>\n",
       "      <td>Bernard St &amp; Elston Ave</td>\n",
       "      <td>Seeley Ave &amp; Roscoe St</td>\n",
       "    </tr>\n",
       "    <tr>\n",
       "      <th>5667714</th>\n",
       "      <td>classic_bike</td>\n",
       "      <td>2022-12-08 16:27:47</td>\n",
       "      <td>2022-12-08 16:32:20</td>\n",
       "      <td>Wacker Dr &amp; Washington St</td>\n",
       "      <td>Green St &amp; Madison St</td>\n",
       "    </tr>\n",
       "    <tr>\n",
       "      <th>5667715</th>\n",
       "      <td>classic_bike</td>\n",
       "      <td>2022-12-28 09:37:38</td>\n",
       "      <td>2022-12-28 09:41:34</td>\n",
       "      <td>Sangamon St &amp; Washington Blvd</td>\n",
       "      <td>Peoria St &amp; Jackson Blvd</td>\n",
       "    </tr>\n",
       "    <tr>\n",
       "      <th>5667716</th>\n",
       "      <td>classic_bike</td>\n",
       "      <td>2022-12-09 00:27:25</td>\n",
       "      <td>2022-12-09 00:35:28</td>\n",
       "      <td>Southport Ave &amp; Waveland Ave</td>\n",
       "      <td>Seeley Ave &amp; Roscoe St</td>\n",
       "    </tr>\n",
       "  </tbody>\n",
       "</table>\n",
       "<p>4369360 rows × 5 columns</p>\n",
       "</div>"
      ],
      "text/plain": [
       "         rideable_type           started_at             ended_at  \\\n",
       "0        electric_bike  2022-01-13 11:59:47  2022-01-13 12:02:44   \n",
       "1        electric_bike  2022-01-10 08:41:56  2022-01-10 08:46:17   \n",
       "2         classic_bike  2022-01-25 04:53:40  2022-01-25 04:58:01   \n",
       "3         classic_bike  2022-01-04 00:18:04  2022-01-04 00:33:00   \n",
       "4         classic_bike  2022-01-20 01:31:10  2022-01-20 01:37:12   \n",
       "...                ...                  ...                  ...   \n",
       "5667712   classic_bike  2022-12-05 06:51:04  2022-12-05 06:54:48   \n",
       "5667713  electric_bike  2022-12-14 17:06:28  2022-12-14 17:19:27   \n",
       "5667714   classic_bike  2022-12-08 16:27:47  2022-12-08 16:32:20   \n",
       "5667715   classic_bike  2022-12-28 09:37:38  2022-12-28 09:41:34   \n",
       "5667716   classic_bike  2022-12-09 00:27:25  2022-12-09 00:35:28   \n",
       "\n",
       "                    start_station_name               end_station_name  \n",
       "0             Glenwood Ave & Touhy Ave           Clark St & Touhy Ave  \n",
       "1             Glenwood Ave & Touhy Ave           Clark St & Touhy Ave  \n",
       "2        Sheffield Ave & Fullerton Ave  Greenview Ave & Fullerton Ave  \n",
       "3             Clark St & Bryn Mawr Ave      Paulina St & Montrose Ave  \n",
       "4          Michigan Ave & Jackson Blvd         State St & Randolph St  \n",
       "...                                ...                            ...  \n",
       "5667712  Sangamon St & Washington Blvd       Peoria St & Jackson Blvd  \n",
       "5667713        Bernard St & Elston Ave         Seeley Ave & Roscoe St  \n",
       "5667714      Wacker Dr & Washington St          Green St & Madison St  \n",
       "5667715  Sangamon St & Washington Blvd       Peoria St & Jackson Blvd  \n",
       "5667716   Southport Ave & Waveland Ave         Seeley Ave & Roscoe St  \n",
       "\n",
       "[4369360 rows x 5 columns]"
      ]
     },
     "execution_count": 154,
     "metadata": {},
     "output_type": "execute_result"
    }
   ],
   "source": [
    "df_ride"
   ]
  },
  {
   "cell_type": "code",
   "execution_count": 160,
   "id": "0e436813",
   "metadata": {},
   "outputs": [],
   "source": [
    "df_ride['ride_length']=length"
   ]
  },
  {
   "cell_type": "code",
   "execution_count": 161,
   "id": "4b75895a",
   "metadata": {},
   "outputs": [
    {
     "data": {
      "text/html": [
       "<div>\n",
       "<style scoped>\n",
       "    .dataframe tbody tr th:only-of-type {\n",
       "        vertical-align: middle;\n",
       "    }\n",
       "\n",
       "    .dataframe tbody tr th {\n",
       "        vertical-align: top;\n",
       "    }\n",
       "\n",
       "    .dataframe thead th {\n",
       "        text-align: right;\n",
       "    }\n",
       "</style>\n",
       "<table border=\"1\" class=\"dataframe\">\n",
       "  <thead>\n",
       "    <tr style=\"text-align: right;\">\n",
       "      <th></th>\n",
       "      <th>rideable_type</th>\n",
       "      <th>started_at</th>\n",
       "      <th>ended_at</th>\n",
       "      <th>start_station_name</th>\n",
       "      <th>end_station_name</th>\n",
       "      <th>ride_length</th>\n",
       "    </tr>\n",
       "  </thead>\n",
       "  <tbody>\n",
       "    <tr>\n",
       "      <th>0</th>\n",
       "      <td>electric_bike</td>\n",
       "      <td>2022-01-13 11:59:47</td>\n",
       "      <td>2022-01-13 12:02:44</td>\n",
       "      <td>Glenwood Ave &amp; Touhy Ave</td>\n",
       "      <td>Clark St &amp; Touhy Ave</td>\n",
       "      <td>0 days 00:02:57</td>\n",
       "    </tr>\n",
       "    <tr>\n",
       "      <th>1</th>\n",
       "      <td>electric_bike</td>\n",
       "      <td>2022-01-10 08:41:56</td>\n",
       "      <td>2022-01-10 08:46:17</td>\n",
       "      <td>Glenwood Ave &amp; Touhy Ave</td>\n",
       "      <td>Clark St &amp; Touhy Ave</td>\n",
       "      <td>0 days 00:04:21</td>\n",
       "    </tr>\n",
       "    <tr>\n",
       "      <th>2</th>\n",
       "      <td>classic_bike</td>\n",
       "      <td>2022-01-25 04:53:40</td>\n",
       "      <td>2022-01-25 04:58:01</td>\n",
       "      <td>Sheffield Ave &amp; Fullerton Ave</td>\n",
       "      <td>Greenview Ave &amp; Fullerton Ave</td>\n",
       "      <td>0 days 00:04:21</td>\n",
       "    </tr>\n",
       "    <tr>\n",
       "      <th>3</th>\n",
       "      <td>classic_bike</td>\n",
       "      <td>2022-01-04 00:18:04</td>\n",
       "      <td>2022-01-04 00:33:00</td>\n",
       "      <td>Clark St &amp; Bryn Mawr Ave</td>\n",
       "      <td>Paulina St &amp; Montrose Ave</td>\n",
       "      <td>0 days 00:14:56</td>\n",
       "    </tr>\n",
       "    <tr>\n",
       "      <th>4</th>\n",
       "      <td>classic_bike</td>\n",
       "      <td>2022-01-20 01:31:10</td>\n",
       "      <td>2022-01-20 01:37:12</td>\n",
       "      <td>Michigan Ave &amp; Jackson Blvd</td>\n",
       "      <td>State St &amp; Randolph St</td>\n",
       "      <td>0 days 00:06:02</td>\n",
       "    </tr>\n",
       "    <tr>\n",
       "      <th>...</th>\n",
       "      <td>...</td>\n",
       "      <td>...</td>\n",
       "      <td>...</td>\n",
       "      <td>...</td>\n",
       "      <td>...</td>\n",
       "      <td>...</td>\n",
       "    </tr>\n",
       "    <tr>\n",
       "      <th>5667712</th>\n",
       "      <td>classic_bike</td>\n",
       "      <td>2022-12-05 06:51:04</td>\n",
       "      <td>2022-12-05 06:54:48</td>\n",
       "      <td>Sangamon St &amp; Washington Blvd</td>\n",
       "      <td>Peoria St &amp; Jackson Blvd</td>\n",
       "      <td>0 days 00:03:44</td>\n",
       "    </tr>\n",
       "    <tr>\n",
       "      <th>5667713</th>\n",
       "      <td>electric_bike</td>\n",
       "      <td>2022-12-14 17:06:28</td>\n",
       "      <td>2022-12-14 17:19:27</td>\n",
       "      <td>Bernard St &amp; Elston Ave</td>\n",
       "      <td>Seeley Ave &amp; Roscoe St</td>\n",
       "      <td>0 days 00:12:59</td>\n",
       "    </tr>\n",
       "    <tr>\n",
       "      <th>5667714</th>\n",
       "      <td>classic_bike</td>\n",
       "      <td>2022-12-08 16:27:47</td>\n",
       "      <td>2022-12-08 16:32:20</td>\n",
       "      <td>Wacker Dr &amp; Washington St</td>\n",
       "      <td>Green St &amp; Madison St</td>\n",
       "      <td>0 days 00:04:33</td>\n",
       "    </tr>\n",
       "    <tr>\n",
       "      <th>5667715</th>\n",
       "      <td>classic_bike</td>\n",
       "      <td>2022-12-28 09:37:38</td>\n",
       "      <td>2022-12-28 09:41:34</td>\n",
       "      <td>Sangamon St &amp; Washington Blvd</td>\n",
       "      <td>Peoria St &amp; Jackson Blvd</td>\n",
       "      <td>0 days 00:03:56</td>\n",
       "    </tr>\n",
       "    <tr>\n",
       "      <th>5667716</th>\n",
       "      <td>classic_bike</td>\n",
       "      <td>2022-12-09 00:27:25</td>\n",
       "      <td>2022-12-09 00:35:28</td>\n",
       "      <td>Southport Ave &amp; Waveland Ave</td>\n",
       "      <td>Seeley Ave &amp; Roscoe St</td>\n",
       "      <td>0 days 00:08:03</td>\n",
       "    </tr>\n",
       "  </tbody>\n",
       "</table>\n",
       "<p>4369360 rows × 6 columns</p>\n",
       "</div>"
      ],
      "text/plain": [
       "         rideable_type           started_at             ended_at  \\\n",
       "0        electric_bike  2022-01-13 11:59:47  2022-01-13 12:02:44   \n",
       "1        electric_bike  2022-01-10 08:41:56  2022-01-10 08:46:17   \n",
       "2         classic_bike  2022-01-25 04:53:40  2022-01-25 04:58:01   \n",
       "3         classic_bike  2022-01-04 00:18:04  2022-01-04 00:33:00   \n",
       "4         classic_bike  2022-01-20 01:31:10  2022-01-20 01:37:12   \n",
       "...                ...                  ...                  ...   \n",
       "5667712   classic_bike  2022-12-05 06:51:04  2022-12-05 06:54:48   \n",
       "5667713  electric_bike  2022-12-14 17:06:28  2022-12-14 17:19:27   \n",
       "5667714   classic_bike  2022-12-08 16:27:47  2022-12-08 16:32:20   \n",
       "5667715   classic_bike  2022-12-28 09:37:38  2022-12-28 09:41:34   \n",
       "5667716   classic_bike  2022-12-09 00:27:25  2022-12-09 00:35:28   \n",
       "\n",
       "                    start_station_name               end_station_name  \\\n",
       "0             Glenwood Ave & Touhy Ave           Clark St & Touhy Ave   \n",
       "1             Glenwood Ave & Touhy Ave           Clark St & Touhy Ave   \n",
       "2        Sheffield Ave & Fullerton Ave  Greenview Ave & Fullerton Ave   \n",
       "3             Clark St & Bryn Mawr Ave      Paulina St & Montrose Ave   \n",
       "4          Michigan Ave & Jackson Blvd         State St & Randolph St   \n",
       "...                                ...                            ...   \n",
       "5667712  Sangamon St & Washington Blvd       Peoria St & Jackson Blvd   \n",
       "5667713        Bernard St & Elston Ave         Seeley Ave & Roscoe St   \n",
       "5667714      Wacker Dr & Washington St          Green St & Madison St   \n",
       "5667715  Sangamon St & Washington Blvd       Peoria St & Jackson Blvd   \n",
       "5667716   Southport Ave & Waveland Ave         Seeley Ave & Roscoe St   \n",
       "\n",
       "            ride_length  \n",
       "0       0 days 00:02:57  \n",
       "1       0 days 00:04:21  \n",
       "2       0 days 00:04:21  \n",
       "3       0 days 00:14:56  \n",
       "4       0 days 00:06:02  \n",
       "...                 ...  \n",
       "5667712 0 days 00:03:44  \n",
       "5667713 0 days 00:12:59  \n",
       "5667714 0 days 00:04:33  \n",
       "5667715 0 days 00:03:56  \n",
       "5667716 0 days 00:08:03  \n",
       "\n",
       "[4369360 rows x 6 columns]"
      ]
     },
     "execution_count": 161,
     "metadata": {},
     "output_type": "execute_result"
    }
   ],
   "source": [
    "df_ride"
   ]
  },
  {
   "cell_type": "code",
   "execution_count": 162,
   "id": "d1f7d752",
   "metadata": {},
   "outputs": [],
   "source": [
    "df_ride.reset_index(inplace=True)"
   ]
  },
  {
   "cell_type": "code",
   "execution_count": 163,
   "id": "b825dba4",
   "metadata": {},
   "outputs": [
    {
     "data": {
      "text/plain": [
       "Index(['index', 'rideable_type', 'started_at', 'ended_at',\n",
       "       'start_station_name', 'end_station_name', 'ride_length'],\n",
       "      dtype='object')"
      ]
     },
     "execution_count": 163,
     "metadata": {},
     "output_type": "execute_result"
    }
   ],
   "source": [
    "df_ride.columns"
   ]
  },
  {
   "cell_type": "code",
   "execution_count": 164,
   "id": "b33800c5",
   "metadata": {},
   "outputs": [
    {
     "name": "stderr",
     "output_type": "stream",
     "text": [
      "C:\\Users\\DEEPAK\\AppData\\Local\\Temp\\ipykernel_6600\\3607733441.py:1: FutureWarning: In a future version of pandas all arguments of DataFrame.drop except for the argument 'labels' will be keyword-only.\n",
      "  df_ride=df_ride.drop('index',1)\n"
     ]
    }
   ],
   "source": [
    "df_ride=df_ride.drop('index',1)"
   ]
  },
  {
   "cell_type": "code",
   "execution_count": 165,
   "id": "92b03939",
   "metadata": {},
   "outputs": [
    {
     "data": {
      "text/html": [
       "<div>\n",
       "<style scoped>\n",
       "    .dataframe tbody tr th:only-of-type {\n",
       "        vertical-align: middle;\n",
       "    }\n",
       "\n",
       "    .dataframe tbody tr th {\n",
       "        vertical-align: top;\n",
       "    }\n",
       "\n",
       "    .dataframe thead th {\n",
       "        text-align: right;\n",
       "    }\n",
       "</style>\n",
       "<table border=\"1\" class=\"dataframe\">\n",
       "  <thead>\n",
       "    <tr style=\"text-align: right;\">\n",
       "      <th></th>\n",
       "      <th>rideable_type</th>\n",
       "      <th>started_at</th>\n",
       "      <th>ended_at</th>\n",
       "      <th>start_station_name</th>\n",
       "      <th>end_station_name</th>\n",
       "      <th>ride_length</th>\n",
       "    </tr>\n",
       "  </thead>\n",
       "  <tbody>\n",
       "    <tr>\n",
       "      <th>0</th>\n",
       "      <td>electric_bike</td>\n",
       "      <td>2022-01-13 11:59:47</td>\n",
       "      <td>2022-01-13 12:02:44</td>\n",
       "      <td>Glenwood Ave &amp; Touhy Ave</td>\n",
       "      <td>Clark St &amp; Touhy Ave</td>\n",
       "      <td>0 days 00:02:57</td>\n",
       "    </tr>\n",
       "    <tr>\n",
       "      <th>1</th>\n",
       "      <td>electric_bike</td>\n",
       "      <td>2022-01-10 08:41:56</td>\n",
       "      <td>2022-01-10 08:46:17</td>\n",
       "      <td>Glenwood Ave &amp; Touhy Ave</td>\n",
       "      <td>Clark St &amp; Touhy Ave</td>\n",
       "      <td>0 days 00:04:21</td>\n",
       "    </tr>\n",
       "    <tr>\n",
       "      <th>2</th>\n",
       "      <td>classic_bike</td>\n",
       "      <td>2022-01-25 04:53:40</td>\n",
       "      <td>2022-01-25 04:58:01</td>\n",
       "      <td>Sheffield Ave &amp; Fullerton Ave</td>\n",
       "      <td>Greenview Ave &amp; Fullerton Ave</td>\n",
       "      <td>0 days 00:04:21</td>\n",
       "    </tr>\n",
       "    <tr>\n",
       "      <th>3</th>\n",
       "      <td>classic_bike</td>\n",
       "      <td>2022-01-04 00:18:04</td>\n",
       "      <td>2022-01-04 00:33:00</td>\n",
       "      <td>Clark St &amp; Bryn Mawr Ave</td>\n",
       "      <td>Paulina St &amp; Montrose Ave</td>\n",
       "      <td>0 days 00:14:56</td>\n",
       "    </tr>\n",
       "    <tr>\n",
       "      <th>4</th>\n",
       "      <td>classic_bike</td>\n",
       "      <td>2022-01-20 01:31:10</td>\n",
       "      <td>2022-01-20 01:37:12</td>\n",
       "      <td>Michigan Ave &amp; Jackson Blvd</td>\n",
       "      <td>State St &amp; Randolph St</td>\n",
       "      <td>0 days 00:06:02</td>\n",
       "    </tr>\n",
       "    <tr>\n",
       "      <th>...</th>\n",
       "      <td>...</td>\n",
       "      <td>...</td>\n",
       "      <td>...</td>\n",
       "      <td>...</td>\n",
       "      <td>...</td>\n",
       "      <td>...</td>\n",
       "    </tr>\n",
       "    <tr>\n",
       "      <th>4369355</th>\n",
       "      <td>classic_bike</td>\n",
       "      <td>2022-12-05 06:51:04</td>\n",
       "      <td>2022-12-05 06:54:48</td>\n",
       "      <td>Sangamon St &amp; Washington Blvd</td>\n",
       "      <td>Peoria St &amp; Jackson Blvd</td>\n",
       "      <td>0 days 00:03:44</td>\n",
       "    </tr>\n",
       "    <tr>\n",
       "      <th>4369356</th>\n",
       "      <td>electric_bike</td>\n",
       "      <td>2022-12-14 17:06:28</td>\n",
       "      <td>2022-12-14 17:19:27</td>\n",
       "      <td>Bernard St &amp; Elston Ave</td>\n",
       "      <td>Seeley Ave &amp; Roscoe St</td>\n",
       "      <td>0 days 00:12:59</td>\n",
       "    </tr>\n",
       "    <tr>\n",
       "      <th>4369357</th>\n",
       "      <td>classic_bike</td>\n",
       "      <td>2022-12-08 16:27:47</td>\n",
       "      <td>2022-12-08 16:32:20</td>\n",
       "      <td>Wacker Dr &amp; Washington St</td>\n",
       "      <td>Green St &amp; Madison St</td>\n",
       "      <td>0 days 00:04:33</td>\n",
       "    </tr>\n",
       "    <tr>\n",
       "      <th>4369358</th>\n",
       "      <td>classic_bike</td>\n",
       "      <td>2022-12-28 09:37:38</td>\n",
       "      <td>2022-12-28 09:41:34</td>\n",
       "      <td>Sangamon St &amp; Washington Blvd</td>\n",
       "      <td>Peoria St &amp; Jackson Blvd</td>\n",
       "      <td>0 days 00:03:56</td>\n",
       "    </tr>\n",
       "    <tr>\n",
       "      <th>4369359</th>\n",
       "      <td>classic_bike</td>\n",
       "      <td>2022-12-09 00:27:25</td>\n",
       "      <td>2022-12-09 00:35:28</td>\n",
       "      <td>Southport Ave &amp; Waveland Ave</td>\n",
       "      <td>Seeley Ave &amp; Roscoe St</td>\n",
       "      <td>0 days 00:08:03</td>\n",
       "    </tr>\n",
       "  </tbody>\n",
       "</table>\n",
       "<p>4369360 rows × 6 columns</p>\n",
       "</div>"
      ],
      "text/plain": [
       "         rideable_type           started_at             ended_at  \\\n",
       "0        electric_bike  2022-01-13 11:59:47  2022-01-13 12:02:44   \n",
       "1        electric_bike  2022-01-10 08:41:56  2022-01-10 08:46:17   \n",
       "2         classic_bike  2022-01-25 04:53:40  2022-01-25 04:58:01   \n",
       "3         classic_bike  2022-01-04 00:18:04  2022-01-04 00:33:00   \n",
       "4         classic_bike  2022-01-20 01:31:10  2022-01-20 01:37:12   \n",
       "...                ...                  ...                  ...   \n",
       "4369355   classic_bike  2022-12-05 06:51:04  2022-12-05 06:54:48   \n",
       "4369356  electric_bike  2022-12-14 17:06:28  2022-12-14 17:19:27   \n",
       "4369357   classic_bike  2022-12-08 16:27:47  2022-12-08 16:32:20   \n",
       "4369358   classic_bike  2022-12-28 09:37:38  2022-12-28 09:41:34   \n",
       "4369359   classic_bike  2022-12-09 00:27:25  2022-12-09 00:35:28   \n",
       "\n",
       "                    start_station_name               end_station_name  \\\n",
       "0             Glenwood Ave & Touhy Ave           Clark St & Touhy Ave   \n",
       "1             Glenwood Ave & Touhy Ave           Clark St & Touhy Ave   \n",
       "2        Sheffield Ave & Fullerton Ave  Greenview Ave & Fullerton Ave   \n",
       "3             Clark St & Bryn Mawr Ave      Paulina St & Montrose Ave   \n",
       "4          Michigan Ave & Jackson Blvd         State St & Randolph St   \n",
       "...                                ...                            ...   \n",
       "4369355  Sangamon St & Washington Blvd       Peoria St & Jackson Blvd   \n",
       "4369356        Bernard St & Elston Ave         Seeley Ave & Roscoe St   \n",
       "4369357      Wacker Dr & Washington St          Green St & Madison St   \n",
       "4369358  Sangamon St & Washington Blvd       Peoria St & Jackson Blvd   \n",
       "4369359   Southport Ave & Waveland Ave         Seeley Ave & Roscoe St   \n",
       "\n",
       "            ride_length  \n",
       "0       0 days 00:02:57  \n",
       "1       0 days 00:04:21  \n",
       "2       0 days 00:04:21  \n",
       "3       0 days 00:14:56  \n",
       "4       0 days 00:06:02  \n",
       "...                 ...  \n",
       "4369355 0 days 00:03:44  \n",
       "4369356 0 days 00:12:59  \n",
       "4369357 0 days 00:04:33  \n",
       "4369358 0 days 00:03:56  \n",
       "4369359 0 days 00:08:03  \n",
       "\n",
       "[4369360 rows x 6 columns]"
      ]
     },
     "execution_count": 165,
     "metadata": {},
     "output_type": "execute_result"
    }
   ],
   "source": [
    "df_ride"
   ]
  },
  {
   "cell_type": "code",
   "execution_count": 166,
   "id": "e9942073",
   "metadata": {},
   "outputs": [
    {
     "name": "stdout",
     "output_type": "stream",
     "text": [
      "<class 'pandas.core.frame.DataFrame'>\n",
      "RangeIndex: 4369360 entries, 0 to 4369359\n",
      "Data columns (total 6 columns):\n",
      " #   Column              Dtype          \n",
      "---  ------              -----          \n",
      " 0   rideable_type       object         \n",
      " 1   started_at          object         \n",
      " 2   ended_at            object         \n",
      " 3   start_station_name  object         \n",
      " 4   end_station_name    object         \n",
      " 5   ride_length         timedelta64[ns]\n",
      "dtypes: object(5), timedelta64[ns](1)\n",
      "memory usage: 200.0+ MB\n"
     ]
    }
   ],
   "source": [
    "df_ride.info()"
   ]
  },
  {
   "cell_type": "markdown",
   "id": "f58a80c2",
   "metadata": {},
   "source": [
    "converting dtype of started_at and ended_at"
   ]
  },
  {
   "cell_type": "code",
   "execution_count": 167,
   "id": "2e6a5480",
   "metadata": {
    "scrolled": true
   },
   "outputs": [],
   "source": [
    "df_ride['started_at']=pd.to_datetime(df_ride['started_at'])"
   ]
  },
  {
   "cell_type": "code",
   "execution_count": 168,
   "id": "45047206",
   "metadata": {},
   "outputs": [],
   "source": [
    "df_ride['ended_at']=pd.to_datetime(df_ride['ended_at'])"
   ]
  },
  {
   "cell_type": "code",
   "execution_count": 169,
   "id": "6fea4ca1",
   "metadata": {
    "scrolled": true
   },
   "outputs": [
    {
     "name": "stdout",
     "output_type": "stream",
     "text": [
      "<class 'pandas.core.frame.DataFrame'>\n",
      "RangeIndex: 4369360 entries, 0 to 4369359\n",
      "Data columns (total 6 columns):\n",
      " #   Column              Dtype          \n",
      "---  ------              -----          \n",
      " 0   rideable_type       object         \n",
      " 1   started_at          datetime64[ns] \n",
      " 2   ended_at            datetime64[ns] \n",
      " 3   start_station_name  object         \n",
      " 4   end_station_name    object         \n",
      " 5   ride_length         timedelta64[ns]\n",
      "dtypes: datetime64[ns](2), object(3), timedelta64[ns](1)\n",
      "memory usage: 200.0+ MB\n"
     ]
    }
   ],
   "source": [
    "df_ride.info()"
   ]
  },
  {
   "cell_type": "markdown",
   "id": "59bb6f3c",
   "metadata": {},
   "source": [
    "Identifying the days on which people prefer to ride and ending the ride"
   ]
  },
  {
   "cell_type": "code",
   "execution_count": 173,
   "id": "b02e7d00",
   "metadata": {},
   "outputs": [],
   "source": [
    "df_ride['started_weekday']=df_ride['started_at'].dt.day_name()"
   ]
  },
  {
   "cell_type": "code",
   "execution_count": 174,
   "id": "0a8d3564",
   "metadata": {},
   "outputs": [
    {
     "data": {
      "text/plain": [
       "0           Thursday\n",
       "1             Monday\n",
       "2            Tuesday\n",
       "3            Tuesday\n",
       "4           Thursday\n",
       "             ...    \n",
       "4369355       Monday\n",
       "4369356    Wednesday\n",
       "4369357     Thursday\n",
       "4369358    Wednesday\n",
       "4369359       Friday\n",
       "Name: started_weekday, Length: 4369360, dtype: object"
      ]
     },
     "execution_count": 174,
     "metadata": {},
     "output_type": "execute_result"
    }
   ],
   "source": [
    "df_ride['started_weekday']"
   ]
  },
  {
   "cell_type": "code",
   "execution_count": 184,
   "id": "a05644ce",
   "metadata": {},
   "outputs": [],
   "source": [
    "df_ride['ended_weekday']=df_ride['ended_at'].dt.day_name()"
   ]
  },
  {
   "cell_type": "code",
   "execution_count": 185,
   "id": "32fafbf4",
   "metadata": {},
   "outputs": [
    {
     "data": {
      "text/plain": [
       "0           Thursday\n",
       "1             Monday\n",
       "2            Tuesday\n",
       "3            Tuesday\n",
       "4           Thursday\n",
       "             ...    \n",
       "4369355       Monday\n",
       "4369356    Wednesday\n",
       "4369357     Thursday\n",
       "4369358    Wednesday\n",
       "4369359       Friday\n",
       "Name: ended_weekday, Length: 4369360, dtype: object"
      ]
     },
     "execution_count": 185,
     "metadata": {},
     "output_type": "execute_result"
    }
   ],
   "source": [
    "df_ride['ended_weekday']"
   ]
  },
  {
   "cell_type": "markdown",
   "id": "15d8579c",
   "metadata": {},
   "source": [
    "Getting ride length in hrs and minutes"
   ]
  },
  {
   "cell_type": "code",
   "execution_count": 175,
   "id": "ddf4ef46",
   "metadata": {},
   "outputs": [],
   "source": [
    "df_ride['ride_length_hrs']=np.round(df_ride['ride_length']/pd.Timedelta(hours=1),decimals=2)"
   ]
  },
  {
   "cell_type": "code",
   "execution_count": 176,
   "id": "a12dbb3c",
   "metadata": {},
   "outputs": [],
   "source": [
    "df_ride['ride_length_mins']=np.round(df_ride['ride_length']/pd.Timedelta(minutes=1),decimals=2)"
   ]
  },
  {
   "cell_type": "code",
   "execution_count": 177,
   "id": "5e974e63",
   "metadata": {},
   "outputs": [
    {
     "data": {
      "text/html": [
       "<div>\n",
       "<style scoped>\n",
       "    .dataframe tbody tr th:only-of-type {\n",
       "        vertical-align: middle;\n",
       "    }\n",
       "\n",
       "    .dataframe tbody tr th {\n",
       "        vertical-align: top;\n",
       "    }\n",
       "\n",
       "    .dataframe thead th {\n",
       "        text-align: right;\n",
       "    }\n",
       "</style>\n",
       "<table border=\"1\" class=\"dataframe\">\n",
       "  <thead>\n",
       "    <tr style=\"text-align: right;\">\n",
       "      <th></th>\n",
       "      <th>rideable_type</th>\n",
       "      <th>started_at</th>\n",
       "      <th>ended_at</th>\n",
       "      <th>start_station_name</th>\n",
       "      <th>end_station_name</th>\n",
       "      <th>ride_length</th>\n",
       "      <th>started_weekday</th>\n",
       "      <th>ride_length_hrs</th>\n",
       "      <th>ride_length_mins</th>\n",
       "    </tr>\n",
       "  </thead>\n",
       "  <tbody>\n",
       "    <tr>\n",
       "      <th>0</th>\n",
       "      <td>electric_bike</td>\n",
       "      <td>2022-01-13 11:59:47</td>\n",
       "      <td>2022-01-13 12:02:44</td>\n",
       "      <td>Glenwood Ave &amp; Touhy Ave</td>\n",
       "      <td>Clark St &amp; Touhy Ave</td>\n",
       "      <td>0 days 00:02:57</td>\n",
       "      <td>Thursday</td>\n",
       "      <td>0.05</td>\n",
       "      <td>2.95</td>\n",
       "    </tr>\n",
       "    <tr>\n",
       "      <th>1</th>\n",
       "      <td>electric_bike</td>\n",
       "      <td>2022-01-10 08:41:56</td>\n",
       "      <td>2022-01-10 08:46:17</td>\n",
       "      <td>Glenwood Ave &amp; Touhy Ave</td>\n",
       "      <td>Clark St &amp; Touhy Ave</td>\n",
       "      <td>0 days 00:04:21</td>\n",
       "      <td>Monday</td>\n",
       "      <td>0.07</td>\n",
       "      <td>4.35</td>\n",
       "    </tr>\n",
       "    <tr>\n",
       "      <th>2</th>\n",
       "      <td>classic_bike</td>\n",
       "      <td>2022-01-25 04:53:40</td>\n",
       "      <td>2022-01-25 04:58:01</td>\n",
       "      <td>Sheffield Ave &amp; Fullerton Ave</td>\n",
       "      <td>Greenview Ave &amp; Fullerton Ave</td>\n",
       "      <td>0 days 00:04:21</td>\n",
       "      <td>Tuesday</td>\n",
       "      <td>0.07</td>\n",
       "      <td>4.35</td>\n",
       "    </tr>\n",
       "    <tr>\n",
       "      <th>3</th>\n",
       "      <td>classic_bike</td>\n",
       "      <td>2022-01-04 00:18:04</td>\n",
       "      <td>2022-01-04 00:33:00</td>\n",
       "      <td>Clark St &amp; Bryn Mawr Ave</td>\n",
       "      <td>Paulina St &amp; Montrose Ave</td>\n",
       "      <td>0 days 00:14:56</td>\n",
       "      <td>Tuesday</td>\n",
       "      <td>0.25</td>\n",
       "      <td>14.93</td>\n",
       "    </tr>\n",
       "    <tr>\n",
       "      <th>4</th>\n",
       "      <td>classic_bike</td>\n",
       "      <td>2022-01-20 01:31:10</td>\n",
       "      <td>2022-01-20 01:37:12</td>\n",
       "      <td>Michigan Ave &amp; Jackson Blvd</td>\n",
       "      <td>State St &amp; Randolph St</td>\n",
       "      <td>0 days 00:06:02</td>\n",
       "      <td>Thursday</td>\n",
       "      <td>0.10</td>\n",
       "      <td>6.03</td>\n",
       "    </tr>\n",
       "  </tbody>\n",
       "</table>\n",
       "</div>"
      ],
      "text/plain": [
       "   rideable_type          started_at            ended_at  \\\n",
       "0  electric_bike 2022-01-13 11:59:47 2022-01-13 12:02:44   \n",
       "1  electric_bike 2022-01-10 08:41:56 2022-01-10 08:46:17   \n",
       "2   classic_bike 2022-01-25 04:53:40 2022-01-25 04:58:01   \n",
       "3   classic_bike 2022-01-04 00:18:04 2022-01-04 00:33:00   \n",
       "4   classic_bike 2022-01-20 01:31:10 2022-01-20 01:37:12   \n",
       "\n",
       "              start_station_name               end_station_name  \\\n",
       "0       Glenwood Ave & Touhy Ave           Clark St & Touhy Ave   \n",
       "1       Glenwood Ave & Touhy Ave           Clark St & Touhy Ave   \n",
       "2  Sheffield Ave & Fullerton Ave  Greenview Ave & Fullerton Ave   \n",
       "3       Clark St & Bryn Mawr Ave      Paulina St & Montrose Ave   \n",
       "4    Michigan Ave & Jackson Blvd         State St & Randolph St   \n",
       "\n",
       "      ride_length started_weekday  ride_length_hrs  ride_length_mins  \n",
       "0 0 days 00:02:57        Thursday             0.05              2.95  \n",
       "1 0 days 00:04:21          Monday             0.07              4.35  \n",
       "2 0 days 00:04:21         Tuesday             0.07              4.35  \n",
       "3 0 days 00:14:56         Tuesday             0.25             14.93  \n",
       "4 0 days 00:06:02        Thursday             0.10              6.03  "
      ]
     },
     "execution_count": 177,
     "metadata": {},
     "output_type": "execute_result"
    }
   ],
   "source": [
    "df_ride.head()"
   ]
  },
  {
   "cell_type": "code",
   "execution_count": 35,
   "id": "7693f71b",
   "metadata": {},
   "outputs": [
    {
     "data": {
      "text/plain": [
       "count    4.369360e+06\n",
       "mean     1.709517e+01\n",
       "std      4.786735e+01\n",
       "min     -1.687000e+02\n",
       "25%      6.050000e+00\n",
       "50%      1.060000e+01\n",
       "75%      1.902000e+01\n",
       "max      3.435407e+04\n",
       "Name: ride_length_mins, dtype: float64"
      ]
     },
     "execution_count": 35,
     "metadata": {},
     "output_type": "execute_result"
    }
   ],
   "source": [
    "df_ride['ride_length_mins'].describe()"
   ]
  },
  {
   "cell_type": "markdown",
   "id": "556eabae",
   "metadata": {},
   "source": [
    "Let's calculate the ride distance in Kms from given coordinates"
   ]
  },
  {
   "cell_type": "code",
   "execution_count": 178,
   "id": "6e7cb286",
   "metadata": {},
   "outputs": [],
   "source": [
    "df_cycle['lat']=df_cycle['end_lat']-df_cycle['start_lat']"
   ]
  },
  {
   "cell_type": "code",
   "execution_count": 179,
   "id": "86a3480a",
   "metadata": {},
   "outputs": [],
   "source": [
    "df_cycle['lng']=df_cycle['end_lng']-df_cycle['start_lng']"
   ]
  },
  {
   "cell_type": "code",
   "execution_count": 180,
   "id": "be8a54c4",
   "metadata": {},
   "outputs": [],
   "source": [
    "df_cycle['distance']=np.sqrt((df_cycle['lat']**2)+(df_cycle['lng']**2))"
   ]
  },
  {
   "cell_type": "code",
   "execution_count": 181,
   "id": "28b5d8f8",
   "metadata": {},
   "outputs": [],
   "source": [
    "df_cycle['distance']=df_cycle['distance']*111"
   ]
  },
  {
   "cell_type": "code",
   "execution_count": 205,
   "id": "a1201935",
   "metadata": {},
   "outputs": [],
   "source": [
    "df_ride['distance']=np.around(df_cycle['distance'],2)"
   ]
  },
  {
   "cell_type": "code",
   "execution_count": 206,
   "id": "ed64d946",
   "metadata": {},
   "outputs": [
    {
     "data": {
      "text/plain": [
       "0    0.94\n",
       "1    0.93\n",
       "2    1.34\n",
       "3    2.46\n",
       "4    0.86\n",
       "Name: distance, dtype: float64"
      ]
     },
     "execution_count": 206,
     "metadata": {},
     "output_type": "execute_result"
    }
   ],
   "source": [
    "df_ride['distance'].head()"
   ]
  },
  {
   "cell_type": "markdown",
   "id": "1a7ae33e",
   "metadata": {},
   "source": [
    "Identifying the months people prefer to ride and end ride"
   ]
  },
  {
   "cell_type": "code",
   "execution_count": 187,
   "id": "b4b3b262",
   "metadata": {},
   "outputs": [],
   "source": [
    "df_ride['started_month']=df_ride['started_at'].dt.month_name()"
   ]
  },
  {
   "cell_type": "code",
   "execution_count": 188,
   "id": "781277af",
   "metadata": {},
   "outputs": [
    {
     "data": {
      "text/plain": [
       "0           January\n",
       "1           January\n",
       "2           January\n",
       "3           January\n",
       "4           January\n",
       "             ...   \n",
       "4369355    December\n",
       "4369356    December\n",
       "4369357    December\n",
       "4369358    December\n",
       "4369359    December\n",
       "Name: started_month, Length: 4369360, dtype: object"
      ]
     },
     "execution_count": 188,
     "metadata": {},
     "output_type": "execute_result"
    }
   ],
   "source": [
    "df_ride['started_month']"
   ]
  },
  {
   "cell_type": "code",
   "execution_count": 189,
   "id": "a5503323",
   "metadata": {},
   "outputs": [],
   "source": [
    "df_ride['ended_month']=df_ride['ended_at'].dt.month_name()"
   ]
  },
  {
   "cell_type": "code",
   "execution_count": 190,
   "id": "cfcf0745",
   "metadata": {},
   "outputs": [
    {
     "data": {
      "text/plain": [
       "0           January\n",
       "1           January\n",
       "2           January\n",
       "3           January\n",
       "4           January\n",
       "             ...   \n",
       "4369355    December\n",
       "4369356    December\n",
       "4369357    December\n",
       "4369358    December\n",
       "4369359    December\n",
       "Name: ended_month, Length: 4369360, dtype: object"
      ]
     },
     "execution_count": 190,
     "metadata": {},
     "output_type": "execute_result"
    }
   ],
   "source": [
    "df_ride['ended_month']"
   ]
  },
  {
   "cell_type": "markdown",
   "id": "d09688e0",
   "metadata": {},
   "source": [
    "## Data Analysis and Visualization"
   ]
  },
  {
   "cell_type": "code",
   "execution_count": 193,
   "id": "5822a07f",
   "metadata": {},
   "outputs": [
    {
     "data": {
      "text/plain": [
       "July         642680\n",
       "June         620350\n",
       "August       605325\n",
       "September    535145\n",
       "May          502545\n",
       "October      414269\n",
       "April        272560\n",
       "November     255794\n",
       "March        215983\n",
       "December     135403\n",
       "Name: started_month, dtype: int64"
      ]
     },
     "execution_count": 193,
     "metadata": {},
     "output_type": "execute_result"
    }
   ],
   "source": [
    "df_ride['started_month'].value_counts().nlargest(10)"
   ]
  },
  {
   "cell_type": "code",
   "execution_count": 191,
   "id": "8e6904ff",
   "metadata": {},
   "outputs": [
    {
     "data": {
      "text/plain": [
       "July         642723\n",
       "June         620287\n",
       "August       605368\n",
       "September    535118\n",
       "May          502534\n",
       "October      414308\n",
       "April        272507\n",
       "November     255827\n",
       "March        215984\n",
       "December     135369\n",
       "Name: ended_month, dtype: int64"
      ]
     },
     "execution_count": 191,
     "metadata": {},
     "output_type": "execute_result"
    }
   ],
   "source": [
    "df_ride['ended_month'].value_counts().nlargest(10)"
   ]
  },
  {
   "cell_type": "code",
   "execution_count": 36,
   "id": "12217ca0",
   "metadata": {},
   "outputs": [],
   "source": [
    "o=df_ride['start_station_name'].value_counts().values"
   ]
  },
  {
   "cell_type": "code",
   "execution_count": 37,
   "id": "af2f89f9",
   "metadata": {},
   "outputs": [],
   "source": [
    "w=df_ride['start_station_name'].value_counts().to_frame().index"
   ]
  },
  {
   "cell_type": "code",
   "execution_count": 38,
   "id": "a2ebdd4a",
   "metadata": {},
   "outputs": [
    {
     "data": {
      "text/plain": [
       "classic_bike     59.446372\n",
       "electric_bike    36.551715\n",
       "docked_bike       4.001913\n",
       "Name: rideable_type, dtype: float64"
      ]
     },
     "execution_count": 38,
     "metadata": {},
     "output_type": "execute_result"
    }
   ],
   "source": [
    "df_ride['rideable_type'].value_counts(normalize=True)*100"
   ]
  },
  {
   "cell_type": "code",
   "execution_count": 39,
   "id": "4ec8447a",
   "metadata": {},
   "outputs": [
    {
     "data": {
      "text/html": [
       "<div>\n",
       "<style scoped>\n",
       "    .dataframe tbody tr th:only-of-type {\n",
       "        vertical-align: middle;\n",
       "    }\n",
       "\n",
       "    .dataframe tbody tr th {\n",
       "        vertical-align: top;\n",
       "    }\n",
       "\n",
       "    .dataframe thead th {\n",
       "        text-align: right;\n",
       "    }\n",
       "</style>\n",
       "<table border=\"1\" class=\"dataframe\">\n",
       "  <thead>\n",
       "    <tr style=\"text-align: right;\">\n",
       "      <th></th>\n",
       "      <th>rideable_type</th>\n",
       "      <th>started_at</th>\n",
       "      <th>ended_at</th>\n",
       "      <th>start_station_name</th>\n",
       "      <th>end_station_name</th>\n",
       "      <th>ride_length</th>\n",
       "      <th>started_weekday</th>\n",
       "      <th>ride_length_hrs</th>\n",
       "      <th>ride_length_mins</th>\n",
       "    </tr>\n",
       "  </thead>\n",
       "  <tbody>\n",
       "    <tr>\n",
       "      <th>0</th>\n",
       "      <td>electric_bike</td>\n",
       "      <td>2022-01-13 11:59:47</td>\n",
       "      <td>2022-01-13 12:02:44</td>\n",
       "      <td>Glenwood Ave &amp; Touhy Ave</td>\n",
       "      <td>Clark St &amp; Touhy Ave</td>\n",
       "      <td>0 days 00:02:57</td>\n",
       "      <td>Thursday</td>\n",
       "      <td>0.05</td>\n",
       "      <td>2.95</td>\n",
       "    </tr>\n",
       "    <tr>\n",
       "      <th>1</th>\n",
       "      <td>electric_bike</td>\n",
       "      <td>2022-01-10 08:41:56</td>\n",
       "      <td>2022-01-10 08:46:17</td>\n",
       "      <td>Glenwood Ave &amp; Touhy Ave</td>\n",
       "      <td>Clark St &amp; Touhy Ave</td>\n",
       "      <td>0 days 00:04:21</td>\n",
       "      <td>Monday</td>\n",
       "      <td>0.07</td>\n",
       "      <td>4.35</td>\n",
       "    </tr>\n",
       "    <tr>\n",
       "      <th>2</th>\n",
       "      <td>classic_bike</td>\n",
       "      <td>2022-01-25 04:53:40</td>\n",
       "      <td>2022-01-25 04:58:01</td>\n",
       "      <td>Sheffield Ave &amp; Fullerton Ave</td>\n",
       "      <td>Greenview Ave &amp; Fullerton Ave</td>\n",
       "      <td>0 days 00:04:21</td>\n",
       "      <td>Tuesday</td>\n",
       "      <td>0.07</td>\n",
       "      <td>4.35</td>\n",
       "    </tr>\n",
       "    <tr>\n",
       "      <th>3</th>\n",
       "      <td>classic_bike</td>\n",
       "      <td>2022-01-04 00:18:04</td>\n",
       "      <td>2022-01-04 00:33:00</td>\n",
       "      <td>Clark St &amp; Bryn Mawr Ave</td>\n",
       "      <td>Paulina St &amp; Montrose Ave</td>\n",
       "      <td>0 days 00:14:56</td>\n",
       "      <td>Tuesday</td>\n",
       "      <td>0.25</td>\n",
       "      <td>14.93</td>\n",
       "    </tr>\n",
       "    <tr>\n",
       "      <th>4</th>\n",
       "      <td>classic_bike</td>\n",
       "      <td>2022-01-20 01:31:10</td>\n",
       "      <td>2022-01-20 01:37:12</td>\n",
       "      <td>Michigan Ave &amp; Jackson Blvd</td>\n",
       "      <td>State St &amp; Randolph St</td>\n",
       "      <td>0 days 00:06:02</td>\n",
       "      <td>Thursday</td>\n",
       "      <td>0.10</td>\n",
       "      <td>6.03</td>\n",
       "    </tr>\n",
       "    <tr>\n",
       "      <th>...</th>\n",
       "      <td>...</td>\n",
       "      <td>...</td>\n",
       "      <td>...</td>\n",
       "      <td>...</td>\n",
       "      <td>...</td>\n",
       "      <td>...</td>\n",
       "      <td>...</td>\n",
       "      <td>...</td>\n",
       "      <td>...</td>\n",
       "    </tr>\n",
       "    <tr>\n",
       "      <th>4369355</th>\n",
       "      <td>classic_bike</td>\n",
       "      <td>2022-12-05 06:51:04</td>\n",
       "      <td>2022-12-05 06:54:48</td>\n",
       "      <td>Sangamon St &amp; Washington Blvd</td>\n",
       "      <td>Peoria St &amp; Jackson Blvd</td>\n",
       "      <td>0 days 00:03:44</td>\n",
       "      <td>Monday</td>\n",
       "      <td>0.06</td>\n",
       "      <td>3.73</td>\n",
       "    </tr>\n",
       "    <tr>\n",
       "      <th>4369356</th>\n",
       "      <td>electric_bike</td>\n",
       "      <td>2022-12-14 17:06:28</td>\n",
       "      <td>2022-12-14 17:19:27</td>\n",
       "      <td>Bernard St &amp; Elston Ave</td>\n",
       "      <td>Seeley Ave &amp; Roscoe St</td>\n",
       "      <td>0 days 00:12:59</td>\n",
       "      <td>Wednesday</td>\n",
       "      <td>0.22</td>\n",
       "      <td>12.98</td>\n",
       "    </tr>\n",
       "    <tr>\n",
       "      <th>4369357</th>\n",
       "      <td>classic_bike</td>\n",
       "      <td>2022-12-08 16:27:47</td>\n",
       "      <td>2022-12-08 16:32:20</td>\n",
       "      <td>Wacker Dr &amp; Washington St</td>\n",
       "      <td>Green St &amp; Madison St</td>\n",
       "      <td>0 days 00:04:33</td>\n",
       "      <td>Thursday</td>\n",
       "      <td>0.08</td>\n",
       "      <td>4.55</td>\n",
       "    </tr>\n",
       "    <tr>\n",
       "      <th>4369358</th>\n",
       "      <td>classic_bike</td>\n",
       "      <td>2022-12-28 09:37:38</td>\n",
       "      <td>2022-12-28 09:41:34</td>\n",
       "      <td>Sangamon St &amp; Washington Blvd</td>\n",
       "      <td>Peoria St &amp; Jackson Blvd</td>\n",
       "      <td>0 days 00:03:56</td>\n",
       "      <td>Wednesday</td>\n",
       "      <td>0.07</td>\n",
       "      <td>3.93</td>\n",
       "    </tr>\n",
       "    <tr>\n",
       "      <th>4369359</th>\n",
       "      <td>classic_bike</td>\n",
       "      <td>2022-12-09 00:27:25</td>\n",
       "      <td>2022-12-09 00:35:28</td>\n",
       "      <td>Southport Ave &amp; Waveland Ave</td>\n",
       "      <td>Seeley Ave &amp; Roscoe St</td>\n",
       "      <td>0 days 00:08:03</td>\n",
       "      <td>Friday</td>\n",
       "      <td>0.13</td>\n",
       "      <td>8.05</td>\n",
       "    </tr>\n",
       "  </tbody>\n",
       "</table>\n",
       "<p>4369360 rows × 9 columns</p>\n",
       "</div>"
      ],
      "text/plain": [
       "         rideable_type          started_at            ended_at  \\\n",
       "0        electric_bike 2022-01-13 11:59:47 2022-01-13 12:02:44   \n",
       "1        electric_bike 2022-01-10 08:41:56 2022-01-10 08:46:17   \n",
       "2         classic_bike 2022-01-25 04:53:40 2022-01-25 04:58:01   \n",
       "3         classic_bike 2022-01-04 00:18:04 2022-01-04 00:33:00   \n",
       "4         classic_bike 2022-01-20 01:31:10 2022-01-20 01:37:12   \n",
       "...                ...                 ...                 ...   \n",
       "4369355   classic_bike 2022-12-05 06:51:04 2022-12-05 06:54:48   \n",
       "4369356  electric_bike 2022-12-14 17:06:28 2022-12-14 17:19:27   \n",
       "4369357   classic_bike 2022-12-08 16:27:47 2022-12-08 16:32:20   \n",
       "4369358   classic_bike 2022-12-28 09:37:38 2022-12-28 09:41:34   \n",
       "4369359   classic_bike 2022-12-09 00:27:25 2022-12-09 00:35:28   \n",
       "\n",
       "                    start_station_name               end_station_name  \\\n",
       "0             Glenwood Ave & Touhy Ave           Clark St & Touhy Ave   \n",
       "1             Glenwood Ave & Touhy Ave           Clark St & Touhy Ave   \n",
       "2        Sheffield Ave & Fullerton Ave  Greenview Ave & Fullerton Ave   \n",
       "3             Clark St & Bryn Mawr Ave      Paulina St & Montrose Ave   \n",
       "4          Michigan Ave & Jackson Blvd         State St & Randolph St   \n",
       "...                                ...                            ...   \n",
       "4369355  Sangamon St & Washington Blvd       Peoria St & Jackson Blvd   \n",
       "4369356        Bernard St & Elston Ave         Seeley Ave & Roscoe St   \n",
       "4369357      Wacker Dr & Washington St          Green St & Madison St   \n",
       "4369358  Sangamon St & Washington Blvd       Peoria St & Jackson Blvd   \n",
       "4369359   Southport Ave & Waveland Ave         Seeley Ave & Roscoe St   \n",
       "\n",
       "            ride_length started_weekday  ride_length_hrs  ride_length_mins  \n",
       "0       0 days 00:02:57        Thursday             0.05              2.95  \n",
       "1       0 days 00:04:21          Monday             0.07              4.35  \n",
       "2       0 days 00:04:21         Tuesday             0.07              4.35  \n",
       "3       0 days 00:14:56         Tuesday             0.25             14.93  \n",
       "4       0 days 00:06:02        Thursday             0.10              6.03  \n",
       "...                 ...             ...              ...               ...  \n",
       "4369355 0 days 00:03:44          Monday             0.06              3.73  \n",
       "4369356 0 days 00:12:59       Wednesday             0.22             12.98  \n",
       "4369357 0 days 00:04:33        Thursday             0.08              4.55  \n",
       "4369358 0 days 00:03:56       Wednesday             0.07              3.93  \n",
       "4369359 0 days 00:08:03          Friday             0.13              8.05  \n",
       "\n",
       "[4369360 rows x 9 columns]"
      ]
     },
     "execution_count": 39,
     "metadata": {},
     "output_type": "execute_result"
    }
   ],
   "source": [
    "df_ride"
   ]
  },
  {
   "cell_type": "code",
   "execution_count": 41,
   "id": "d70f81e8",
   "metadata": {},
   "outputs": [
    {
     "data": {
      "text/html": [
       "<div>\n",
       "<style scoped>\n",
       "    .dataframe tbody tr th:only-of-type {\n",
       "        vertical-align: middle;\n",
       "    }\n",
       "\n",
       "    .dataframe tbody tr th {\n",
       "        vertical-align: top;\n",
       "    }\n",
       "\n",
       "    .dataframe thead th {\n",
       "        text-align: right;\n",
       "    }\n",
       "</style>\n",
       "<table border=\"1\" class=\"dataframe\">\n",
       "  <thead>\n",
       "    <tr style=\"text-align: right;\">\n",
       "      <th></th>\n",
       "      <th>rideable_type</th>\n",
       "      <th>started_at</th>\n",
       "      <th>ended_at</th>\n",
       "      <th>start_station_name</th>\n",
       "      <th>end_station_name</th>\n",
       "      <th>ride_length</th>\n",
       "      <th>started_weekday</th>\n",
       "      <th>ride_length_hrs</th>\n",
       "      <th>ride_length_mins</th>\n",
       "      <th>ended_weekday</th>\n",
       "    </tr>\n",
       "  </thead>\n",
       "  <tbody>\n",
       "    <tr>\n",
       "      <th>0</th>\n",
       "      <td>electric_bike</td>\n",
       "      <td>2022-01-13 11:59:47</td>\n",
       "      <td>2022-01-13 12:02:44</td>\n",
       "      <td>Glenwood Ave &amp; Touhy Ave</td>\n",
       "      <td>Clark St &amp; Touhy Ave</td>\n",
       "      <td>0 days 00:02:57</td>\n",
       "      <td>Thursday</td>\n",
       "      <td>0.05</td>\n",
       "      <td>2.95</td>\n",
       "      <td>Thursday</td>\n",
       "    </tr>\n",
       "    <tr>\n",
       "      <th>1</th>\n",
       "      <td>electric_bike</td>\n",
       "      <td>2022-01-10 08:41:56</td>\n",
       "      <td>2022-01-10 08:46:17</td>\n",
       "      <td>Glenwood Ave &amp; Touhy Ave</td>\n",
       "      <td>Clark St &amp; Touhy Ave</td>\n",
       "      <td>0 days 00:04:21</td>\n",
       "      <td>Monday</td>\n",
       "      <td>0.07</td>\n",
       "      <td>4.35</td>\n",
       "      <td>Monday</td>\n",
       "    </tr>\n",
       "    <tr>\n",
       "      <th>2</th>\n",
       "      <td>classic_bike</td>\n",
       "      <td>2022-01-25 04:53:40</td>\n",
       "      <td>2022-01-25 04:58:01</td>\n",
       "      <td>Sheffield Ave &amp; Fullerton Ave</td>\n",
       "      <td>Greenview Ave &amp; Fullerton Ave</td>\n",
       "      <td>0 days 00:04:21</td>\n",
       "      <td>Tuesday</td>\n",
       "      <td>0.07</td>\n",
       "      <td>4.35</td>\n",
       "      <td>Tuesday</td>\n",
       "    </tr>\n",
       "    <tr>\n",
       "      <th>3</th>\n",
       "      <td>classic_bike</td>\n",
       "      <td>2022-01-04 00:18:04</td>\n",
       "      <td>2022-01-04 00:33:00</td>\n",
       "      <td>Clark St &amp; Bryn Mawr Ave</td>\n",
       "      <td>Paulina St &amp; Montrose Ave</td>\n",
       "      <td>0 days 00:14:56</td>\n",
       "      <td>Tuesday</td>\n",
       "      <td>0.25</td>\n",
       "      <td>14.93</td>\n",
       "      <td>Tuesday</td>\n",
       "    </tr>\n",
       "    <tr>\n",
       "      <th>4</th>\n",
       "      <td>classic_bike</td>\n",
       "      <td>2022-01-20 01:31:10</td>\n",
       "      <td>2022-01-20 01:37:12</td>\n",
       "      <td>Michigan Ave &amp; Jackson Blvd</td>\n",
       "      <td>State St &amp; Randolph St</td>\n",
       "      <td>0 days 00:06:02</td>\n",
       "      <td>Thursday</td>\n",
       "      <td>0.10</td>\n",
       "      <td>6.03</td>\n",
       "      <td>Thursday</td>\n",
       "    </tr>\n",
       "    <tr>\n",
       "      <th>...</th>\n",
       "      <td>...</td>\n",
       "      <td>...</td>\n",
       "      <td>...</td>\n",
       "      <td>...</td>\n",
       "      <td>...</td>\n",
       "      <td>...</td>\n",
       "      <td>...</td>\n",
       "      <td>...</td>\n",
       "      <td>...</td>\n",
       "      <td>...</td>\n",
       "    </tr>\n",
       "    <tr>\n",
       "      <th>4369355</th>\n",
       "      <td>classic_bike</td>\n",
       "      <td>2022-12-05 06:51:04</td>\n",
       "      <td>2022-12-05 06:54:48</td>\n",
       "      <td>Sangamon St &amp; Washington Blvd</td>\n",
       "      <td>Peoria St &amp; Jackson Blvd</td>\n",
       "      <td>0 days 00:03:44</td>\n",
       "      <td>Monday</td>\n",
       "      <td>0.06</td>\n",
       "      <td>3.73</td>\n",
       "      <td>Monday</td>\n",
       "    </tr>\n",
       "    <tr>\n",
       "      <th>4369356</th>\n",
       "      <td>electric_bike</td>\n",
       "      <td>2022-12-14 17:06:28</td>\n",
       "      <td>2022-12-14 17:19:27</td>\n",
       "      <td>Bernard St &amp; Elston Ave</td>\n",
       "      <td>Seeley Ave &amp; Roscoe St</td>\n",
       "      <td>0 days 00:12:59</td>\n",
       "      <td>Wednesday</td>\n",
       "      <td>0.22</td>\n",
       "      <td>12.98</td>\n",
       "      <td>Wednesday</td>\n",
       "    </tr>\n",
       "    <tr>\n",
       "      <th>4369357</th>\n",
       "      <td>classic_bike</td>\n",
       "      <td>2022-12-08 16:27:47</td>\n",
       "      <td>2022-12-08 16:32:20</td>\n",
       "      <td>Wacker Dr &amp; Washington St</td>\n",
       "      <td>Green St &amp; Madison St</td>\n",
       "      <td>0 days 00:04:33</td>\n",
       "      <td>Thursday</td>\n",
       "      <td>0.08</td>\n",
       "      <td>4.55</td>\n",
       "      <td>Thursday</td>\n",
       "    </tr>\n",
       "    <tr>\n",
       "      <th>4369358</th>\n",
       "      <td>classic_bike</td>\n",
       "      <td>2022-12-28 09:37:38</td>\n",
       "      <td>2022-12-28 09:41:34</td>\n",
       "      <td>Sangamon St &amp; Washington Blvd</td>\n",
       "      <td>Peoria St &amp; Jackson Blvd</td>\n",
       "      <td>0 days 00:03:56</td>\n",
       "      <td>Wednesday</td>\n",
       "      <td>0.07</td>\n",
       "      <td>3.93</td>\n",
       "      <td>Wednesday</td>\n",
       "    </tr>\n",
       "    <tr>\n",
       "      <th>4369359</th>\n",
       "      <td>classic_bike</td>\n",
       "      <td>2022-12-09 00:27:25</td>\n",
       "      <td>2022-12-09 00:35:28</td>\n",
       "      <td>Southport Ave &amp; Waveland Ave</td>\n",
       "      <td>Seeley Ave &amp; Roscoe St</td>\n",
       "      <td>0 days 00:08:03</td>\n",
       "      <td>Friday</td>\n",
       "      <td>0.13</td>\n",
       "      <td>8.05</td>\n",
       "      <td>Friday</td>\n",
       "    </tr>\n",
       "  </tbody>\n",
       "</table>\n",
       "<p>4369360 rows × 10 columns</p>\n",
       "</div>"
      ],
      "text/plain": [
       "         rideable_type          started_at            ended_at  \\\n",
       "0        electric_bike 2022-01-13 11:59:47 2022-01-13 12:02:44   \n",
       "1        electric_bike 2022-01-10 08:41:56 2022-01-10 08:46:17   \n",
       "2         classic_bike 2022-01-25 04:53:40 2022-01-25 04:58:01   \n",
       "3         classic_bike 2022-01-04 00:18:04 2022-01-04 00:33:00   \n",
       "4         classic_bike 2022-01-20 01:31:10 2022-01-20 01:37:12   \n",
       "...                ...                 ...                 ...   \n",
       "4369355   classic_bike 2022-12-05 06:51:04 2022-12-05 06:54:48   \n",
       "4369356  electric_bike 2022-12-14 17:06:28 2022-12-14 17:19:27   \n",
       "4369357   classic_bike 2022-12-08 16:27:47 2022-12-08 16:32:20   \n",
       "4369358   classic_bike 2022-12-28 09:37:38 2022-12-28 09:41:34   \n",
       "4369359   classic_bike 2022-12-09 00:27:25 2022-12-09 00:35:28   \n",
       "\n",
       "                    start_station_name               end_station_name  \\\n",
       "0             Glenwood Ave & Touhy Ave           Clark St & Touhy Ave   \n",
       "1             Glenwood Ave & Touhy Ave           Clark St & Touhy Ave   \n",
       "2        Sheffield Ave & Fullerton Ave  Greenview Ave & Fullerton Ave   \n",
       "3             Clark St & Bryn Mawr Ave      Paulina St & Montrose Ave   \n",
       "4          Michigan Ave & Jackson Blvd         State St & Randolph St   \n",
       "...                                ...                            ...   \n",
       "4369355  Sangamon St & Washington Blvd       Peoria St & Jackson Blvd   \n",
       "4369356        Bernard St & Elston Ave         Seeley Ave & Roscoe St   \n",
       "4369357      Wacker Dr & Washington St          Green St & Madison St   \n",
       "4369358  Sangamon St & Washington Blvd       Peoria St & Jackson Blvd   \n",
       "4369359   Southport Ave & Waveland Ave         Seeley Ave & Roscoe St   \n",
       "\n",
       "            ride_length started_weekday  ride_length_hrs  ride_length_mins  \\\n",
       "0       0 days 00:02:57        Thursday             0.05              2.95   \n",
       "1       0 days 00:04:21          Monday             0.07              4.35   \n",
       "2       0 days 00:04:21         Tuesday             0.07              4.35   \n",
       "3       0 days 00:14:56         Tuesday             0.25             14.93   \n",
       "4       0 days 00:06:02        Thursday             0.10              6.03   \n",
       "...                 ...             ...              ...               ...   \n",
       "4369355 0 days 00:03:44          Monday             0.06              3.73   \n",
       "4369356 0 days 00:12:59       Wednesday             0.22             12.98   \n",
       "4369357 0 days 00:04:33        Thursday             0.08              4.55   \n",
       "4369358 0 days 00:03:56       Wednesday             0.07              3.93   \n",
       "4369359 0 days 00:08:03          Friday             0.13              8.05   \n",
       "\n",
       "        ended_weekday  \n",
       "0            Thursday  \n",
       "1              Monday  \n",
       "2             Tuesday  \n",
       "3             Tuesday  \n",
       "4            Thursday  \n",
       "...               ...  \n",
       "4369355        Monday  \n",
       "4369356     Wednesday  \n",
       "4369357      Thursday  \n",
       "4369358     Wednesday  \n",
       "4369359        Friday  \n",
       "\n",
       "[4369360 rows x 10 columns]"
      ]
     },
     "execution_count": 41,
     "metadata": {},
     "output_type": "execute_result"
    }
   ],
   "source": [
    "df_ride"
   ]
  },
  {
   "cell_type": "code",
   "execution_count": 42,
   "id": "583550ce",
   "metadata": {},
   "outputs": [
    {
     "data": {
      "text/plain": [
       "Saturday     705623\n",
       "Thursday     645897\n",
       "Wednesday    616371\n",
       "Friday       608851\n",
       "Tuesday      607639\n",
       "Sunday       599049\n",
       "Monday       585930\n",
       "Name: started_weekday, dtype: int64"
      ]
     },
     "execution_count": 42,
     "metadata": {},
     "output_type": "execute_result"
    }
   ],
   "source": [
    "df_ride['started_weekday'].value_counts()"
   ]
  },
  {
   "cell_type": "code",
   "execution_count": 43,
   "id": "bebc5af2",
   "metadata": {},
   "outputs": [
    {
     "data": {
      "text/plain": [
       "Saturday     703878\n",
       "Thursday     645301\n",
       "Wednesday    616162\n",
       "Tuesday      607655\n",
       "Friday       606922\n",
       "Sunday       602850\n",
       "Monday       586592\n",
       "Name: ended_weekday, dtype: int64"
      ]
     },
     "execution_count": 43,
     "metadata": {},
     "output_type": "execute_result"
    }
   ],
   "source": [
    "df_ride['ended_weekday'].value_counts()"
   ]
  },
  {
   "cell_type": "code",
   "execution_count": 44,
   "id": "da4f0e2a",
   "metadata": {},
   "outputs": [
    {
     "data": {
      "text/plain": [
       "July         642680\n",
       "June         620350\n",
       "August       605325\n",
       "September    535145\n",
       "May          502545\n",
       "October      414269\n",
       "April        272560\n",
       "November     255794\n",
       "March        215983\n",
       "December     135403\n",
       "February      89178\n",
       "January       80128\n",
       "Name: started_at, dtype: int64"
      ]
     },
     "execution_count": 44,
     "metadata": {},
     "output_type": "execute_result"
    }
   ],
   "source": [
    "df_ride['started_at'].dt.month_name().value_counts()"
   ]
  },
  {
   "cell_type": "code",
   "execution_count": 45,
   "id": "6da89f6b",
   "metadata": {},
   "outputs": [
    {
     "data": {
      "text/plain": [
       "July         642723\n",
       "June         620287\n",
       "August       605368\n",
       "September    535118\n",
       "May          502534\n",
       "October      414308\n",
       "April        272507\n",
       "November     255827\n",
       "March        215984\n",
       "December     135369\n",
       "February      89168\n",
       "January       80167\n",
       "Name: ended_at, dtype: int64"
      ]
     },
     "execution_count": 45,
     "metadata": {},
     "output_type": "execute_result"
    }
   ],
   "source": [
    "df_ride['ended_at'].dt.month_name().value_counts()"
   ]
  },
  {
   "cell_type": "code",
   "execution_count": 46,
   "id": "0818eaa0",
   "metadata": {},
   "outputs": [
    {
     "data": {
      "text/plain": [
       "0   0 days 00:05:59\n",
       "Name: ride_length, dtype: timedelta64[ns]"
      ]
     },
     "execution_count": 46,
     "metadata": {},
     "output_type": "execute_result"
    }
   ],
   "source": [
    "df_ride['ride_length'].mode()"
   ]
  },
  {
   "cell_type": "code",
   "execution_count": 48,
   "id": "c313f38c",
   "metadata": {},
   "outputs": [
    {
     "data": {
      "text/plain": [
       "member    2611171\n",
       "casual    1758189\n",
       "Name: member_casual, dtype: int64"
      ]
     },
     "execution_count": 48,
     "metadata": {},
     "output_type": "execute_result"
    }
   ],
   "source": [
    "df_cycle['member_casual'].value_counts()"
   ]
  },
  {
   "cell_type": "markdown",
   "id": "848977ed",
   "metadata": {},
   "source": [
    "Calculated the mean ride length of all types of users, annual members and casual riders.\n",
    "\n",
    "* Observed that the mean ride length of casual riders was the highest."
   ]
  },
  {
   "cell_type": "code",
   "execution_count": 194,
   "id": "ee762802",
   "metadata": {},
   "outputs": [
    {
     "data": {
      "text/plain": [
       "Timedelta('0 days 00:17:05.710490552')"
      ]
     },
     "execution_count": 194,
     "metadata": {},
     "output_type": "execute_result"
    }
   ],
   "source": [
    "df_ride['ride_length'].mean()"
   ]
  },
  {
   "cell_type": "code",
   "execution_count": 199,
   "id": "dbc9cc83",
   "metadata": {},
   "outputs": [],
   "source": [
    "df_ride['member_casual']=df_cycle['member_casual']"
   ]
  },
  {
   "cell_type": "code",
   "execution_count": 200,
   "id": "18adbf5b",
   "metadata": {},
   "outputs": [],
   "source": [
    "mean_ride_length_member=df_ride[df_ride['member_casual']=='member']"
   ]
  },
  {
   "cell_type": "code",
   "execution_count": 201,
   "id": "3a844efc",
   "metadata": {},
   "outputs": [
    {
     "data": {
      "text/plain": [
       "Timedelta('0 days 00:16:59.935135368')"
      ]
     },
     "execution_count": 201,
     "metadata": {},
     "output_type": "execute_result"
    }
   ],
   "source": [
    "mean_ride_length_member['ride_length'].mean()"
   ]
  },
  {
   "cell_type": "code",
   "execution_count": 202,
   "id": "99f5fedb",
   "metadata": {},
   "outputs": [],
   "source": [
    "mean_ride_length_casual=df_ride[df_ride['member_casual']=='casual']"
   ]
  },
  {
   "cell_type": "code",
   "execution_count": 204,
   "id": "80fc2605",
   "metadata": {},
   "outputs": [
    {
     "data": {
      "text/plain": [
       "Timedelta('0 days 00:17:19.331581797')"
      ]
     },
     "execution_count": 204,
     "metadata": {},
     "output_type": "execute_result"
    }
   ],
   "source": [
    "mean_ride_length_casual_mean=mean_ride_length_casual['ride_length'].mean()\n",
    "mean_ride_length_casual_mean"
   ]
  },
  {
   "cell_type": "code",
   "execution_count": 207,
   "id": "b1d89b9b",
   "metadata": {},
   "outputs": [
    {
     "data": {
      "text/plain": [
       "Timedelta('23 days 20:34:04')"
      ]
     },
     "execution_count": 207,
     "metadata": {},
     "output_type": "execute_result"
    }
   ],
   "source": [
    "df_ride['ride_length'].max()"
   ]
  },
  {
   "cell_type": "code",
   "execution_count": 208,
   "id": "601cfd38",
   "metadata": {},
   "outputs": [
    {
     "data": {
      "text/plain": [
       "Timedelta('22 days 05:55:27')"
      ]
     },
     "execution_count": 208,
     "metadata": {},
     "output_type": "execute_result"
    }
   ],
   "source": [
    "mean_ride_length_member['ride_length'].max()"
   ]
  },
  {
   "cell_type": "code",
   "execution_count": 209,
   "id": "9a63525a",
   "metadata": {},
   "outputs": [
    {
     "data": {
      "text/plain": [
       "Timedelta('23 days 20:34:04')"
      ]
     },
     "execution_count": 209,
     "metadata": {},
     "output_type": "execute_result"
    }
   ],
   "source": [
    "mean_ride_length_casual['ride_length'].max()"
   ]
  },
  {
   "cell_type": "markdown",
   "id": "ae447a9e",
   "metadata": {},
   "source": [
    "Max ride length of casual riders was the highest"
   ]
  },
  {
   "cell_type": "code",
   "execution_count": 54,
   "id": "a254a023",
   "metadata": {},
   "outputs": [],
   "source": [
    "##df_cycle['distance']=np.round(df_cycle['distance'],decimals=2)"
   ]
  },
  {
   "cell_type": "code",
   "execution_count": 56,
   "id": "c7468fb6",
   "metadata": {},
   "outputs": [],
   "source": [
    "#plt.figure(figsize=(8,6))\n",
    "#sns.barplot(x='member_casual',y='distance',data=df_cycle)"
   ]
  },
  {
   "cell_type": "code",
   "execution_count": 63,
   "id": "73203539",
   "metadata": {},
   "outputs": [],
   "source": [
    "##df_cycle[df_cycle['member_casual']==df_cycle['member_casual'].mean()]"
   ]
  },
  {
   "cell_type": "code",
   "execution_count": 64,
   "id": "75f5fa1f",
   "metadata": {},
   "outputs": [
    {
     "data": {
      "text/html": [
       "<div>\n",
       "<style scoped>\n",
       "    .dataframe tbody tr th:only-of-type {\n",
       "        vertical-align: middle;\n",
       "    }\n",
       "\n",
       "    .dataframe tbody tr th {\n",
       "        vertical-align: top;\n",
       "    }\n",
       "\n",
       "    .dataframe thead th {\n",
       "        text-align: right;\n",
       "    }\n",
       "</style>\n",
       "<table border=\"1\" class=\"dataframe\">\n",
       "  <thead>\n",
       "    <tr style=\"text-align: right;\">\n",
       "      <th></th>\n",
       "      <th>rideable_type</th>\n",
       "      <th>started_at</th>\n",
       "      <th>ended_at</th>\n",
       "      <th>start_station_name</th>\n",
       "      <th>end_station_name</th>\n",
       "      <th>ride_length</th>\n",
       "      <th>started_weekday</th>\n",
       "      <th>ride_length_hrs</th>\n",
       "      <th>ride_length_mins</th>\n",
       "      <th>ended_weekday</th>\n",
       "      <th>member_casual</th>\n",
       "    </tr>\n",
       "  </thead>\n",
       "  <tbody>\n",
       "    <tr>\n",
       "      <th>0</th>\n",
       "      <td>electric_bike</td>\n",
       "      <td>2022-01-13 11:59:47</td>\n",
       "      <td>2022-01-13 12:02:44</td>\n",
       "      <td>Glenwood Ave &amp; Touhy Ave</td>\n",
       "      <td>Clark St &amp; Touhy Ave</td>\n",
       "      <td>0 days 00:02:57</td>\n",
       "      <td>Thursday</td>\n",
       "      <td>0.05</td>\n",
       "      <td>2.95</td>\n",
       "      <td>Thursday</td>\n",
       "      <td>casual</td>\n",
       "    </tr>\n",
       "    <tr>\n",
       "      <th>1</th>\n",
       "      <td>electric_bike</td>\n",
       "      <td>2022-01-10 08:41:56</td>\n",
       "      <td>2022-01-10 08:46:17</td>\n",
       "      <td>Glenwood Ave &amp; Touhy Ave</td>\n",
       "      <td>Clark St &amp; Touhy Ave</td>\n",
       "      <td>0 days 00:04:21</td>\n",
       "      <td>Monday</td>\n",
       "      <td>0.07</td>\n",
       "      <td>4.35</td>\n",
       "      <td>Monday</td>\n",
       "      <td>casual</td>\n",
       "    </tr>\n",
       "    <tr>\n",
       "      <th>2</th>\n",
       "      <td>classic_bike</td>\n",
       "      <td>2022-01-25 04:53:40</td>\n",
       "      <td>2022-01-25 04:58:01</td>\n",
       "      <td>Sheffield Ave &amp; Fullerton Ave</td>\n",
       "      <td>Greenview Ave &amp; Fullerton Ave</td>\n",
       "      <td>0 days 00:04:21</td>\n",
       "      <td>Tuesday</td>\n",
       "      <td>0.07</td>\n",
       "      <td>4.35</td>\n",
       "      <td>Tuesday</td>\n",
       "      <td>member</td>\n",
       "    </tr>\n",
       "    <tr>\n",
       "      <th>3</th>\n",
       "      <td>classic_bike</td>\n",
       "      <td>2022-01-04 00:18:04</td>\n",
       "      <td>2022-01-04 00:33:00</td>\n",
       "      <td>Clark St &amp; Bryn Mawr Ave</td>\n",
       "      <td>Paulina St &amp; Montrose Ave</td>\n",
       "      <td>0 days 00:14:56</td>\n",
       "      <td>Tuesday</td>\n",
       "      <td>0.25</td>\n",
       "      <td>14.93</td>\n",
       "      <td>Tuesday</td>\n",
       "      <td>casual</td>\n",
       "    </tr>\n",
       "    <tr>\n",
       "      <th>4</th>\n",
       "      <td>classic_bike</td>\n",
       "      <td>2022-01-20 01:31:10</td>\n",
       "      <td>2022-01-20 01:37:12</td>\n",
       "      <td>Michigan Ave &amp; Jackson Blvd</td>\n",
       "      <td>State St &amp; Randolph St</td>\n",
       "      <td>0 days 00:06:02</td>\n",
       "      <td>Thursday</td>\n",
       "      <td>0.10</td>\n",
       "      <td>6.03</td>\n",
       "      <td>Thursday</td>\n",
       "      <td>member</td>\n",
       "    </tr>\n",
       "    <tr>\n",
       "      <th>...</th>\n",
       "      <td>...</td>\n",
       "      <td>...</td>\n",
       "      <td>...</td>\n",
       "      <td>...</td>\n",
       "      <td>...</td>\n",
       "      <td>...</td>\n",
       "      <td>...</td>\n",
       "      <td>...</td>\n",
       "      <td>...</td>\n",
       "      <td>...</td>\n",
       "      <td>...</td>\n",
       "    </tr>\n",
       "    <tr>\n",
       "      <th>4369355</th>\n",
       "      <td>classic_bike</td>\n",
       "      <td>2022-12-05 06:51:04</td>\n",
       "      <td>2022-12-05 06:54:48</td>\n",
       "      <td>Sangamon St &amp; Washington Blvd</td>\n",
       "      <td>Peoria St &amp; Jackson Blvd</td>\n",
       "      <td>0 days 00:03:44</td>\n",
       "      <td>Monday</td>\n",
       "      <td>0.06</td>\n",
       "      <td>3.73</td>\n",
       "      <td>Monday</td>\n",
       "      <td>casual</td>\n",
       "    </tr>\n",
       "    <tr>\n",
       "      <th>4369356</th>\n",
       "      <td>electric_bike</td>\n",
       "      <td>2022-12-14 17:06:28</td>\n",
       "      <td>2022-12-14 17:19:27</td>\n",
       "      <td>Bernard St &amp; Elston Ave</td>\n",
       "      <td>Seeley Ave &amp; Roscoe St</td>\n",
       "      <td>0 days 00:12:59</td>\n",
       "      <td>Wednesday</td>\n",
       "      <td>0.22</td>\n",
       "      <td>12.98</td>\n",
       "      <td>Wednesday</td>\n",
       "      <td>member</td>\n",
       "    </tr>\n",
       "    <tr>\n",
       "      <th>4369357</th>\n",
       "      <td>classic_bike</td>\n",
       "      <td>2022-12-08 16:27:47</td>\n",
       "      <td>2022-12-08 16:32:20</td>\n",
       "      <td>Wacker Dr &amp; Washington St</td>\n",
       "      <td>Green St &amp; Madison St</td>\n",
       "      <td>0 days 00:04:33</td>\n",
       "      <td>Thursday</td>\n",
       "      <td>0.08</td>\n",
       "      <td>4.55</td>\n",
       "      <td>Thursday</td>\n",
       "      <td>casual</td>\n",
       "    </tr>\n",
       "    <tr>\n",
       "      <th>4369358</th>\n",
       "      <td>classic_bike</td>\n",
       "      <td>2022-12-28 09:37:38</td>\n",
       "      <td>2022-12-28 09:41:34</td>\n",
       "      <td>Sangamon St &amp; Washington Blvd</td>\n",
       "      <td>Peoria St &amp; Jackson Blvd</td>\n",
       "      <td>0 days 00:03:56</td>\n",
       "      <td>Wednesday</td>\n",
       "      <td>0.07</td>\n",
       "      <td>3.93</td>\n",
       "      <td>Wednesday</td>\n",
       "      <td>casual</td>\n",
       "    </tr>\n",
       "    <tr>\n",
       "      <th>4369359</th>\n",
       "      <td>classic_bike</td>\n",
       "      <td>2022-12-09 00:27:25</td>\n",
       "      <td>2022-12-09 00:35:28</td>\n",
       "      <td>Southport Ave &amp; Waveland Ave</td>\n",
       "      <td>Seeley Ave &amp; Roscoe St</td>\n",
       "      <td>0 days 00:08:03</td>\n",
       "      <td>Friday</td>\n",
       "      <td>0.13</td>\n",
       "      <td>8.05</td>\n",
       "      <td>Friday</td>\n",
       "      <td>casual</td>\n",
       "    </tr>\n",
       "  </tbody>\n",
       "</table>\n",
       "<p>4369360 rows × 11 columns</p>\n",
       "</div>"
      ],
      "text/plain": [
       "         rideable_type          started_at            ended_at  \\\n",
       "0        electric_bike 2022-01-13 11:59:47 2022-01-13 12:02:44   \n",
       "1        electric_bike 2022-01-10 08:41:56 2022-01-10 08:46:17   \n",
       "2         classic_bike 2022-01-25 04:53:40 2022-01-25 04:58:01   \n",
       "3         classic_bike 2022-01-04 00:18:04 2022-01-04 00:33:00   \n",
       "4         classic_bike 2022-01-20 01:31:10 2022-01-20 01:37:12   \n",
       "...                ...                 ...                 ...   \n",
       "4369355   classic_bike 2022-12-05 06:51:04 2022-12-05 06:54:48   \n",
       "4369356  electric_bike 2022-12-14 17:06:28 2022-12-14 17:19:27   \n",
       "4369357   classic_bike 2022-12-08 16:27:47 2022-12-08 16:32:20   \n",
       "4369358   classic_bike 2022-12-28 09:37:38 2022-12-28 09:41:34   \n",
       "4369359   classic_bike 2022-12-09 00:27:25 2022-12-09 00:35:28   \n",
       "\n",
       "                    start_station_name               end_station_name  \\\n",
       "0             Glenwood Ave & Touhy Ave           Clark St & Touhy Ave   \n",
       "1             Glenwood Ave & Touhy Ave           Clark St & Touhy Ave   \n",
       "2        Sheffield Ave & Fullerton Ave  Greenview Ave & Fullerton Ave   \n",
       "3             Clark St & Bryn Mawr Ave      Paulina St & Montrose Ave   \n",
       "4          Michigan Ave & Jackson Blvd         State St & Randolph St   \n",
       "...                                ...                            ...   \n",
       "4369355  Sangamon St & Washington Blvd       Peoria St & Jackson Blvd   \n",
       "4369356        Bernard St & Elston Ave         Seeley Ave & Roscoe St   \n",
       "4369357      Wacker Dr & Washington St          Green St & Madison St   \n",
       "4369358  Sangamon St & Washington Blvd       Peoria St & Jackson Blvd   \n",
       "4369359   Southport Ave & Waveland Ave         Seeley Ave & Roscoe St   \n",
       "\n",
       "            ride_length started_weekday  ride_length_hrs  ride_length_mins  \\\n",
       "0       0 days 00:02:57        Thursday             0.05              2.95   \n",
       "1       0 days 00:04:21          Monday             0.07              4.35   \n",
       "2       0 days 00:04:21         Tuesday             0.07              4.35   \n",
       "3       0 days 00:14:56         Tuesday             0.25             14.93   \n",
       "4       0 days 00:06:02        Thursday             0.10              6.03   \n",
       "...                 ...             ...              ...               ...   \n",
       "4369355 0 days 00:03:44          Monday             0.06              3.73   \n",
       "4369356 0 days 00:12:59       Wednesday             0.22             12.98   \n",
       "4369357 0 days 00:04:33        Thursday             0.08              4.55   \n",
       "4369358 0 days 00:03:56       Wednesday             0.07              3.93   \n",
       "4369359 0 days 00:08:03          Friday             0.13              8.05   \n",
       "\n",
       "        ended_weekday member_casual  \n",
       "0            Thursday        casual  \n",
       "1              Monday        casual  \n",
       "2             Tuesday        member  \n",
       "3             Tuesday        casual  \n",
       "4            Thursday        member  \n",
       "...               ...           ...  \n",
       "4369355        Monday        casual  \n",
       "4369356     Wednesday        member  \n",
       "4369357      Thursday        casual  \n",
       "4369358     Wednesday        casual  \n",
       "4369359        Friday        casual  \n",
       "\n",
       "[4369360 rows x 11 columns]"
      ]
     },
     "execution_count": 64,
     "metadata": {},
     "output_type": "execute_result"
    }
   ],
   "source": [
    "df_ride"
   ]
  },
  {
   "cell_type": "code",
   "execution_count": 66,
   "id": "33066c93",
   "metadata": {},
   "outputs": [
    {
     "data": {
      "text/html": [
       "<div>\n",
       "<style scoped>\n",
       "    .dataframe tbody tr th:only-of-type {\n",
       "        vertical-align: middle;\n",
       "    }\n",
       "\n",
       "    .dataframe tbody tr th {\n",
       "        vertical-align: top;\n",
       "    }\n",
       "\n",
       "    .dataframe thead th {\n",
       "        text-align: right;\n",
       "    }\n",
       "</style>\n",
       "<table border=\"1\" class=\"dataframe\">\n",
       "  <thead>\n",
       "    <tr style=\"text-align: right;\">\n",
       "      <th></th>\n",
       "      <th>rideable_type</th>\n",
       "      <th>started_at</th>\n",
       "      <th>ended_at</th>\n",
       "      <th>start_station_name</th>\n",
       "      <th>end_station_name</th>\n",
       "      <th>ride_length</th>\n",
       "      <th>started_weekday</th>\n",
       "      <th>ride_length_hrs</th>\n",
       "      <th>ride_length_mins</th>\n",
       "      <th>ended_weekday</th>\n",
       "      <th>member_casual</th>\n",
       "    </tr>\n",
       "  </thead>\n",
       "  <tbody>\n",
       "    <tr>\n",
       "      <th>2</th>\n",
       "      <td>classic_bike</td>\n",
       "      <td>2022-01-25 04:53:40</td>\n",
       "      <td>2022-01-25 04:58:01</td>\n",
       "      <td>Sheffield Ave &amp; Fullerton Ave</td>\n",
       "      <td>Greenview Ave &amp; Fullerton Ave</td>\n",
       "      <td>0 days 00:04:21</td>\n",
       "      <td>Tuesday</td>\n",
       "      <td>0.07</td>\n",
       "      <td>4.35</td>\n",
       "      <td>Tuesday</td>\n",
       "      <td>member</td>\n",
       "    </tr>\n",
       "    <tr>\n",
       "      <th>4</th>\n",
       "      <td>classic_bike</td>\n",
       "      <td>2022-01-20 01:31:10</td>\n",
       "      <td>2022-01-20 01:37:12</td>\n",
       "      <td>Michigan Ave &amp; Jackson Blvd</td>\n",
       "      <td>State St &amp; Randolph St</td>\n",
       "      <td>0 days 00:06:02</td>\n",
       "      <td>Thursday</td>\n",
       "      <td>0.10</td>\n",
       "      <td>6.03</td>\n",
       "      <td>Thursday</td>\n",
       "      <td>member</td>\n",
       "    </tr>\n",
       "    <tr>\n",
       "      <th>5</th>\n",
       "      <td>classic_bike</td>\n",
       "      <td>2022-01-11 18:48:09</td>\n",
       "      <td>2022-01-11 18:51:31</td>\n",
       "      <td>Wood St &amp; Chicago Ave</td>\n",
       "      <td>Honore St &amp; Division St</td>\n",
       "      <td>0 days 00:03:22</td>\n",
       "      <td>Tuesday</td>\n",
       "      <td>0.06</td>\n",
       "      <td>3.37</td>\n",
       "      <td>Tuesday</td>\n",
       "      <td>member</td>\n",
       "    </tr>\n",
       "    <tr>\n",
       "      <th>6</th>\n",
       "      <td>classic_bike</td>\n",
       "      <td>2022-01-30 18:32:52</td>\n",
       "      <td>2022-01-30 18:49:26</td>\n",
       "      <td>Oakley Ave &amp; Irving Park Rd</td>\n",
       "      <td>Broadway &amp; Sheridan Rd</td>\n",
       "      <td>0 days 00:16:34</td>\n",
       "      <td>Sunday</td>\n",
       "      <td>0.28</td>\n",
       "      <td>16.57</td>\n",
       "      <td>Sunday</td>\n",
       "      <td>member</td>\n",
       "    </tr>\n",
       "    <tr>\n",
       "      <th>7</th>\n",
       "      <td>classic_bike</td>\n",
       "      <td>2022-01-22 12:20:02</td>\n",
       "      <td>2022-01-22 12:32:06</td>\n",
       "      <td>Sheffield Ave &amp; Fullerton Ave</td>\n",
       "      <td>Damen Ave &amp; Clybourn Ave</td>\n",
       "      <td>0 days 00:12:04</td>\n",
       "      <td>Saturday</td>\n",
       "      <td>0.20</td>\n",
       "      <td>12.07</td>\n",
       "      <td>Saturday</td>\n",
       "      <td>member</td>\n",
       "    </tr>\n",
       "    <tr>\n",
       "      <th>...</th>\n",
       "      <td>...</td>\n",
       "      <td>...</td>\n",
       "      <td>...</td>\n",
       "      <td>...</td>\n",
       "      <td>...</td>\n",
       "      <td>...</td>\n",
       "      <td>...</td>\n",
       "      <td>...</td>\n",
       "      <td>...</td>\n",
       "      <td>...</td>\n",
       "      <td>...</td>\n",
       "    </tr>\n",
       "    <tr>\n",
       "      <th>4369341</th>\n",
       "      <td>electric_bike</td>\n",
       "      <td>2022-12-19 20:30:11</td>\n",
       "      <td>2022-12-19 20:40:31</td>\n",
       "      <td>Wood St &amp; Milwaukee Ave</td>\n",
       "      <td>Peoria St &amp; Jackson Blvd</td>\n",
       "      <td>0 days 00:10:20</td>\n",
       "      <td>Monday</td>\n",
       "      <td>0.17</td>\n",
       "      <td>10.33</td>\n",
       "      <td>Monday</td>\n",
       "      <td>member</td>\n",
       "    </tr>\n",
       "    <tr>\n",
       "      <th>4369342</th>\n",
       "      <td>classic_bike</td>\n",
       "      <td>2022-12-28 14:51:01</td>\n",
       "      <td>2022-12-28 14:54:39</td>\n",
       "      <td>Canal St &amp; Taylor St</td>\n",
       "      <td>Clinton St &amp; Tilden St</td>\n",
       "      <td>0 days 00:03:38</td>\n",
       "      <td>Wednesday</td>\n",
       "      <td>0.06</td>\n",
       "      <td>3.63</td>\n",
       "      <td>Wednesday</td>\n",
       "      <td>member</td>\n",
       "    </tr>\n",
       "    <tr>\n",
       "      <th>4369343</th>\n",
       "      <td>classic_bike</td>\n",
       "      <td>2022-12-15 16:44:58</td>\n",
       "      <td>2022-12-15 16:47:46</td>\n",
       "      <td>Larrabee St &amp; Armitage Ave</td>\n",
       "      <td>Larrabee St &amp; Menomonee St</td>\n",
       "      <td>0 days 00:02:48</td>\n",
       "      <td>Thursday</td>\n",
       "      <td>0.05</td>\n",
       "      <td>2.80</td>\n",
       "      <td>Thursday</td>\n",
       "      <td>member</td>\n",
       "    </tr>\n",
       "    <tr>\n",
       "      <th>4369344</th>\n",
       "      <td>electric_bike</td>\n",
       "      <td>2022-12-18 11:06:45</td>\n",
       "      <td>2022-12-18 11:14:45</td>\n",
       "      <td>Throop St &amp; Taylor St</td>\n",
       "      <td>Peoria St &amp; Jackson Blvd</td>\n",
       "      <td>0 days 00:08:00</td>\n",
       "      <td>Sunday</td>\n",
       "      <td>0.13</td>\n",
       "      <td>8.00</td>\n",
       "      <td>Sunday</td>\n",
       "      <td>member</td>\n",
       "    </tr>\n",
       "    <tr>\n",
       "      <th>4369356</th>\n",
       "      <td>electric_bike</td>\n",
       "      <td>2022-12-14 17:06:28</td>\n",
       "      <td>2022-12-14 17:19:27</td>\n",
       "      <td>Bernard St &amp; Elston Ave</td>\n",
       "      <td>Seeley Ave &amp; Roscoe St</td>\n",
       "      <td>0 days 00:12:59</td>\n",
       "      <td>Wednesday</td>\n",
       "      <td>0.22</td>\n",
       "      <td>12.98</td>\n",
       "      <td>Wednesday</td>\n",
       "      <td>member</td>\n",
       "    </tr>\n",
       "  </tbody>\n",
       "</table>\n",
       "<p>1970180 rows × 11 columns</p>\n",
       "</div>"
      ],
      "text/plain": [
       "         rideable_type          started_at            ended_at  \\\n",
       "2         classic_bike 2022-01-25 04:53:40 2022-01-25 04:58:01   \n",
       "4         classic_bike 2022-01-20 01:31:10 2022-01-20 01:37:12   \n",
       "5         classic_bike 2022-01-11 18:48:09 2022-01-11 18:51:31   \n",
       "6         classic_bike 2022-01-30 18:32:52 2022-01-30 18:49:26   \n",
       "7         classic_bike 2022-01-22 12:20:02 2022-01-22 12:32:06   \n",
       "...                ...                 ...                 ...   \n",
       "4369341  electric_bike 2022-12-19 20:30:11 2022-12-19 20:40:31   \n",
       "4369342   classic_bike 2022-12-28 14:51:01 2022-12-28 14:54:39   \n",
       "4369343   classic_bike 2022-12-15 16:44:58 2022-12-15 16:47:46   \n",
       "4369344  electric_bike 2022-12-18 11:06:45 2022-12-18 11:14:45   \n",
       "4369356  electric_bike 2022-12-14 17:06:28 2022-12-14 17:19:27   \n",
       "\n",
       "                    start_station_name               end_station_name  \\\n",
       "2        Sheffield Ave & Fullerton Ave  Greenview Ave & Fullerton Ave   \n",
       "4          Michigan Ave & Jackson Blvd         State St & Randolph St   \n",
       "5                Wood St & Chicago Ave        Honore St & Division St   \n",
       "6          Oakley Ave & Irving Park Rd         Broadway & Sheridan Rd   \n",
       "7        Sheffield Ave & Fullerton Ave       Damen Ave & Clybourn Ave   \n",
       "...                                ...                            ...   \n",
       "4369341        Wood St & Milwaukee Ave       Peoria St & Jackson Blvd   \n",
       "4369342           Canal St & Taylor St         Clinton St & Tilden St   \n",
       "4369343     Larrabee St & Armitage Ave     Larrabee St & Menomonee St   \n",
       "4369344          Throop St & Taylor St       Peoria St & Jackson Blvd   \n",
       "4369356        Bernard St & Elston Ave         Seeley Ave & Roscoe St   \n",
       "\n",
       "            ride_length started_weekday  ride_length_hrs  ride_length_mins  \\\n",
       "2       0 days 00:04:21         Tuesday             0.07              4.35   \n",
       "4       0 days 00:06:02        Thursday             0.10              6.03   \n",
       "5       0 days 00:03:22         Tuesday             0.06              3.37   \n",
       "6       0 days 00:16:34          Sunday             0.28             16.57   \n",
       "7       0 days 00:12:04        Saturday             0.20             12.07   \n",
       "...                 ...             ...              ...               ...   \n",
       "4369341 0 days 00:10:20          Monday             0.17             10.33   \n",
       "4369342 0 days 00:03:38       Wednesday             0.06              3.63   \n",
       "4369343 0 days 00:02:48        Thursday             0.05              2.80   \n",
       "4369344 0 days 00:08:00          Sunday             0.13              8.00   \n",
       "4369356 0 days 00:12:59       Wednesday             0.22             12.98   \n",
       "\n",
       "        ended_weekday member_casual  \n",
       "2             Tuesday        member  \n",
       "4            Thursday        member  \n",
       "5             Tuesday        member  \n",
       "6              Sunday        member  \n",
       "7            Saturday        member  \n",
       "...               ...           ...  \n",
       "4369341        Monday        member  \n",
       "4369342     Wednesday        member  \n",
       "4369343      Thursday        member  \n",
       "4369344        Sunday        member  \n",
       "4369356     Wednesday        member  \n",
       "\n",
       "[1970180 rows x 11 columns]"
      ]
     },
     "execution_count": 66,
     "metadata": {},
     "output_type": "execute_result"
    }
   ],
   "source": [
    "mean_ride_length_member"
   ]
  },
  {
   "cell_type": "code",
   "execution_count": 70,
   "id": "8db6107d",
   "metadata": {},
   "outputs": [
    {
     "data": {
      "text/html": [
       "<div>\n",
       "<style scoped>\n",
       "    .dataframe tbody tr th:only-of-type {\n",
       "        vertical-align: middle;\n",
       "    }\n",
       "\n",
       "    .dataframe tbody tr th {\n",
       "        vertical-align: top;\n",
       "    }\n",
       "\n",
       "    .dataframe thead th {\n",
       "        text-align: right;\n",
       "    }\n",
       "</style>\n",
       "<table border=\"1\" class=\"dataframe\">\n",
       "  <thead>\n",
       "    <tr style=\"text-align: right;\">\n",
       "      <th></th>\n",
       "      <th>rideable_type</th>\n",
       "      <th>started_at</th>\n",
       "      <th>ended_at</th>\n",
       "      <th>start_station_name</th>\n",
       "      <th>end_station_name</th>\n",
       "      <th>ride_length</th>\n",
       "      <th>started_weekday</th>\n",
       "      <th>ride_length_hrs</th>\n",
       "      <th>ride_length_mins</th>\n",
       "      <th>ended_weekday</th>\n",
       "      <th>member_casual</th>\n",
       "    </tr>\n",
       "  </thead>\n",
       "  <tbody>\n",
       "    <tr>\n",
       "      <th>0</th>\n",
       "      <td>electric_bike</td>\n",
       "      <td>2022-01-13 11:59:47</td>\n",
       "      <td>2022-01-13 12:02:44</td>\n",
       "      <td>Glenwood Ave &amp; Touhy Ave</td>\n",
       "      <td>Clark St &amp; Touhy Ave</td>\n",
       "      <td>0 days 00:02:57</td>\n",
       "      <td>Thursday</td>\n",
       "      <td>0.05</td>\n",
       "      <td>2.95</td>\n",
       "      <td>Thursday</td>\n",
       "      <td>casual</td>\n",
       "    </tr>\n",
       "    <tr>\n",
       "      <th>1</th>\n",
       "      <td>electric_bike</td>\n",
       "      <td>2022-01-10 08:41:56</td>\n",
       "      <td>2022-01-10 08:46:17</td>\n",
       "      <td>Glenwood Ave &amp; Touhy Ave</td>\n",
       "      <td>Clark St &amp; Touhy Ave</td>\n",
       "      <td>0 days 00:04:21</td>\n",
       "      <td>Monday</td>\n",
       "      <td>0.07</td>\n",
       "      <td>4.35</td>\n",
       "      <td>Monday</td>\n",
       "      <td>casual</td>\n",
       "    </tr>\n",
       "    <tr>\n",
       "      <th>3</th>\n",
       "      <td>classic_bike</td>\n",
       "      <td>2022-01-04 00:18:04</td>\n",
       "      <td>2022-01-04 00:33:00</td>\n",
       "      <td>Clark St &amp; Bryn Mawr Ave</td>\n",
       "      <td>Paulina St &amp; Montrose Ave</td>\n",
       "      <td>0 days 00:14:56</td>\n",
       "      <td>Tuesday</td>\n",
       "      <td>0.25</td>\n",
       "      <td>14.93</td>\n",
       "      <td>Tuesday</td>\n",
       "      <td>casual</td>\n",
       "    </tr>\n",
       "    <tr>\n",
       "      <th>14</th>\n",
       "      <td>electric_bike</td>\n",
       "      <td>2022-01-08 05:36:40</td>\n",
       "      <td>2022-01-08 05:46:40</td>\n",
       "      <td>Michigan Ave &amp; Jackson Blvd</td>\n",
       "      <td>St. Clair St &amp; Erie St</td>\n",
       "      <td>0 days 00:10:00</td>\n",
       "      <td>Saturday</td>\n",
       "      <td>0.17</td>\n",
       "      <td>10.00</td>\n",
       "      <td>Saturday</td>\n",
       "      <td>casual</td>\n",
       "    </tr>\n",
       "    <tr>\n",
       "      <th>22</th>\n",
       "      <td>electric_bike</td>\n",
       "      <td>2022-01-18 08:03:16</td>\n",
       "      <td>2022-01-18 08:08:00</td>\n",
       "      <td>California Ave &amp; Altgeld St</td>\n",
       "      <td>Milwaukee Ave &amp; Rockwell St</td>\n",
       "      <td>0 days 00:04:44</td>\n",
       "      <td>Tuesday</td>\n",
       "      <td>0.08</td>\n",
       "      <td>4.73</td>\n",
       "      <td>Tuesday</td>\n",
       "      <td>casual</td>\n",
       "    </tr>\n",
       "    <tr>\n",
       "      <th>...</th>\n",
       "      <td>...</td>\n",
       "      <td>...</td>\n",
       "      <td>...</td>\n",
       "      <td>...</td>\n",
       "      <td>...</td>\n",
       "      <td>...</td>\n",
       "      <td>...</td>\n",
       "      <td>...</td>\n",
       "      <td>...</td>\n",
       "      <td>...</td>\n",
       "      <td>...</td>\n",
       "    </tr>\n",
       "    <tr>\n",
       "      <th>4369354</th>\n",
       "      <td>classic_bike</td>\n",
       "      <td>2022-12-07 06:52:45</td>\n",
       "      <td>2022-12-07 06:56:36</td>\n",
       "      <td>Sangamon St &amp; Washington Blvd</td>\n",
       "      <td>Peoria St &amp; Jackson Blvd</td>\n",
       "      <td>0 days 00:03:51</td>\n",
       "      <td>Wednesday</td>\n",
       "      <td>0.06</td>\n",
       "      <td>3.85</td>\n",
       "      <td>Wednesday</td>\n",
       "      <td>casual</td>\n",
       "    </tr>\n",
       "    <tr>\n",
       "      <th>4369355</th>\n",
       "      <td>classic_bike</td>\n",
       "      <td>2022-12-05 06:51:04</td>\n",
       "      <td>2022-12-05 06:54:48</td>\n",
       "      <td>Sangamon St &amp; Washington Blvd</td>\n",
       "      <td>Peoria St &amp; Jackson Blvd</td>\n",
       "      <td>0 days 00:03:44</td>\n",
       "      <td>Monday</td>\n",
       "      <td>0.06</td>\n",
       "      <td>3.73</td>\n",
       "      <td>Monday</td>\n",
       "      <td>casual</td>\n",
       "    </tr>\n",
       "    <tr>\n",
       "      <th>4369357</th>\n",
       "      <td>classic_bike</td>\n",
       "      <td>2022-12-08 16:27:47</td>\n",
       "      <td>2022-12-08 16:32:20</td>\n",
       "      <td>Wacker Dr &amp; Washington St</td>\n",
       "      <td>Green St &amp; Madison St</td>\n",
       "      <td>0 days 00:04:33</td>\n",
       "      <td>Thursday</td>\n",
       "      <td>0.08</td>\n",
       "      <td>4.55</td>\n",
       "      <td>Thursday</td>\n",
       "      <td>casual</td>\n",
       "    </tr>\n",
       "    <tr>\n",
       "      <th>4369358</th>\n",
       "      <td>classic_bike</td>\n",
       "      <td>2022-12-28 09:37:38</td>\n",
       "      <td>2022-12-28 09:41:34</td>\n",
       "      <td>Sangamon St &amp; Washington Blvd</td>\n",
       "      <td>Peoria St &amp; Jackson Blvd</td>\n",
       "      <td>0 days 00:03:56</td>\n",
       "      <td>Wednesday</td>\n",
       "      <td>0.07</td>\n",
       "      <td>3.93</td>\n",
       "      <td>Wednesday</td>\n",
       "      <td>casual</td>\n",
       "    </tr>\n",
       "    <tr>\n",
       "      <th>4369359</th>\n",
       "      <td>classic_bike</td>\n",
       "      <td>2022-12-09 00:27:25</td>\n",
       "      <td>2022-12-09 00:35:28</td>\n",
       "      <td>Southport Ave &amp; Waveland Ave</td>\n",
       "      <td>Seeley Ave &amp; Roscoe St</td>\n",
       "      <td>0 days 00:08:03</td>\n",
       "      <td>Friday</td>\n",
       "      <td>0.13</td>\n",
       "      <td>8.05</td>\n",
       "      <td>Friday</td>\n",
       "      <td>casual</td>\n",
       "    </tr>\n",
       "  </tbody>\n",
       "</table>\n",
       "<p>1440260 rows × 11 columns</p>\n",
       "</div>"
      ],
      "text/plain": [
       "         rideable_type          started_at            ended_at  \\\n",
       "0        electric_bike 2022-01-13 11:59:47 2022-01-13 12:02:44   \n",
       "1        electric_bike 2022-01-10 08:41:56 2022-01-10 08:46:17   \n",
       "3         classic_bike 2022-01-04 00:18:04 2022-01-04 00:33:00   \n",
       "14       electric_bike 2022-01-08 05:36:40 2022-01-08 05:46:40   \n",
       "22       electric_bike 2022-01-18 08:03:16 2022-01-18 08:08:00   \n",
       "...                ...                 ...                 ...   \n",
       "4369354   classic_bike 2022-12-07 06:52:45 2022-12-07 06:56:36   \n",
       "4369355   classic_bike 2022-12-05 06:51:04 2022-12-05 06:54:48   \n",
       "4369357   classic_bike 2022-12-08 16:27:47 2022-12-08 16:32:20   \n",
       "4369358   classic_bike 2022-12-28 09:37:38 2022-12-28 09:41:34   \n",
       "4369359   classic_bike 2022-12-09 00:27:25 2022-12-09 00:35:28   \n",
       "\n",
       "                    start_station_name             end_station_name  \\\n",
       "0             Glenwood Ave & Touhy Ave         Clark St & Touhy Ave   \n",
       "1             Glenwood Ave & Touhy Ave         Clark St & Touhy Ave   \n",
       "3             Clark St & Bryn Mawr Ave    Paulina St & Montrose Ave   \n",
       "14         Michigan Ave & Jackson Blvd       St. Clair St & Erie St   \n",
       "22         California Ave & Altgeld St  Milwaukee Ave & Rockwell St   \n",
       "...                                ...                          ...   \n",
       "4369354  Sangamon St & Washington Blvd     Peoria St & Jackson Blvd   \n",
       "4369355  Sangamon St & Washington Blvd     Peoria St & Jackson Blvd   \n",
       "4369357      Wacker Dr & Washington St        Green St & Madison St   \n",
       "4369358  Sangamon St & Washington Blvd     Peoria St & Jackson Blvd   \n",
       "4369359   Southport Ave & Waveland Ave       Seeley Ave & Roscoe St   \n",
       "\n",
       "            ride_length started_weekday  ride_length_hrs  ride_length_mins  \\\n",
       "0       0 days 00:02:57        Thursday             0.05              2.95   \n",
       "1       0 days 00:04:21          Monday             0.07              4.35   \n",
       "3       0 days 00:14:56         Tuesday             0.25             14.93   \n",
       "14      0 days 00:10:00        Saturday             0.17             10.00   \n",
       "22      0 days 00:04:44         Tuesday             0.08              4.73   \n",
       "...                 ...             ...              ...               ...   \n",
       "4369354 0 days 00:03:51       Wednesday             0.06              3.85   \n",
       "4369355 0 days 00:03:44          Monday             0.06              3.73   \n",
       "4369357 0 days 00:04:33        Thursday             0.08              4.55   \n",
       "4369358 0 days 00:03:56       Wednesday             0.07              3.93   \n",
       "4369359 0 days 00:08:03          Friday             0.13              8.05   \n",
       "\n",
       "        ended_weekday member_casual  \n",
       "0            Thursday        casual  \n",
       "1              Monday        casual  \n",
       "3             Tuesday        casual  \n",
       "14           Saturday        casual  \n",
       "22            Tuesday        casual  \n",
       "...               ...           ...  \n",
       "4369354     Wednesday        casual  \n",
       "4369355        Monday        casual  \n",
       "4369357      Thursday        casual  \n",
       "4369358     Wednesday        casual  \n",
       "4369359        Friday        casual  \n",
       "\n",
       "[1440260 rows x 11 columns]"
      ]
     },
     "execution_count": 70,
     "metadata": {},
     "output_type": "execute_result"
    }
   ],
   "source": [
    "mean_ride_length_casual"
   ]
  },
  {
   "cell_type": "code",
   "execution_count": 232,
   "id": "8d8d0253",
   "metadata": {
    "scrolled": false
   },
   "outputs": [
    {
     "data": {
      "text/plain": [
       "<AxesSubplot:>"
      ]
     },
     "execution_count": 232,
     "metadata": {},
     "output_type": "execute_result"
    },
    {
     "data": {
      "image/png": "[encoded data removed]",
      "text/plain": [
       "<Figure size 800x550 with 1 Axes>"
      ]
     },
     "metadata": {},
     "output_type": "display_data"
    }
   ],
   "source": [
    "df_ride['started_weekday'].value_counts().sort_values(ascending=False).plot(kind='bar')"
   ]
  },
  {
   "cell_type": "code",
   "execution_count": null,
   "id": "1848b696",
   "metadata": {},
   "outputs": [],
   "source": [
    "mode_weekday_member=df_ride[df_ride['member_casual']== 'member']"
   ]
  },
  {
   "cell_type": "code",
   "execution_count": null,
   "id": "42633cf1",
   "metadata": {},
   "outputs": [],
   "source": [
    "mode_weekday_casual=df_ride[df_ride['member_casual']== 'casual']"
   ]
  },
  {
   "cell_type": "code",
   "execution_count": 223,
   "id": "51364502",
   "metadata": {
    "scrolled": true
   },
   "outputs": [
    {
     "data": {
      "text/plain": [
       "0    Saturday\n",
       "Name: started_weekday, dtype: object"
      ]
     },
     "execution_count": 223,
     "metadata": {},
     "output_type": "execute_result"
    }
   ],
   "source": [
    "mode_weekday_member['started_weekday'].mode()"
   ]
  },
  {
   "cell_type": "code",
   "execution_count": 226,
   "id": "c50900a8",
   "metadata": {},
   "outputs": [
    {
     "data": {
      "text/plain": [
       "<AxesSubplot:>"
      ]
     },
     "execution_count": 226,
     "metadata": {},
     "output_type": "execute_result"
    },
    {
     "data": {
      "image/png": "[encoded data removed]",
      "text/plain": [
       "<Figure size 800x550 with 1 Axes>"
      ]
     },
     "metadata": {},
     "output_type": "display_data"
    }
   ],
   "source": [
    "mode_weekday_member['started_weekday'].value_counts().sort_values(ascending=False).plot(kind='bar')"
   ]
  },
  {
   "cell_type": "code",
   "execution_count": 227,
   "id": "9bae3bee",
   "metadata": {},
   "outputs": [
    {
     "data": {
      "text/plain": [
       "<AxesSubplot:>"
      ]
     },
     "execution_count": 227,
     "metadata": {},
     "output_type": "execute_result"
    },
    {
     "data": {
      "image/png": "[encoded data removed]",
      "text/plain": [
       "<Figure size 800x550 with 1 Axes>"
      ]
     },
     "metadata": {},
     "output_type": "display_data"
    }
   ],
   "source": [
    "mode_weekday_casual['started_weekday'].value_counts().sort_values(ascending=False).plot(kind='bar')"
   ]
  },
  {
   "cell_type": "code",
   "execution_count": 228,
   "id": "ba1ecd07",
   "metadata": {},
   "outputs": [
    {
     "data": {
      "text/plain": [
       "<AxesSubplot:>"
      ]
     },
     "execution_count": 228,
     "metadata": {},
     "output_type": "execute_result"
    },
    {
     "data": {
      "image/png": "[encoded data removed]",
      "text/plain": [
       "<Figure size 800x550 with 1 Axes>"
      ]
     },
     "metadata": {},
     "output_type": "display_data"
    }
   ],
   "source": [
    "mode_weekday_member['started_month'].value_counts().sort_values(ascending=False).plot(kind='bar')"
   ]
  },
  {
   "cell_type": "code",
   "execution_count": 229,
   "id": "3b7ac634",
   "metadata": {},
   "outputs": [
    {
     "data": {
      "text/plain": [
       "<AxesSubplot:>"
      ]
     },
     "execution_count": 229,
     "metadata": {},
     "output_type": "execute_result"
    },
    {
     "data": {
      "image/png": "[encoded data removed]",
      "text/plain": [
       "<Figure size 800x550 with 1 Axes>"
      ]
     },
     "metadata": {},
     "output_type": "display_data"
    }
   ],
   "source": [
    "mode_weekday_casual['started_month'].value_counts().sort_values(ascending=False).plot(kind='bar')"
   ]
  },
  {
   "cell_type": "code",
   "execution_count": 224,
   "id": "c0adb422",
   "metadata": {},
   "outputs": [
    {
     "data": {
      "text/plain": [
       "0    Saturday\n",
       "Name: started_weekday, dtype: object"
      ]
     },
     "execution_count": 224,
     "metadata": {},
     "output_type": "execute_result"
    }
   ],
   "source": [
    "mode_weekday_casual['started_weekday'].mode()"
   ]
  },
  {
   "cell_type": "code",
   "execution_count": 220,
   "id": "ffebe583",
   "metadata": {},
   "outputs": [
    {
     "data": {
      "text/plain": [
       "0    July\n",
       "Name: started_month, dtype: object"
      ]
     },
     "execution_count": 220,
     "metadata": {},
     "output_type": "execute_result"
    }
   ],
   "source": [
    "mode_weekday_member['started_month'].mode()"
   ]
  },
  {
   "cell_type": "code",
   "execution_count": 221,
   "id": "50e8f98d",
   "metadata": {},
   "outputs": [
    {
     "data": {
      "text/plain": [
       "0    August\n",
       "Name: started_month, dtype: object"
      ]
     },
     "execution_count": 221,
     "metadata": {},
     "output_type": "execute_result"
    }
   ],
   "source": [
    "mode_weekday_casual['started_month'].mode()"
   ]
  },
  {
   "cell_type": "code",
   "execution_count": 213,
   "id": "42c76ac0",
   "metadata": {
    "scrolled": false
   },
   "outputs": [
    {
     "data": {
      "text/plain": [
       "0    Saturday\n",
       "Name: started_weekday, dtype: object"
      ]
     },
     "execution_count": 213,
     "metadata": {},
     "output_type": "execute_result"
    }
   ],
   "source": [
    "mean_ride_length_member['started_weekday'].mode()"
   ]
  },
  {
   "cell_type": "code",
   "execution_count": 233,
   "id": "e8a32144",
   "metadata": {},
   "outputs": [
    {
     "data": {
      "text/plain": [
       "Saturday     312338\n",
       "Thursday     290886\n",
       "Wednesday    280565\n",
       "Tuesday      277467\n",
       "Friday       270379\n",
       "Sunday       270352\n",
       "Monday       268193\n",
       "Name: ended_weekday, dtype: int64"
      ]
     },
     "execution_count": 233,
     "metadata": {},
     "output_type": "execute_result"
    }
   ],
   "source": [
    "mean_ride_length_member['ended_weekday'].value_counts()"
   ]
  },
  {
   "cell_type": "code",
   "execution_count": 214,
   "id": "c563fb85",
   "metadata": {},
   "outputs": [
    {
     "data": {
      "text/plain": [
       "0    Saturday\n",
       "Name: started_weekday, dtype: object"
      ]
     },
     "execution_count": 214,
     "metadata": {},
     "output_type": "execute_result"
    }
   ],
   "source": [
    "mean_ride_length_casual['started_weekday'].mode()"
   ]
  },
  {
   "cell_type": "code",
   "execution_count": 81,
   "id": "08ef2142",
   "metadata": {},
   "outputs": [
    {
     "data": {
      "text/plain": [
       "Saturday     231901\n",
       "Thursday     213055\n",
       "Wednesday    205380\n",
       "Friday       201960\n",
       "Tuesday      199820\n",
       "Sunday       198514\n",
       "Monday       189630\n",
       "Name: ended_weekday, dtype: int64"
      ]
     },
     "execution_count": 81,
     "metadata": {},
     "output_type": "execute_result"
    }
   ],
   "source": [
    "mean_ride_length_casual['ended_weekday'].value_counts()"
   ]
  },
  {
   "cell_type": "code",
   "execution_count": 82,
   "id": "b1f0a15e",
   "metadata": {},
   "outputs": [
    {
     "data": {
      "text/plain": [
       "0    Saturday\n",
       "Name: ended_weekday, dtype: object"
      ]
     },
     "execution_count": 82,
     "metadata": {},
     "output_type": "execute_result"
    }
   ],
   "source": [
    "mean_ride_length_casual['ended_weekday'].mode()"
   ]
  },
  {
   "cell_type": "code",
   "execution_count": 83,
   "id": "0c8e6b77",
   "metadata": {},
   "outputs": [
    {
     "data": {
      "text/plain": [
       "Saturday     705623\n",
       "Thursday     645897\n",
       "Wednesday    616371\n",
       "Friday       608851\n",
       "Tuesday      607639\n",
       "Sunday       599049\n",
       "Monday       585930\n",
       "Name: started_weekday, dtype: int64"
      ]
     },
     "execution_count": 83,
     "metadata": {},
     "output_type": "execute_result"
    }
   ],
   "source": [
    "df_ride['started_weekday'].value_counts()"
   ]
  },
  {
   "cell_type": "code",
   "execution_count": 84,
   "id": "3d662fa3",
   "metadata": {},
   "outputs": [
    {
     "name": "stderr",
     "output_type": "stream",
     "text": [
      "C:\\Users\\DEEPAK\\AppData\\Local\\Temp\\ipykernel_6600\\3599949634.py:1: SettingWithCopyWarning: \n",
      "A value is trying to be set on a copy of a slice from a DataFrame.\n",
      "Try using .loc[row_indexer,col_indexer] = value instead\n",
      "\n",
      "See the caveats in the documentation: https://pandas.pydata.org/pandas-docs/stable/user_guide/indexing.html#returning-a-view-versus-a-copy\n",
      "  mean_ride_length_casual.loc[:,'ride_id']=df_cycle['ride_id']\n"
     ]
    }
   ],
   "source": [
    "mean_ride_length_casual.loc[:,'ride_id']=df_cycle['ride_id']"
   ]
  },
  {
   "cell_type": "code",
   "execution_count": 85,
   "id": "55a8d453",
   "metadata": {},
   "outputs": [],
   "source": [
    "number_of_counts_casual=mean_ride_length_casual.groupby('started_weekday')['ride_id'].count().reset_index()"
   ]
  },
  {
   "cell_type": "code",
   "execution_count": 86,
   "id": "bfc40300",
   "metadata": {
    "scrolled": true
   },
   "outputs": [
    {
     "data": {
      "text/html": [
       "<div>\n",
       "<style scoped>\n",
       "    .dataframe tbody tr th:only-of-type {\n",
       "        vertical-align: middle;\n",
       "    }\n",
       "\n",
       "    .dataframe tbody tr th {\n",
       "        vertical-align: top;\n",
       "    }\n",
       "\n",
       "    .dataframe thead th {\n",
       "        text-align: right;\n",
       "    }\n",
       "</style>\n",
       "<table border=\"1\" class=\"dataframe\">\n",
       "  <thead>\n",
       "    <tr style=\"text-align: right;\">\n",
       "      <th></th>\n",
       "      <th>started_weekday</th>\n",
       "      <th>ride_id</th>\n",
       "    </tr>\n",
       "  </thead>\n",
       "  <tbody>\n",
       "    <tr>\n",
       "      <th>0</th>\n",
       "      <td>Friday</td>\n",
       "      <td>202680</td>\n",
       "    </tr>\n",
       "    <tr>\n",
       "      <th>1</th>\n",
       "      <td>Monday</td>\n",
       "      <td>189418</td>\n",
       "    </tr>\n",
       "    <tr>\n",
       "      <th>2</th>\n",
       "      <td>Saturday</td>\n",
       "      <td>232416</td>\n",
       "    </tr>\n",
       "    <tr>\n",
       "      <th>3</th>\n",
       "      <td>Sunday</td>\n",
       "      <td>197225</td>\n",
       "    </tr>\n",
       "    <tr>\n",
       "      <th>4</th>\n",
       "      <td>Thursday</td>\n",
       "      <td>213273</td>\n",
       "    </tr>\n",
       "    <tr>\n",
       "      <th>5</th>\n",
       "      <td>Tuesday</td>\n",
       "      <td>199807</td>\n",
       "    </tr>\n",
       "    <tr>\n",
       "      <th>6</th>\n",
       "      <td>Wednesday</td>\n",
       "      <td>205441</td>\n",
       "    </tr>\n",
       "  </tbody>\n",
       "</table>\n",
       "</div>"
      ],
      "text/plain": [
       "  started_weekday  ride_id\n",
       "0          Friday   202680\n",
       "1          Monday   189418\n",
       "2        Saturday   232416\n",
       "3          Sunday   197225\n",
       "4        Thursday   213273\n",
       "5         Tuesday   199807\n",
       "6       Wednesday   205441"
      ]
     },
     "execution_count": 86,
     "metadata": {},
     "output_type": "execute_result"
    }
   ],
   "source": [
    "number_of_counts_casual"
   ]
  },
  {
   "cell_type": "code",
   "execution_count": 88,
   "id": "15cd82d0",
   "metadata": {},
   "outputs": [
    {
     "name": "stderr",
     "output_type": "stream",
     "text": [
      "C:\\Users\\DEEPAK\\AppData\\Local\\Temp\\ipykernel_6600\\1476504336.py:1: SettingWithCopyWarning: \n",
      "A value is trying to be set on a copy of a slice from a DataFrame.\n",
      "Try using .loc[row_indexer,col_indexer] = value instead\n",
      "\n",
      "See the caveats in the documentation: https://pandas.pydata.org/pandas-docs/stable/user_guide/indexing.html#returning-a-view-versus-a-copy\n",
      "  mean_ride_length_member.loc[:,'ride_id']=df_cycle['ride_id']\n"
     ]
    }
   ],
   "source": [
    "mean_ride_length_member.loc[:,'ride_id']=df_cycle['ride_id']"
   ]
  },
  {
   "cell_type": "code",
   "execution_count": 89,
   "id": "db7851dd",
   "metadata": {},
   "outputs": [],
   "source": [
    "number_of_count_member=mean_ride_length_member.groupby('started_weekday')['ride_id'].count().reset_index()"
   ]
  },
  {
   "cell_type": "code",
   "execution_count": 90,
   "id": "5c25823e",
   "metadata": {},
   "outputs": [
    {
     "data": {
      "text/html": [
       "<div>\n",
       "<style scoped>\n",
       "    .dataframe tbody tr th:only-of-type {\n",
       "        vertical-align: middle;\n",
       "    }\n",
       "\n",
       "    .dataframe tbody tr th {\n",
       "        vertical-align: top;\n",
       "    }\n",
       "\n",
       "    .dataframe thead th {\n",
       "        text-align: right;\n",
       "    }\n",
       "</style>\n",
       "<table border=\"1\" class=\"dataframe\">\n",
       "  <thead>\n",
       "    <tr style=\"text-align: right;\">\n",
       "      <th></th>\n",
       "      <th>started_weekday</th>\n",
       "      <th>ride_id</th>\n",
       "    </tr>\n",
       "  </thead>\n",
       "  <tbody>\n",
       "    <tr>\n",
       "      <th>2</th>\n",
       "      <td>Saturday</td>\n",
       "      <td>313187</td>\n",
       "    </tr>\n",
       "    <tr>\n",
       "      <th>4</th>\n",
       "      <td>Thursday</td>\n",
       "      <td>291079</td>\n",
       "    </tr>\n",
       "    <tr>\n",
       "      <th>6</th>\n",
       "      <td>Wednesday</td>\n",
       "      <td>280692</td>\n",
       "    </tr>\n",
       "    <tr>\n",
       "      <th>5</th>\n",
       "      <td>Tuesday</td>\n",
       "      <td>277473</td>\n",
       "    </tr>\n",
       "    <tr>\n",
       "      <th>0</th>\n",
       "      <td>Friday</td>\n",
       "      <td>271161</td>\n",
       "    </tr>\n",
       "    <tr>\n",
       "      <th>3</th>\n",
       "      <td>Sunday</td>\n",
       "      <td>268699</td>\n",
       "    </tr>\n",
       "    <tr>\n",
       "      <th>1</th>\n",
       "      <td>Monday</td>\n",
       "      <td>267889</td>\n",
       "    </tr>\n",
       "  </tbody>\n",
       "</table>\n",
       "</div>"
      ],
      "text/plain": [
       "  started_weekday  ride_id\n",
       "2        Saturday   313187\n",
       "4        Thursday   291079\n",
       "6       Wednesday   280692\n",
       "5         Tuesday   277473\n",
       "0          Friday   271161\n",
       "3          Sunday   268699\n",
       "1          Monday   267889"
      ]
     },
     "execution_count": 90,
     "metadata": {},
     "output_type": "execute_result"
    }
   ],
   "source": [
    "number_of_count_member.sort_values(by='ride_id',ascending=False)"
   ]
  },
  {
   "cell_type": "markdown",
   "id": "707250f6",
   "metadata": {},
   "source": [
    "The maximum number of rides for casual riders was on Saturday and lowest was recorded on Monday.\n",
    "\n",
    "The maximum number of rides for annual members was on Saturday and lowest was recorded on Monday."
   ]
  },
  {
   "cell_type": "code",
   "execution_count": 234,
   "id": "7737b3c9",
   "metadata": {},
   "outputs": [
    {
     "data": {
      "text/html": [
       "<div>\n",
       "<style scoped>\n",
       "    .dataframe tbody tr th:only-of-type {\n",
       "        vertical-align: middle;\n",
       "    }\n",
       "\n",
       "    .dataframe tbody tr th {\n",
       "        vertical-align: top;\n",
       "    }\n",
       "\n",
       "    .dataframe thead th {\n",
       "        text-align: right;\n",
       "    }\n",
       "</style>\n",
       "<table border=\"1\" class=\"dataframe\">\n",
       "  <thead>\n",
       "    <tr style=\"text-align: right;\">\n",
       "      <th></th>\n",
       "      <th>started_weekday</th>\n",
       "      <th>ride_length</th>\n",
       "    </tr>\n",
       "  </thead>\n",
       "  <tbody>\n",
       "    <tr>\n",
       "      <th>0</th>\n",
       "      <td>Saturday</td>\n",
       "      <td>0 days 00:20:35.983862676</td>\n",
       "    </tr>\n",
       "    <tr>\n",
       "      <th>1</th>\n",
       "      <td>Sunday</td>\n",
       "      <td>0 days 00:20:26.550750095</td>\n",
       "    </tr>\n",
       "    <tr>\n",
       "      <th>2</th>\n",
       "      <td>Monday</td>\n",
       "      <td>0 days 00:16:42.762875668</td>\n",
       "    </tr>\n",
       "    <tr>\n",
       "      <th>3</th>\n",
       "      <td>Friday</td>\n",
       "      <td>0 days 00:16:15.275400961</td>\n",
       "    </tr>\n",
       "    <tr>\n",
       "      <th>4</th>\n",
       "      <td>Thursday</td>\n",
       "      <td>0 days 00:15:20.196534274</td>\n",
       "    </tr>\n",
       "    <tr>\n",
       "      <th>5</th>\n",
       "      <td>Wednesday</td>\n",
       "      <td>0 days 00:14:42.846297721</td>\n",
       "    </tr>\n",
       "    <tr>\n",
       "      <th>6</th>\n",
       "      <td>Tuesday</td>\n",
       "      <td>0 days 00:14:39.527701794</td>\n",
       "    </tr>\n",
       "  </tbody>\n",
       "</table>\n",
       "</div>"
      ],
      "text/plain": [
       "  started_weekday               ride_length\n",
       "0        Saturday 0 days 00:20:35.983862676\n",
       "1          Sunday 0 days 00:20:26.550750095\n",
       "2          Monday 0 days 00:16:42.762875668\n",
       "3          Friday 0 days 00:16:15.275400961\n",
       "4        Thursday 0 days 00:15:20.196534274\n",
       "5       Wednesday 0 days 00:14:42.846297721\n",
       "6         Tuesday 0 days 00:14:39.527701794"
      ]
     },
     "execution_count": 234,
     "metadata": {},
     "output_type": "execute_result"
    }
   ],
   "source": [
    "mean_ride_length_member.groupby('started_weekday')['ride_length'].mean().reset_index().sort_values(by='ride_length',ascending=False,ignore_index=True)"
   ]
  },
  {
   "cell_type": "code",
   "execution_count": 93,
   "id": "54bfa36a",
   "metadata": {
    "scrolled": true
   },
   "outputs": [
    {
     "data": {
      "text/html": [
       "<div>\n",
       "<style scoped>\n",
       "    .dataframe tbody tr th:only-of-type {\n",
       "        vertical-align: middle;\n",
       "    }\n",
       "\n",
       "    .dataframe tbody tr th {\n",
       "        vertical-align: top;\n",
       "    }\n",
       "\n",
       "    .dataframe thead th {\n",
       "        text-align: right;\n",
       "    }\n",
       "</style>\n",
       "<table border=\"1\" class=\"dataframe\">\n",
       "  <thead>\n",
       "    <tr style=\"text-align: right;\">\n",
       "      <th></th>\n",
       "      <th>started_weekday</th>\n",
       "      <th>ride_length</th>\n",
       "    </tr>\n",
       "  </thead>\n",
       "  <tbody>\n",
       "    <tr>\n",
       "      <th>0</th>\n",
       "      <td>Saturday</td>\n",
       "      <td>0 days 00:20:55.412523234</td>\n",
       "    </tr>\n",
       "    <tr>\n",
       "      <th>1</th>\n",
       "      <td>Sunday</td>\n",
       "      <td>0 days 00:20:54.732097857</td>\n",
       "    </tr>\n",
       "    <tr>\n",
       "      <th>2</th>\n",
       "      <td>Monday</td>\n",
       "      <td>0 days 00:16:48.409596764</td>\n",
       "    </tr>\n",
       "    <tr>\n",
       "      <th>3</th>\n",
       "      <td>Friday</td>\n",
       "      <td>0 days 00:16:36.901494967</td>\n",
       "    </tr>\n",
       "    <tr>\n",
       "      <th>4</th>\n",
       "      <td>Thursday</td>\n",
       "      <td>0 days 00:15:31.367819648</td>\n",
       "    </tr>\n",
       "    <tr>\n",
       "      <th>5</th>\n",
       "      <td>Tuesday</td>\n",
       "      <td>0 days 00:15:08.861266121</td>\n",
       "    </tr>\n",
       "    <tr>\n",
       "      <th>6</th>\n",
       "      <td>Wednesday</td>\n",
       "      <td>0 days 00:14:57.434460502</td>\n",
       "    </tr>\n",
       "  </tbody>\n",
       "</table>\n",
       "</div>"
      ],
      "text/plain": [
       "  started_weekday               ride_length\n",
       "0        Saturday 0 days 00:20:55.412523234\n",
       "1          Sunday 0 days 00:20:54.732097857\n",
       "2          Monday 0 days 00:16:48.409596764\n",
       "3          Friday 0 days 00:16:36.901494967\n",
       "4        Thursday 0 days 00:15:31.367819648\n",
       "5         Tuesday 0 days 00:15:08.861266121\n",
       "6       Wednesday 0 days 00:14:57.434460502"
      ]
     },
     "execution_count": 93,
     "metadata": {},
     "output_type": "execute_result"
    }
   ],
   "source": [
    "mean_ride_length_casual.groupby('started_weekday')['ride_length'].mean().reset_index().sort_values(by='ride_length',ascending=False,ignore_index=True)"
   ]
  },
  {
   "cell_type": "markdown",
   "id": "11bff783",
   "metadata": {},
   "source": [
    "Both members and casual riders prefer to ride for a minimum of 14 minutes and a maximum of 20 minutes. They tend to ride more on weekends and less on weekdays"
   ]
  },
  {
   "cell_type": "code",
   "execution_count": 94,
   "id": "34a5bb15",
   "metadata": {
    "scrolled": false
   },
   "outputs": [
    {
     "data": {
      "text/html": [
       "<div>\n",
       "<style scoped>\n",
       "    .dataframe tbody tr th:only-of-type {\n",
       "        vertical-align: middle;\n",
       "    }\n",
       "\n",
       "    .dataframe tbody tr th {\n",
       "        vertical-align: top;\n",
       "    }\n",
       "\n",
       "    .dataframe thead th {\n",
       "        text-align: right;\n",
       "    }\n",
       "</style>\n",
       "<table border=\"1\" class=\"dataframe\">\n",
       "  <thead>\n",
       "    <tr style=\"text-align: right;\">\n",
       "      <th></th>\n",
       "      <th>started_weekday</th>\n",
       "      <th>ride_length</th>\n",
       "    </tr>\n",
       "  </thead>\n",
       "  <tbody>\n",
       "    <tr>\n",
       "      <th>0</th>\n",
       "      <td>Saturday</td>\n",
       "      <td>0 days 00:20:35.983862676</td>\n",
       "    </tr>\n",
       "    <tr>\n",
       "      <th>1</th>\n",
       "      <td>Sunday</td>\n",
       "      <td>0 days 00:20:26.550750095</td>\n",
       "    </tr>\n",
       "    <tr>\n",
       "      <th>2</th>\n",
       "      <td>Monday</td>\n",
       "      <td>0 days 00:16:42.762875668</td>\n",
       "    </tr>\n",
       "    <tr>\n",
       "      <th>3</th>\n",
       "      <td>Friday</td>\n",
       "      <td>0 days 00:16:15.275400961</td>\n",
       "    </tr>\n",
       "    <tr>\n",
       "      <th>4</th>\n",
       "      <td>Thursday</td>\n",
       "      <td>0 days 00:15:20.196534274</td>\n",
       "    </tr>\n",
       "    <tr>\n",
       "      <th>5</th>\n",
       "      <td>Wednesday</td>\n",
       "      <td>0 days 00:14:42.846297721</td>\n",
       "    </tr>\n",
       "    <tr>\n",
       "      <th>6</th>\n",
       "      <td>Tuesday</td>\n",
       "      <td>0 days 00:14:39.527701794</td>\n",
       "    </tr>\n",
       "  </tbody>\n",
       "</table>\n",
       "</div>"
      ],
      "text/plain": [
       "  started_weekday               ride_length\n",
       "0        Saturday 0 days 00:20:35.983862676\n",
       "1          Sunday 0 days 00:20:26.550750095\n",
       "2          Monday 0 days 00:16:42.762875668\n",
       "3          Friday 0 days 00:16:15.275400961\n",
       "4        Thursday 0 days 00:15:20.196534274\n",
       "5       Wednesday 0 days 00:14:42.846297721\n",
       "6         Tuesday 0 days 00:14:39.527701794"
      ]
     },
     "execution_count": 94,
     "metadata": {},
     "output_type": "execute_result"
    }
   ],
   "source": [
    "mean_ride_length_member.groupby('started_weekday')['ride_length'].mean().reset_index().sort_values(by='ride_length',ascending=False,ignore_index=True)"
   ]
  },
  {
   "cell_type": "code",
   "execution_count": 95,
   "id": "93dfcf25",
   "metadata": {
    "scrolled": true
   },
   "outputs": [
    {
     "data": {
      "text/html": [
       "<div>\n",
       "<style scoped>\n",
       "    .dataframe tbody tr th:only-of-type {\n",
       "        vertical-align: middle;\n",
       "    }\n",
       "\n",
       "    .dataframe tbody tr th {\n",
       "        vertical-align: top;\n",
       "    }\n",
       "\n",
       "    .dataframe thead th {\n",
       "        text-align: right;\n",
       "    }\n",
       "</style>\n",
       "<table border=\"1\" class=\"dataframe\">\n",
       "  <thead>\n",
       "    <tr style=\"text-align: right;\">\n",
       "      <th></th>\n",
       "      <th>started_weekday</th>\n",
       "      <th>ride_length</th>\n",
       "    </tr>\n",
       "  </thead>\n",
       "  <tbody>\n",
       "    <tr>\n",
       "      <th>0</th>\n",
       "      <td>Saturday</td>\n",
       "      <td>0 days 00:20:38.209171186</td>\n",
       "    </tr>\n",
       "    <tr>\n",
       "      <th>1</th>\n",
       "      <td>Sunday</td>\n",
       "      <td>0 days 00:20:34.558835754</td>\n",
       "    </tr>\n",
       "    <tr>\n",
       "      <th>2</th>\n",
       "      <td>Monday</td>\n",
       "      <td>0 days 00:16:38.239607120</td>\n",
       "    </tr>\n",
       "    <tr>\n",
       "      <th>3</th>\n",
       "      <td>Friday</td>\n",
       "      <td>0 days 00:16:21.984989759</td>\n",
       "    </tr>\n",
       "    <tr>\n",
       "      <th>4</th>\n",
       "      <td>Thursday</td>\n",
       "      <td>0 days 00:15:22.123868047</td>\n",
       "    </tr>\n",
       "    <tr>\n",
       "      <th>5</th>\n",
       "      <td>Tuesday</td>\n",
       "      <td>0 days 00:14:54.559707326</td>\n",
       "    </tr>\n",
       "    <tr>\n",
       "      <th>6</th>\n",
       "      <td>Wednesday</td>\n",
       "      <td>0 days 00:14:46.610176338</td>\n",
       "    </tr>\n",
       "  </tbody>\n",
       "</table>\n",
       "</div>"
      ],
      "text/plain": [
       "  started_weekday               ride_length\n",
       "0        Saturday 0 days 00:20:38.209171186\n",
       "1          Sunday 0 days 00:20:34.558835754\n",
       "2          Monday 0 days 00:16:38.239607120\n",
       "3          Friday 0 days 00:16:21.984989759\n",
       "4        Thursday 0 days 00:15:22.123868047\n",
       "5         Tuesday 0 days 00:14:54.559707326\n",
       "6       Wednesday 0 days 00:14:46.610176338"
      ]
     },
     "execution_count": 95,
     "metadata": {},
     "output_type": "execute_result"
    }
   ],
   "source": [
    "df_ride.groupby('started_weekday')['ride_length'].mean().reset_index().sort_values(by='ride_length',ascending=False,ignore_index=True)"
   ]
  },
  {
   "cell_type": "code",
   "execution_count": 237,
   "id": "c5acd002",
   "metadata": {
    "scrolled": false
   },
   "outputs": [
    {
     "data": {
      "text/plain": [
       "<AxesSubplot:xlabel='member_casual', ylabel='distance'>"
      ]
     },
     "execution_count": 237,
     "metadata": {},
     "output_type": "execute_result"
    },
    {
     "data": {
      "image/png": "[encoded data removed]",
      "text/plain": [
       "<Figure size 800x600 with 1 Axes>"
      ]
     },
     "metadata": {},
     "output_type": "display_data"
    }
   ],
   "source": [
    "plt.figure(figsize=(8,6))\n",
    "sns.barplot(x='member_casual', y='distance', data=df_ride, palette='viridis')"
   ]
  },
  {
   "cell_type": "raw",
   "id": "dbe296ba",
   "metadata": {},
   "source": []
  },
  {
   "cell_type": "code",
   "execution_count": 241,
   "id": "037a948f",
   "metadata": {
    "scrolled": false
   },
   "outputs": [
    {
     "data": {
      "text/plain": [
       "<AxesSubplot:xlabel='member_casual', ylabel='ride_length_mins'>"
      ]
     },
     "execution_count": 241,
     "metadata": {},
     "output_type": "execute_result"
    },
    {
     "data": {
      "image/png": "[encoded data removed]",
      "text/plain": [
       "<Figure size 800x600 with 1 Axes>"
      ]
     },
     "metadata": {},
     "output_type": "display_data"
    }
   ],
   "source": [
    "plt.figure(figsize=(8,6))\n",
    "sns.barplot(x='member_casual', y='ride_length_mins', data=df_ride, palette='viridis')"
   ]
  },
  {
   "cell_type": "markdown",
   "id": "b5daf769",
   "metadata": {},
   "source": [
    "It can be observed that casual riders travel greater distances and ride more frequently than member riders."
   ]
  },
  {
   "cell_type": "code",
   "execution_count": 253,
   "id": "1d7258c8",
   "metadata": {
    "scrolled": true
   },
   "outputs": [],
   "source": [
    "df_ride['hour']=df_ride['started_at'].dt.hour"
   ]
  },
  {
   "cell_type": "code",
   "execution_count": 258,
   "id": "ba62c4fd",
   "metadata": {},
   "outputs": [
    {
     "data": {
      "image/png": "[encoded data removed]",
      "text/plain": [
       "<Figure size 1200x600 with 1 Axes>"
      ]
     },
     "metadata": {},
     "output_type": "display_data"
    }
   ],
   "source": [
    "plt.figure(figsize=(12,6))\n",
    "sns.countplot(x='hour', hue='member_casual', data=df_ride, palette='Paired')\n",
    "plt.tight_layout()"
   ]
  },
  {
   "cell_type": "markdown",
   "id": "35bbb0da",
   "metadata": {},
   "source": [
    "* Evening hours see a lot of traffic compared to other timings. This is largly because of office timings of member riders. Casual member also find evening hours productive to go for a ride.\n",
    "\n",
    "* Morning hours are again busy for member riders due to working hours. Casual members are using bikes for rides at late night somewhere around 9-11 PM."
   ]
  },
  {
   "cell_type": "code",
   "execution_count": 264,
   "id": "04115ea6",
   "metadata": {
    "scrolled": false
   },
   "outputs": [
    {
     "data": {
      "image/png": "[encoded data removed]",
      "text/plain": [
       "<Figure size 800x550 with 1 Axes>"
      ]
     },
     "metadata": {},
     "output_type": "display_data"
    }
   ],
   "source": [
    "order = [\"Monday\", \"Tuesday\", \"Wednesday\", \"Thursday\", \"Friday\", \"Saturday\", \"Sunday\"]\n",
    "sns.countplot(x='started_weekday', hue='member_casual', data=df_ride, palette='viridis',order=order)\n",
    "plt.tight_layout()"
   ]
  },
  {
   "cell_type": "markdown",
   "id": "1b911ee1",
   "metadata": {},
   "source": [
    "* Casual riders are enthusiastic on weekends as they have the highest bike usage on Saturday, which decreases on Sunday, possibly due to the end of the weekend and the desire to preserve their energy for the upcoming weekdays\n",
    "\n",
    "* Member riders have consistent use of bikes."
   ]
  },
  {
   "cell_type": "code",
   "execution_count": 260,
   "id": "fbc41fc4",
   "metadata": {
    "scrolled": true
   },
   "outputs": [
    {
     "data": {
      "text/html": [
       "<div>\n",
       "<style scoped>\n",
       "    .dataframe tbody tr th:only-of-type {\n",
       "        vertical-align: middle;\n",
       "    }\n",
       "\n",
       "    .dataframe tbody tr th {\n",
       "        vertical-align: top;\n",
       "    }\n",
       "\n",
       "    .dataframe thead th {\n",
       "        text-align: right;\n",
       "    }\n",
       "</style>\n",
       "<table border=\"1\" class=\"dataframe\">\n",
       "  <thead>\n",
       "    <tr style=\"text-align: right;\">\n",
       "      <th></th>\n",
       "      <th>rideable_type</th>\n",
       "      <th>started_at</th>\n",
       "      <th>ended_at</th>\n",
       "      <th>start_station_name</th>\n",
       "      <th>end_station_name</th>\n",
       "      <th>ride_length</th>\n",
       "      <th>started_weekday</th>\n",
       "      <th>ride_length_hrs</th>\n",
       "      <th>ride_length_mins</th>\n",
       "      <th>distance</th>\n",
       "      <th>ended_weekday</th>\n",
       "      <th>started_month</th>\n",
       "      <th>ended_month</th>\n",
       "      <th>member_casual</th>\n",
       "      <th>hour</th>\n",
       "    </tr>\n",
       "  </thead>\n",
       "  <tbody>\n",
       "    <tr>\n",
       "      <th>0</th>\n",
       "      <td>electric_bike</td>\n",
       "      <td>2022-01-13 11:59:47</td>\n",
       "      <td>2022-01-13 12:02:44</td>\n",
       "      <td>Glenwood Ave &amp; Touhy Ave</td>\n",
       "      <td>Clark St &amp; Touhy Ave</td>\n",
       "      <td>0 days 00:02:57</td>\n",
       "      <td>Thursday</td>\n",
       "      <td>0.05</td>\n",
       "      <td>2.95</td>\n",
       "      <td>0.94</td>\n",
       "      <td>Thursday</td>\n",
       "      <td>January</td>\n",
       "      <td>January</td>\n",
       "      <td>casual</td>\n",
       "      <td>11</td>\n",
       "    </tr>\n",
       "    <tr>\n",
       "      <th>1</th>\n",
       "      <td>electric_bike</td>\n",
       "      <td>2022-01-10 08:41:56</td>\n",
       "      <td>2022-01-10 08:46:17</td>\n",
       "      <td>Glenwood Ave &amp; Touhy Ave</td>\n",
       "      <td>Clark St &amp; Touhy Ave</td>\n",
       "      <td>0 days 00:04:21</td>\n",
       "      <td>Monday</td>\n",
       "      <td>0.07</td>\n",
       "      <td>4.35</td>\n",
       "      <td>0.93</td>\n",
       "      <td>Monday</td>\n",
       "      <td>January</td>\n",
       "      <td>January</td>\n",
       "      <td>casual</td>\n",
       "      <td>8</td>\n",
       "    </tr>\n",
       "    <tr>\n",
       "      <th>2</th>\n",
       "      <td>classic_bike</td>\n",
       "      <td>2022-01-25 04:53:40</td>\n",
       "      <td>2022-01-25 04:58:01</td>\n",
       "      <td>Sheffield Ave &amp; Fullerton Ave</td>\n",
       "      <td>Greenview Ave &amp; Fullerton Ave</td>\n",
       "      <td>0 days 00:04:21</td>\n",
       "      <td>Tuesday</td>\n",
       "      <td>0.07</td>\n",
       "      <td>4.35</td>\n",
       "      <td>1.34</td>\n",
       "      <td>Tuesday</td>\n",
       "      <td>January</td>\n",
       "      <td>January</td>\n",
       "      <td>member</td>\n",
       "      <td>4</td>\n",
       "    </tr>\n",
       "    <tr>\n",
       "      <th>3</th>\n",
       "      <td>classic_bike</td>\n",
       "      <td>2022-01-04 00:18:04</td>\n",
       "      <td>2022-01-04 00:33:00</td>\n",
       "      <td>Clark St &amp; Bryn Mawr Ave</td>\n",
       "      <td>Paulina St &amp; Montrose Ave</td>\n",
       "      <td>0 days 00:14:56</td>\n",
       "      <td>Tuesday</td>\n",
       "      <td>0.25</td>\n",
       "      <td>14.93</td>\n",
       "      <td>2.46</td>\n",
       "      <td>Tuesday</td>\n",
       "      <td>January</td>\n",
       "      <td>January</td>\n",
       "      <td>casual</td>\n",
       "      <td>0</td>\n",
       "    </tr>\n",
       "    <tr>\n",
       "      <th>4</th>\n",
       "      <td>classic_bike</td>\n",
       "      <td>2022-01-20 01:31:10</td>\n",
       "      <td>2022-01-20 01:37:12</td>\n",
       "      <td>Michigan Ave &amp; Jackson Blvd</td>\n",
       "      <td>State St &amp; Randolph St</td>\n",
       "      <td>0 days 00:06:02</td>\n",
       "      <td>Thursday</td>\n",
       "      <td>0.10</td>\n",
       "      <td>6.03</td>\n",
       "      <td>0.86</td>\n",
       "      <td>Thursday</td>\n",
       "      <td>January</td>\n",
       "      <td>January</td>\n",
       "      <td>member</td>\n",
       "      <td>1</td>\n",
       "    </tr>\n",
       "  </tbody>\n",
       "</table>\n",
       "</div>"
      ],
      "text/plain": [
       "   rideable_type          started_at            ended_at  \\\n",
       "0  electric_bike 2022-01-13 11:59:47 2022-01-13 12:02:44   \n",
       "1  electric_bike 2022-01-10 08:41:56 2022-01-10 08:46:17   \n",
       "2   classic_bike 2022-01-25 04:53:40 2022-01-25 04:58:01   \n",
       "3   classic_bike 2022-01-04 00:18:04 2022-01-04 00:33:00   \n",
       "4   classic_bike 2022-01-20 01:31:10 2022-01-20 01:37:12   \n",
       "\n",
       "              start_station_name               end_station_name  \\\n",
       "0       Glenwood Ave & Touhy Ave           Clark St & Touhy Ave   \n",
       "1       Glenwood Ave & Touhy Ave           Clark St & Touhy Ave   \n",
       "2  Sheffield Ave & Fullerton Ave  Greenview Ave & Fullerton Ave   \n",
       "3       Clark St & Bryn Mawr Ave      Paulina St & Montrose Ave   \n",
       "4    Michigan Ave & Jackson Blvd         State St & Randolph St   \n",
       "\n",
       "      ride_length started_weekday  ride_length_hrs  ride_length_mins  \\\n",
       "0 0 days 00:02:57        Thursday             0.05              2.95   \n",
       "1 0 days 00:04:21          Monday             0.07              4.35   \n",
       "2 0 days 00:04:21         Tuesday             0.07              4.35   \n",
       "3 0 days 00:14:56         Tuesday             0.25             14.93   \n",
       "4 0 days 00:06:02        Thursday             0.10              6.03   \n",
       "\n",
       "   distance ended_weekday started_month ended_month member_casual  hour  \n",
       "0      0.94      Thursday       January     January        casual    11  \n",
       "1      0.93        Monday       January     January        casual     8  \n",
       "2      1.34       Tuesday       January     January        member     4  \n",
       "3      2.46       Tuesday       January     January        casual     0  \n",
       "4      0.86      Thursday       January     January        member     1  "
      ]
     },
     "execution_count": 260,
     "metadata": {},
     "output_type": "execute_result"
    }
   ],
   "source": [
    "df_ride.head()"
   ]
  },
  {
   "cell_type": "code",
   "execution_count": 265,
   "id": "f5b175f9",
   "metadata": {
    "scrolled": false
   },
   "outputs": [
    {
     "data": {
      "image/png": "[encoded data removed]",
      "text/plain": [
       "<Figure size 800x550 with 1 Axes>"
      ]
     },
     "metadata": {},
     "output_type": "display_data"
    }
   ],
   "source": [
    "order = ['January', 'February', 'March', 'April', 'May', 'June', 'July', 'August', 'September', 'October', 'November','December']\n",
    "sns.countplot(x='started_month', hue='member_casual', data=df_ride, palette='ocean', order=order)\n",
    "plt.tight_layout()"
   ]
  },
  {
   "cell_type": "markdown",
   "id": "3f9cf0af",
   "metadata": {},
   "source": [
    "* The summer months have the highest bike usage, which can serve as a starting point for preparing a business strategy"
   ]
  },
  {
   "cell_type": "code",
   "execution_count": 102,
   "id": "68c40f0c",
   "metadata": {},
   "outputs": [],
   "source": [
    "member_casual=df_ride['member_casual'].value_counts()"
   ]
  },
  {
   "cell_type": "code",
   "execution_count": 103,
   "id": "172ad754",
   "metadata": {},
   "outputs": [
    {
     "data": {
      "text/plain": [
       "Index(['member', 'casual'], dtype='object')"
      ]
     },
     "execution_count": 103,
     "metadata": {},
     "output_type": "execute_result"
    }
   ],
   "source": [
    "member_casual.to_frame().index"
   ]
  },
  {
   "cell_type": "code",
   "execution_count": 104,
   "id": "7a570596",
   "metadata": {
    "scrolled": false
   },
   "outputs": [
    {
     "data": {
      "image/png": "[encoded data removed]",
      "text/plain": [
       "<Figure size 800x550 with 1 Axes>"
      ]
     },
     "metadata": {},
     "output_type": "display_data"
    }
   ],
   "source": [
    "plt.style.use('seaborn')\n",
    "plt.pie(member_casual.values,labels=member_casual.index,autopct='%1.1f%%')\n",
    "plt.show()"
   ]
  },
  {
   "cell_type": "markdown",
   "id": "3cf8ccfc",
   "metadata": {},
   "source": [
    "Member riders are more than casual  riders"
   ]
  },
  {
   "cell_type": "code",
   "execution_count": 111,
   "id": "6520d64c",
   "metadata": {},
   "outputs": [],
   "source": [
    "ride_type=df_ride.groupby('member_casual')['rideable_type'].value_counts()"
   ]
  },
  {
   "cell_type": "code",
   "execution_count": 112,
   "id": "d3e03830",
   "metadata": {},
   "outputs": [
    {
     "data": {
      "text/plain": [
       "member_casual  rideable_type\n",
       "casual         classic_bike      852128\n",
       "               electric_bike     528538\n",
       "               docked_bike        59594\n",
       "member         classic_bike     1179404\n",
       "               electric_bike     712656\n",
       "               docked_bike        78120\n",
       "Name: rideable_type, dtype: int64"
      ]
     },
     "execution_count": 112,
     "metadata": {},
     "output_type": "execute_result"
    }
   ],
   "source": [
    "ride_type"
   ]
  },
  {
   "cell_type": "code",
   "execution_count": 113,
   "id": "5133a0f3",
   "metadata": {},
   "outputs": [],
   "source": [
    "member=[]\n",
    "x_bikes=[]\n",
    "y=list(ride_type.values)\n",
    "for i,j in ride_type.index:\n",
    "    x_bikes.append(j)\n",
    "    member.append(i)"
   ]
  },
  {
   "cell_type": "code",
   "execution_count": 114,
   "id": "969c80e1",
   "metadata": {},
   "outputs": [
    {
     "name": "stderr",
     "output_type": "stream",
     "text": [
      "C:\\Users\\DEEPAK\\anaconda3\\lib\\site-packages\\seaborn\\_decorators.py:36: FutureWarning: Pass the following variables as keyword args: x, y. From version 0.12, the only valid positional argument will be `data`, and passing other arguments without an explicit keyword will result in an error or misinterpretation.\n",
      "  warnings.warn(\n"
     ]
    },
    {
     "data": {
      "image/png": "[encoded data removed]",
      "text/plain": [
       "<Figure size 1100x800 with 1 Axes>"
      ]
     },
     "metadata": {},
     "output_type": "display_data"
    }
   ],
   "source": [
    "plt.figure(figsize=(11,8))\n",
    "sns.barplot(x_bikes,y,hue=member)\n",
    "plt.show()"
   ]
  },
  {
   "cell_type": "code",
   "execution_count": 116,
   "id": "b41dacd6",
   "metadata": {
    "scrolled": false
   },
   "outputs": [
    {
     "data": {
      "image/png": "[encoded data removed]",
      "text/plain": [
       "<Figure size 800x550 with 1 Axes>"
      ]
     },
     "metadata": {},
     "output_type": "display_data"
    }
   ],
   "source": [
    "sns.barplot(x='member_casual',y='distance',data=df_ride)\n",
    "plt.show()"
   ]
  },
  {
   "cell_type": "code",
   "execution_count": 117,
   "id": "616e7dbc",
   "metadata": {
    "scrolled": false
   },
   "outputs": [
    {
     "data": {
      "image/png": "[encoded data removed]",
      "text/plain": [
       "<Figure size 1000x500 with 1 Axes>"
      ]
     },
     "metadata": {},
     "output_type": "display_data"
    }
   ],
   "source": [
    "plt.figure(figsize=(10,5))\n",
    "sns.barplot(x='member_casual',y='distance',data=df_ride,hue='started_month')\n",
    "plt.show()"
   ]
  },
  {
   "cell_type": "code",
   "execution_count": 118,
   "id": "49a000f1",
   "metadata": {},
   "outputs": [
    {
     "data": {
      "text/plain": [
       "member_casual\n",
       "casual    2.437230\n",
       "member    2.350979\n",
       "Name: distance, dtype: float64"
      ]
     },
     "execution_count": 118,
     "metadata": {},
     "output_type": "execute_result"
    }
   ],
   "source": [
    "df_ride.groupby('member_casual')['distance'].mean()"
   ]
  },
  {
   "cell_type": "code",
   "execution_count": 121,
   "id": "9c4996ca",
   "metadata": {
    "scrolled": true
   },
   "outputs": [
    {
     "data": {
      "image/png": "[encoded data removed]",
      "text/plain": [
       "<Figure size 1500x400 with 1 Axes>"
      ]
     },
     "metadata": {},
     "output_type": "display_data"
    }
   ],
   "source": [
    "plt.figure(figsize=(15,4))\n",
    "sns.barplot(x='started_weekday',y='distance',hue='member_casual',data=df_ride)\n",
    "plt.show()"
   ]
  },
  {
   "cell_type": "markdown",
   "id": "1918ced8",
   "metadata": {},
   "source": [
    "Surprisingly, casual riders travel a greater distance than member riders"
   ]
  },
  {
   "cell_type": "code",
   "execution_count": 122,
   "id": "5ca9fde7",
   "metadata": {},
   "outputs": [],
   "source": [
    "top_10_station_start=df_ride['start_station_name'].value_counts().to_frame()[0:10].reset_index().rename(columns={'index':'station','start_station_name':'count'})"
   ]
  },
  {
   "cell_type": "code",
   "execution_count": 123,
   "id": "88cbaec6",
   "metadata": {},
   "outputs": [],
   "source": [
    "top_10_station_end=df_ride['end_station_name'].value_counts().to_frame()[0:10]"
   ]
  },
  {
   "cell_type": "code",
   "execution_count": 124,
   "id": "3bae77de",
   "metadata": {},
   "outputs": [
    {
     "data": {
      "text/html": [
       "<div>\n",
       "<style scoped>\n",
       "    .dataframe tbody tr th:only-of-type {\n",
       "        vertical-align: middle;\n",
       "    }\n",
       "\n",
       "    .dataframe tbody tr th {\n",
       "        vertical-align: top;\n",
       "    }\n",
       "\n",
       "    .dataframe thead th {\n",
       "        text-align: right;\n",
       "    }\n",
       "</style>\n",
       "<table border=\"1\" class=\"dataframe\">\n",
       "  <thead>\n",
       "    <tr style=\"text-align: right;\">\n",
       "      <th></th>\n",
       "      <th>station</th>\n",
       "      <th>count</th>\n",
       "    </tr>\n",
       "  </thead>\n",
       "  <tbody>\n",
       "    <tr>\n",
       "      <th>0</th>\n",
       "      <td>Streeter Dr &amp; Grand Ave</td>\n",
       "      <td>71269</td>\n",
       "    </tr>\n",
       "    <tr>\n",
       "      <th>1</th>\n",
       "      <td>DuSable Lake Shore Dr &amp; Monroe St</td>\n",
       "      <td>39251</td>\n",
       "    </tr>\n",
       "    <tr>\n",
       "      <th>2</th>\n",
       "      <td>DuSable Lake Shore Dr &amp; North Blvd</td>\n",
       "      <td>37698</td>\n",
       "    </tr>\n",
       "    <tr>\n",
       "      <th>3</th>\n",
       "      <td>Michigan Ave &amp; Oak St</td>\n",
       "      <td>37208</td>\n",
       "    </tr>\n",
       "    <tr>\n",
       "      <th>4</th>\n",
       "      <td>Wells St &amp; Concord Ln</td>\n",
       "      <td>34508</td>\n",
       "    </tr>\n",
       "    <tr>\n",
       "      <th>5</th>\n",
       "      <td>Millennium Park</td>\n",
       "      <td>32849</td>\n",
       "    </tr>\n",
       "    <tr>\n",
       "      <th>6</th>\n",
       "      <td>Clark St &amp; Elm St</td>\n",
       "      <td>32560</td>\n",
       "    </tr>\n",
       "    <tr>\n",
       "      <th>7</th>\n",
       "      <td>Kingsbury St &amp; Kinzie St</td>\n",
       "      <td>31614</td>\n",
       "    </tr>\n",
       "    <tr>\n",
       "      <th>8</th>\n",
       "      <td>Theater on the Lake</td>\n",
       "      <td>31283</td>\n",
       "    </tr>\n",
       "    <tr>\n",
       "      <th>9</th>\n",
       "      <td>Wells St &amp; Elm St</td>\n",
       "      <td>28978</td>\n",
       "    </tr>\n",
       "  </tbody>\n",
       "</table>\n",
       "</div>"
      ],
      "text/plain": [
       "                              station  count\n",
       "0             Streeter Dr & Grand Ave  71269\n",
       "1   DuSable Lake Shore Dr & Monroe St  39251\n",
       "2  DuSable Lake Shore Dr & North Blvd  37698\n",
       "3               Michigan Ave & Oak St  37208\n",
       "4               Wells St & Concord Ln  34508\n",
       "5                     Millennium Park  32849\n",
       "6                   Clark St & Elm St  32560\n",
       "7            Kingsbury St & Kinzie St  31614\n",
       "8                 Theater on the Lake  31283\n",
       "9                   Wells St & Elm St  28978"
      ]
     },
     "execution_count": 124,
     "metadata": {},
     "output_type": "execute_result"
    }
   ],
   "source": [
    "top_10_station_start"
   ]
  },
  {
   "cell_type": "code",
   "execution_count": 125,
   "id": "2e4724a0",
   "metadata": {},
   "outputs": [
    {
     "data": {
      "text/plain": [
       "Text(0.5, 1.0, 'top 10 station people starts from')"
      ]
     },
     "execution_count": 125,
     "metadata": {},
     "output_type": "execute_result"
    },
    {
     "data": {
      "image/png": "[encoded data removed]",
      "text/plain": [
       "<Figure size 1800x500 with 1 Axes>"
      ]
     },
     "metadata": {},
     "output_type": "display_data"
    }
   ],
   "source": [
    "plt.figure(figsize=(18,5))\n",
    "plt.xticks(rotation=60)\n",
    "sns.barplot(x='station',y='count',data=top_10_station_start)\n",
    "plt.title('top 10 station people starts from')"
   ]
  },
  {
   "cell_type": "code",
   "execution_count": 126,
   "id": "c6c084ae",
   "metadata": {},
   "outputs": [
    {
     "data": {
      "text/html": [
       "<div>\n",
       "<style scoped>\n",
       "    .dataframe tbody tr th:only-of-type {\n",
       "        vertical-align: middle;\n",
       "    }\n",
       "\n",
       "    .dataframe tbody tr th {\n",
       "        vertical-align: top;\n",
       "    }\n",
       "\n",
       "    .dataframe thead th {\n",
       "        text-align: right;\n",
       "    }\n",
       "</style>\n",
       "<table border=\"1\" class=\"dataframe\">\n",
       "  <thead>\n",
       "    <tr style=\"text-align: right;\">\n",
       "      <th></th>\n",
       "      <th>end_station_name</th>\n",
       "    </tr>\n",
       "  </thead>\n",
       "  <tbody>\n",
       "    <tr>\n",
       "      <th>Streeter Dr &amp; Grand Ave</th>\n",
       "      <td>72540</td>\n",
       "    </tr>\n",
       "    <tr>\n",
       "      <th>DuSable Lake Shore Dr &amp; North Blvd</th>\n",
       "      <td>40563</td>\n",
       "    </tr>\n",
       "    <tr>\n",
       "      <th>DuSable Lake Shore Dr &amp; Monroe St</th>\n",
       "      <td>38500</td>\n",
       "    </tr>\n",
       "    <tr>\n",
       "      <th>Michigan Ave &amp; Oak St</th>\n",
       "      <td>38279</td>\n",
       "    </tr>\n",
       "    <tr>\n",
       "      <th>Wells St &amp; Concord Ln</th>\n",
       "      <td>34688</td>\n",
       "    </tr>\n",
       "    <tr>\n",
       "      <th>Millennium Park</th>\n",
       "      <td>33705</td>\n",
       "    </tr>\n",
       "    <tr>\n",
       "      <th>Clark St &amp; Elm St</th>\n",
       "      <td>32227</td>\n",
       "    </tr>\n",
       "    <tr>\n",
       "      <th>Theater on the Lake</th>\n",
       "      <td>31672</td>\n",
       "    </tr>\n",
       "    <tr>\n",
       "      <th>Kingsbury St &amp; Kinzie St</th>\n",
       "      <td>30450</td>\n",
       "    </tr>\n",
       "    <tr>\n",
       "      <th>Wells St &amp; Elm St</th>\n",
       "      <td>28346</td>\n",
       "    </tr>\n",
       "  </tbody>\n",
       "</table>\n",
       "</div>"
      ],
      "text/plain": [
       "                                    end_station_name\n",
       "Streeter Dr & Grand Ave                        72540\n",
       "DuSable Lake Shore Dr & North Blvd             40563\n",
       "DuSable Lake Shore Dr & Monroe St              38500\n",
       "Michigan Ave & Oak St                          38279\n",
       "Wells St & Concord Ln                          34688\n",
       "Millennium Park                                33705\n",
       "Clark St & Elm St                              32227\n",
       "Theater on the Lake                            31672\n",
       "Kingsbury St & Kinzie St                       30450\n",
       "Wells St & Elm St                              28346"
      ]
     },
     "execution_count": 126,
     "metadata": {},
     "output_type": "execute_result"
    }
   ],
   "source": [
    "top_10_station_end"
   ]
  },
  {
   "cell_type": "code",
   "execution_count": 127,
   "id": "d125342c",
   "metadata": {},
   "outputs": [
    {
     "data": {
      "image/png": "[encoded data removed]",
      "text/plain": [
       "<Figure size 1800x500 with 1 Axes>"
      ]
     },
     "metadata": {},
     "output_type": "display_data"
    }
   ],
   "source": [
    "plt.figure(figsize=(18,5))\n",
    "plt.xticks(rotation=60)\n",
    "sns.barplot(x=top_10_station_end.index,y=top_10_station_end['end_station_name'],data=top_10_station_start)\n",
    "plt.title('top 10 station people starts from')\n",
    "plt.show()"
   ]
  },
  {
   "cell_type": "markdown",
   "id": "ce994412",
   "metadata": {},
   "source": [
    "## Share"
   ]
  },
  {
   "cell_type": "markdown",
   "id": "2ff789d7",
   "metadata": {},
   "source": [
    "- **Business Objective**: To maximize the number of annual memberships by converting casual riders to annual members."
   ]
  },
  {
   "cell_type": "markdown",
   "id": "8662bce4",
   "metadata": {},
   "source": [
    "*  The bike usage trend highlightes the purpose for which the bikes are used. \n",
    "\n",
    "\n",
    "* Member riders tend to have annual memberships because they use bicycles more frequently, often for daily commutes over shorter distances.\n",
    "\n",
    "\n",
    "* Casual riders tend to use bicycles more often for leisure or personal activities, and their usage is higher on weekends.\n",
    "\n",
    "\n",
    "* The summer months are a more popular period, and businesses can focus on this time to maximize profits.\n",
    "\n",
    "\n",
    "* A special \"Summer Membership\" could be introduced specifically for casual riders who are hesitant to commit to an annual membership.\n",
    "\n",
    "\n",
    "* Coupons and discount schemes could be introduced to incentivize casual riders to increase their bike usage on weekdays or for shorter distance journeys.\n",
    "\n",
    "\n",
    "* It is important for the business to promote the idea of using bikes regularly, not just for leisure activities, among casual riders.\n",
    "\n",
    "\n",
    "\n",
    "*  To increase the size of our annual membership, we could offer special discounts on weekends. This strategy could be effective because our analysis shows that casual riders tend to ride more frequently on weekends\n",
    "\n",
    "\n",
    "*  Casual members tend to have a longer average ride time than annual members. To increase our annual membership base, we could offer discounts to casual members based on ride duration, such as a 10% discount for rides lasting 10 minutes or more (on weekends). This discount could be limited to one use per casual member, and subsequent attempts to use the discount could trigger a notification informing them that these benefits are exclusive to annual members. \n",
    "\n",
    "\n",
    "*  We could also advertise on our platform about the benefits of a cleaner environment, emphasizing that the more we ride, the more we contribute to saving the environment. Such ads should be targeted towards casual members, as they may become more environmentally conscious and consider upgrading to an annual membership.\n",
    "\n",
    "\n",
    "*  The number of docked bikes is lower than that of classic and electric bikes. To incentivize the use of docked bikes, we could offer discounts, but only to annual members. This strategy could encourage casual members to upgrade to an annual membership.\n",
    "\n",
    "**Other Revenue generate**<br>\n",
    "* Based on the analysis, the top 10 starting stations and top 10 ending stations are almost the same. This information can be leveraged to generate more revenue by sharing it with food stalls, event companies, or entertainment companies, allowing them to target areas of high bike traffic and potentially increase their revenue.\n"
   ]
  }
 ],
 "metadata": {
  "kernelspec": {
   "display_name": "Python 3 (ipykernel)",
   "language": "python",
   "name": "python3"
  },
  "language_info": {
   "codemirror_mode": {
    "name": "ipython",
    "version": 3
   },
   "file_extension": ".py",
   "mimetype": "text/x-python",
   "name": "python",
   "nbconvert_exporter": "python",
   "pygments_lexer": "ipython3",
   "version": "3.9.13"
  }
 },
 "nbformat": 4,
 "nbformat_minor": 5
}
